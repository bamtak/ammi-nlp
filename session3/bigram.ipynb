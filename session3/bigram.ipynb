{
 "cells": [
  {
   "cell_type": "code",
   "execution_count": 1,
   "metadata": {},
   "outputs": [],
   "source": [
    "import io, sys, math, re\n",
    "from collections import defaultdict\n",
    "import numpy as np"
   ]
  },
  {
   "cell_type": "code",
   "execution_count": 2,
   "metadata": {},
   "outputs": [],
   "source": [
    "# dataloader\n",
    "\n",
    "def load_data(filename):\n",
    "    fin = io.open(filename, 'r', encoding='utf-8')\n",
    "    data = []\n",
    "    vocab = defaultdict(lambda:0)\n",
    "    for line in fin:\n",
    "        sentence = line.split()\n",
    "        data.append(sentence)\n",
    "        for word in sentence:\n",
    "            vocab[word] += 1\n",
    "    return data, vocab"
   ]
  },
  {
   "cell_type": "code",
   "execution_count": 3,
   "metadata": {},
   "outputs": [],
   "source": [
    "def remove_rare_words(data, vocab, mincount=10):\n",
    "    ## FILL CODE\n",
    "    # replace words in data that are not in the vocab \n",
    "    # or have a count that is below mincount\n",
    "    return [[w if w in vocab and vocab[w] >= mincount else '<unk>' for w in l_w] for l_w in data]"
   ]
  },
  {
   "cell_type": "code",
   "execution_count": 4,
   "metadata": {},
   "outputs": [
    {
     "name": "stdout",
     "output_type": "stream",
     "text": [
      "load validation set\n"
     ]
    }
   ],
   "source": [
    "# LOAD DATA\n",
    "\n",
    "train_data, vocab = load_data(\"train2.txt\")\n",
    "## FILL CODE \n",
    "# If you have a Out of Vocabulary error (OOV) \n",
    "# call the function \"remove_rare_words\" to replace \n",
    "# rare words with <unk> in the dataset\n",
    "train_data = remove_rare_words(train_data, vocab)\n",
    "\n",
    "print(\"load validation set\")\n",
    "valid_data, _ = load_data(\"valid2.txt\")\n",
    "## FILL CODE \n",
    "# If you have a Out of Vocabulary error (OOV) \n",
    "# call the function \"remove_rare_words\" to replace \n",
    "# OOV with <unk> in the dataset\n",
    "valid_data = remove_rare_words(valid_data, vocab)"
   ]
  },
  {
   "cell_type": "code",
   "execution_count": 5,
   "metadata": {},
   "outputs": [],
   "source": [
    "# Function to build a bigram model\n",
    "\n",
    "def build_bigram(data):\n",
    "    unigram_counts = defaultdict(lambda:0)\n",
    "    bigram_counts  = defaultdict(lambda: defaultdict(lambda: 0.0))\n",
    "    total_number_words = 0\n",
    "\n",
    "    ## FILL CODE\n",
    "    # Store the unigram and bigram counts as well as the total \n",
    "    # number of words in the dataset\n",
    "    for l_w in data:\n",
    "        p = l_w[0]\n",
    "        unigram_counts[p] += 1\n",
    "        total_number_words += len(l_w)\n",
    "        for w in l_w[1:]:\n",
    "            unigram_counts[w] += 1\n",
    "            bigram_counts[p][w] += 1\n",
    "            p = w\n",
    "            \n",
    "    unigram_prob = defaultdict(lambda:0)\n",
    "    bigram_prob = defaultdict(lambda: defaultdict(lambda: 0.0))\n",
    "    \n",
    "    for w in unigram_counts:\n",
    "        unigram_prob[w] = 1.0 * unigram_counts[w] / total_number_words\n",
    "        \n",
    "    for p in bigram_counts:\n",
    "        s = sum(bigram_counts[p].values())\n",
    "        for w in bigram_counts[p]:\n",
    "            bigram_prob[p][w] = 1.0 * bigram_counts[p][w] / s\n",
    "    ## FILL CODE\n",
    "    # Build unigram and bigram probabilities from counts\n",
    "    \n",
    "\n",
    "    return {'bigram': bigram_prob, 'unigram': unigram_prob}"
   ]
  },
  {
   "cell_type": "code",
   "execution_count": 6,
   "metadata": {},
   "outputs": [
    {
     "name": "stdout",
     "output_type": "stream",
     "text": [
      "build bigram model\n"
     ]
    },
    {
     "data": {
      "text/plain": [
       "{'bigram': defaultdict(<function __main__.<lambda>>,\n",
       "             {u',': defaultdict(<function __main__.<lambda>>,\n",
       "                          {u'however': 1.0}),\n",
       "              u'.': defaultdict(<function __main__.<lambda>>, {u'</s>': 1.0}),\n",
       "              u'<s>': defaultdict(<function __main__.<lambda>>,\n",
       "                          {u'i': 0.5, u'you': 0.5}),\n",
       "              u'adopted': defaultdict(<function __main__.<lambda>>,\n",
       "                          {u'it': 1.0}),\n",
       "              u'and': defaultdict(<function __main__.<lambda>>,\n",
       "                          {u'adopted': 1.0}),\n",
       "              u'are': defaultdict(<function __main__.<lambda>>,\n",
       "                          {u'wrong': 1.0}),\n",
       "              u'however': defaultdict(<function __main__.<lambda>>,\n",
       "                          {u'.': 1.0}),\n",
       "              u'i': defaultdict(<function __main__.<lambda>>, {u'liked': 1.0}),\n",
       "              u'idea': defaultdict(<function __main__.<lambda>>,\n",
       "                          {u'and': 1.0}),\n",
       "              u'it': defaultdict(<function __main__.<lambda>>, {u'.': 1.0}),\n",
       "              u'liked': defaultdict(<function __main__.<lambda>>,\n",
       "                          {u'your': 1.0}),\n",
       "              u'wrong': defaultdict(<function __main__.<lambda>>, {u',': 1.0}),\n",
       "              u'you': defaultdict(<function __main__.<lambda>>, {u'are': 1.0}),\n",
       "              u'your': defaultdict(<function __main__.<lambda>>,\n",
       "                          {u'idea': 1.0})}),\n",
       " 'unigram': defaultdict(<function __main__.<lambda>>,\n",
       "             {u',': 0.05555555555555555,\n",
       "              u'.': 0.1111111111111111,\n",
       "              u'</s>': 0.1111111111111111,\n",
       "              u'<s>': 0.1111111111111111,\n",
       "              u'adopted': 0.05555555555555555,\n",
       "              u'and': 0.05555555555555555,\n",
       "              u'are': 0.05555555555555555,\n",
       "              u'however': 0.05555555555555555,\n",
       "              u'i': 0.05555555555555555,\n",
       "              u'idea': 0.05555555555555555,\n",
       "              u'it': 0.05555555555555555,\n",
       "              u'liked': 0.05555555555555555,\n",
       "              u'wrong': 0.05555555555555555,\n",
       "              u'you': 0.05555555555555555,\n",
       "              u'your': 0.05555555555555555})}"
      ]
     },
     "execution_count": 6,
     "metadata": {},
     "output_type": "execute_result"
    }
   ],
   "source": [
    "# RUN TO BUILD BIGRAM MODEL\n",
    "\n",
    "print(\"build bigram model\")\n",
    "model = build_bigram(train_data[:2])\n",
    "model"
   ]
  },
  {
   "cell_type": "code",
   "execution_count": 7,
   "metadata": {},
   "outputs": [],
   "source": [
    "def get_prob(model, w1, w2):\n",
    "    # Should return the probability of the bigram (w1w2) if it exists\n",
    "    # Else it return the probility of unigram (w2) multiply by 0.4\n",
    "    assert model[\"unigram\"][w2] != 0, \"Out of Vocabulary word!\"\n",
    "    bigram, unigram = model['bigram'], model['unigram']\n",
    "    return bigram[w1][w2] if bigram[w1][w2] != 0 else 0.4 * unigram[w2]\n",
    "\n",
    "def perplexity(model, data):\n",
    "    # follow the formula in the slides\n",
    "    # call the function get_prob to get P(w2 | w1)\n",
    "    score = count = 0\n",
    "    for l_w in data:\n",
    "        p = l_w[0]\n",
    "        for w in l_w[1:]:\n",
    "            score += np.log(get_prob(model, p, w))\n",
    "            p = w\n",
    "        count += len(l_w)\n",
    "    return - score/count"
   ]
  },
  {
   "cell_type": "code",
   "execution_count": 8,
   "metadata": {},
   "outputs": [
    {
     "name": "stdout",
     "output_type": "stream",
     "text": [
      "('The perplexity is', 3.5774067797000098)\n"
     ]
    }
   ],
   "source": [
    "# COMPUTE PERPLEXITY ON VALIDATION SET\n",
    "\n",
    "print(\"The perplexity is\", perplexity(model, valid_data))"
   ]
  },
  {
   "cell_type": "code",
   "execution_count": 9,
   "metadata": {},
   "outputs": [],
   "source": [
    "def generate(model):\n",
    "    sentence = [\"<s>\"]\n",
    "    # generate a sentence. A sentence starts with a <s> and ends with a </s>\n",
    "    # Possiblly a use function is:\n",
    "    #   np.random.choice(x, 1, p = y)\n",
    "    # where x is a list of things to sample from\n",
    "    # and y is a list of probability (of the same length as x)\n",
    "    p, bigram = sentence[0], model['bigram']\n",
    "    while True :\n",
    "        p = np.random.choice(list(bigram[p].keys()), 1, p = list(bigram[p].values()))[0]\n",
    "        sentence.append(p)\n",
    "        if p == \"</s>\": break\n",
    "    return sentence"
   ]
  },
  {
   "cell_type": "code",
   "execution_count": 10,
   "metadata": {},
   "outputs": [
    {
     "name": "stdout",
     "output_type": "stream",
     "text": [
      "('Generated sentence: ', ['<s>', u'how', u'to', u'find', u'me', u'at', u'first', u'japanese', u'art', u'.', u'</s>'])\n"
     ]
    }
   ],
   "source": [
    "# GENERATE A SENTENCE FROM THE MODEL\n",
    "\n",
    "print(\"Generated sentence: \",generate(model))"
   ]
  },
  {
   "cell_type": "code",
   "execution_count": null,
   "metadata": {},
   "outputs": [],
   "source": []
  },
  {
   "cell_type": "code",
   "execution_count": null,
   "metadata": {},
   "outputs": [],
   "source": []
  }
 ],
 "metadata": {
  "kernelspec": {
   "display_name": "python3",
   "language": "python",
   "name": "python3"
  },
  "language_info": {
   "codemirror_mode": {
    "name": "ipython",
    "version": 2
   },
   "file_extension": ".py",
   "mimetype": "text/x-python",
   "name": "python",
   "nbconvert_exporter": "python",
   "pygments_lexer": "ipython2",
   "version": "2.7.16"
  }
 },
 "nbformat": 4,
 "nbformat_minor": 2
}
