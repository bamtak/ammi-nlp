{
 "cells": [
  {
   "cell_type": "code",
   "execution_count": 163,
   "metadata": {},
   "outputs": [],
   "source": [
    "import io, sys, math, re\n",
    "from collections import defaultdict\n",
    "import numpy as np"
   ]
  },
  {
   "cell_type": "code",
   "execution_count": 193,
   "metadata": {},
   "outputs": [],
   "source": [
    "# dataloader\n",
    "\n",
    "def load_data(filename):\n",
    "    fin = io.open(filename, 'r', encoding='utf-8')\n",
    "    data = []\n",
    "    vocab = defaultdict(lambda:0)\n",
    "    for line in fin:\n",
    "        sentence = line.split()\n",
    "        data.append(sentence)\n",
    "        for word in sentence:\n",
    "            vocab[word] += 1\n",
    "    return data, vocab"
   ]
  },
  {
   "cell_type": "code",
   "execution_count": 194,
   "metadata": {},
   "outputs": [],
   "source": [
    "def remove_rare_words(data, vocab, mincount=10):\n",
    "    ## FILL CODE\n",
    "    # replace words in data that are not in the vocab \n",
    "    # or have a count that is below mincount\n",
    "    return [[w if w in vocab and vocab[w] >= mincount else '<unk>' for w in l_w] for l_w in data]"
   ]
  },
  {
   "cell_type": "code",
   "execution_count": 204,
   "metadata": {},
   "outputs": [
    {
     "name": "stdout",
     "output_type": "stream",
     "text": [
      "load validation set\n"
     ]
    }
   ],
   "source": [
    "# LOAD DATA\n",
    "\n",
    "train_data, vocab = load_data(\"train2.txt\")\n",
    "## FILL CODE \n",
    "# If you have a Out of Vocabulary error (OOV) \n",
    "# call the function \"remove_rare_words\" to replace \n",
    "# rare words with <unk> in the dataset\n",
    "train_data = remove_rare_words(train_data, vocab)\n",
    "\n",
    "print(\"load validation set\")\n",
    "valid_data, _ = load_data(\"valid2.txt\")\n",
    "## FILL CODE \n",
    "# If you have a Out of Vocabulary error (OOV) \n",
    "# call the function \"remove_rare_words\" to replace \n",
    "# OOV with <unk> in the dataset\n",
    "valid_data = remove_rare_words(valid_data, vocab)"
   ]
  },
  {
   "cell_type": "code",
   "execution_count": 205,
   "metadata": {},
   "outputs": [],
   "source": [
    "def build_ngram(data, n):\n",
    "    total_number_words = 0\n",
    "    counts = defaultdict(lambda: defaultdict(lambda: 0.0))\n",
    "    \n",
    "    for sentence in data:\n",
    "        for i in range(len(sentence)):\n",
    "            temp = sentence[i:n+i]\n",
    "            for j in range(len(temp)):\n",
    "                counts[tuple(temp[:j])][temp[j]] += 1\n",
    "\n",
    "    prob  = defaultdict(lambda: defaultdict(lambda: 0.0))\n",
    "    for p in counts:\n",
    "        s = sum(counts[p].values())\n",
    "        for w in counts[p]:\n",
    "            prob[p][w] = 1.0 * counts[p][w] / s\n",
    "\n",
    "    return prob"
   ]
  },
  {
   "cell_type": "code",
   "execution_count": 224,
   "metadata": {},
   "outputs": [
    {
     "name": "stdout",
     "output_type": "stream",
     "text": [
      "('build ngram model with n = ', 4)\n"
     ]
    }
   ],
   "source": [
    "# RUN TO BUILD NGRAM MODEL\n",
    "\n",
    "n = 4\n",
    "print(\"build ngram model with n = \", n)\n",
    "model = build_ngram(train_data, n)"
   ]
  },
  {
   "cell_type": "code",
   "execution_count": 225,
   "metadata": {},
   "outputs": [],
   "source": [
    "def get_prob(model, context, w):\n",
    "    ## FILL CODE\n",
    "    # code a recursive function over \n",
    "    # smaller and smaller context\n",
    "    # to compute the backoff model\n",
    "    # Bonus: You can also code an interpolation model this way\n",
    "    return model[tuple(context)][w] if model[tuple(context)][w] != 0 else 0.4 * get_prob(model, context[1:], w)\n",
    "\n",
    "def perplexity(model, data, n):\n",
    "    score = count = 0\n",
    "    for l_w in data:\n",
    "        context = l_w[:n-1]\n",
    "        for w in l_w[n-1:]:\n",
    "            score += np.log(get_prob(model, context, w))\n",
    "            if context:\n",
    "                context.pop(0)\n",
    "                context.append(w)\n",
    "        count += len(l_w)\n",
    "    return - score/count"
   ]
  },
  {
   "cell_type": "code",
   "execution_count": 226,
   "metadata": {
    "scrolled": false
   },
   "outputs": [
    {
     "name": "stdout",
     "output_type": "stream",
     "text": [
      "('The perplexity is', 2.7550588326584986)\n"
     ]
    }
   ],
   "source": [
    "# COMPUTE PERPLEXITY ON VALIDATION SET\n",
    "\n",
    "print(\"The perplexity is\", perplexity(model, valid_data, n))"
   ]
  },
  {
   "cell_type": "code",
   "execution_count": 227,
   "metadata": {},
   "outputs": [],
   "source": [
    "def get_proba_distrib(model, context):\n",
    "    ## FILL CODE\n",
    "    # code a recursive function over context\n",
    "    # to find the longest available ngram\n",
    "    return model[tuple(context)] if sum(model[tuple(context)].values()) > 0 else get_proba_distrib(model, context[1:])\n",
    "\n",
    "def generate(model):\n",
    "    sentence = [\"<s>\"]\n",
    "    ## FILL CODE\n",
    "    # generate a sentence. A sentence starts with a <s> and ends with a </s>\n",
    "    # Possiblly a use function is:\n",
    "    #   np.random.choice(x, 1, p = y)\n",
    "    # where x is a list of things to sample from\n",
    "    # and y is a list of probability (of the same length as x)\n",
    "    while True :\n",
    "        world_dict = get_proba_distrib(model, sentence)\n",
    "        p = np.random.choice(list(world_dict.keys()), 1, p = list(world_dict.values()))[0]\n",
    "        sentence.append(p)\n",
    "        if p == \"</s>\": break\n",
    "    return sentence"
   ]
  },
  {
   "cell_type": "code",
   "execution_count": 228,
   "metadata": {},
   "outputs": [
    {
     "name": "stdout",
     "output_type": "stream",
     "text": [
      "('Generated sentence: ', ['<s>', u'we', u'had', u'a', u'rough', u'flight', u'because', u'of', u'the', u'heavy', u'traffic', u',', u'we', u'arrived', u'on', u'the', u'scene', u'.', u'</s>'])\n"
     ]
    }
   ],
   "source": [
    "# GENERATE A SENTENCE FROM THE MODEL\n",
    "\n",
    "print(\"Generated sentence: \",generate(model))"
   ]
  },
  {
   "cell_type": "code",
   "execution_count": null,
   "metadata": {},
   "outputs": [],
   "source": []
  }
 ],
 "metadata": {
  "kernelspec": {
   "display_name": "python3",
   "language": "python",
   "name": "python3"
  },
  "language_info": {
   "codemirror_mode": {
    "name": "ipython",
    "version": 2
   },
   "file_extension": ".py",
   "mimetype": "text/x-python",
   "name": "python",
   "nbconvert_exporter": "python",
   "pygments_lexer": "ipython2",
   "version": "2.7.16"
  }
 },
 "nbformat": 4,
 "nbformat_minor": 2
}
