{
  "nbformat": 4,
  "nbformat_minor": 0,
  "metadata": {
    "kernelspec": {
      "display_name": "python3",
      "language": "python",
      "name": "python3"
    },
    "language_info": {
      "codemirror_mode": {
        "name": "ipython",
        "version": 2
      },
      "file_extension": ".py",
      "mimetype": "text/x-python",
      "name": "python",
      "nbconvert_exporter": "python",
      "pygments_lexer": "ipython2",
      "version": "2.7.16"
    },
    "colab": {
      "name": "bigram.ipynb",
      "provenance": []
    }
  },
  "cells": [
    {
      "cell_type": "code",
      "metadata": {
        "id": "hcmR12kRUZIB",
        "colab_type": "code",
        "colab": {}
      },
      "source": [
        "import io, sys, math, re\n",
        "from collections import defaultdict\n",
        "import numpy as np"
      ],
      "execution_count": 0,
      "outputs": []
    },
    {
      "cell_type": "code",
      "metadata": {
        "id": "l5Jdt69_UZIK",
        "colab_type": "code",
        "colab": {}
      },
      "source": [
        "# dataloader\n",
        "\n",
        "def load_data(filename):\n",
        "    fin = io.open(filename, 'r', encoding='utf-8')\n",
        "    data = []\n",
        "    vocab = defaultdict(lambda:0)\n",
        "    for line in fin:\n",
        "        sentence = line.split()\n",
        "        data.append(sentence)\n",
        "        for word in sentence:\n",
        "            vocab[word] += 1\n",
        "    return data, vocab"
      ],
      "execution_count": 0,
      "outputs": []
    },
    {
      "cell_type": "code",
      "metadata": {
        "id": "jel-nmjsUZIT",
        "colab_type": "code",
        "colab": {}
      },
      "source": [
        "def remove_rare_words(data, vocab, mincount=10):\n",
        "    ## FILL CODE\n",
        "    # replace words in data that are not in the vocab \n",
        "    # or have a count that is below mincount\n",
        "    return [[w if vocab[w] >= mincount else '<unk>' for w in l_w] for l_w in data]"
      ],
      "execution_count": 0,
      "outputs": []
    },
    {
      "cell_type": "code",
      "metadata": {
        "id": "iPDUiUGZUZIb",
        "colab_type": "code",
        "colab": {},
        "outputId": "9b34e843-e65f-4c89-d4d8-3880331dfe45"
      },
      "source": [
        "# LOAD DATA\n",
        "\n",
        "train_data, vocab = load_data(\"train2.txt\")\n",
        "## FILL CODE \n",
        "# If you have a Out of Vocabulary error (OOV) \n",
        "# call the function \"remove_rare_words\" to replace \n",
        "# rare words with <unk> in the dataset\n",
        "train_data = remove_rare_words(train_data, vocab)\n",
        "\n",
        "print(\"load validation set\")\n",
        "valid_data, _ = load_data(\"valid2.txt\")\n",
        "## FILL CODE \n",
        "# If you have a Out of Vocabulary error (OOV) \n",
        "# call the function \"remove_rare_words\" to replace \n",
        "# OOV with <unk> in the dataset\n",
        "valid_data = remove_rare_words(valid_data, vocab)"
      ],
      "execution_count": 0,
      "outputs": [
        {
          "output_type": "stream",
          "text": [
            "load validation set\n"
          ],
          "name": "stdout"
        }
      ]
    },
    {
      "cell_type": "code",
      "metadata": {
        "id": "52WmuOqdUZIk",
        "colab_type": "code",
        "colab": {}
      },
      "source": [
        "# Function to build a bigram model\n",
        "\n",
        "def build_bigram(data):\n",
        "    unigram_counts = defaultdict(lambda:0)\n",
        "    bigram_counts  = defaultdict(lambda: defaultdict(lambda: 0.0))\n",
        "    total_number_words = 0\n",
        "\n",
        "    ## FILL CODE\n",
        "    # Store the unigram and bigram counts as well as the total \n",
        "    # number of words in the dataset\n",
        "    for l_w in data:\n",
        "        p = l_w[0]\n",
        "        unigram_counts[p] += 1\n",
        "        total_number_words += len(l_w)\n",
        "        for w in l_w[1:]:\n",
        "            unigram_counts[w] += 1\n",
        "            bigram_counts[p][w] += 1\n",
        "            p = w\n",
        "            \n",
        "    unigram_prob = defaultdict(lambda:0)\n",
        "    bigram_prob = defaultdict(lambda: defaultdict(lambda: 0.0))\n",
        "    \n",
        "    for w in unigram_counts:\n",
        "        unigram_prob[w] = 1.0 * unigram_counts[w] / total_number_words\n",
        "        \n",
        "    for p in bigram_counts:\n",
        "        s = sum(bigram_counts[p].values())\n",
        "        for w in bigram_counts[p]:\n",
        "            bigram_prob[p][w] = 1.0 * bigram_counts[p][w] / s\n",
        "    ## FILL CODE\n",
        "    # Build unigram and bigram probabilities from counts\n",
        "    \n",
        "\n",
        "    return {'bigram': bigram_prob, 'unigram': unigram_prob}"
      ],
      "execution_count": 0,
      "outputs": []
    },
    {
      "cell_type": "code",
      "metadata": {
        "id": "YgJdI2hsUZIs",
        "colab_type": "code",
        "colab": {},
        "outputId": "67764f8f-bc97-42a0-9ba9-3653de058289"
      },
      "source": [
        "# RUN TO BUILD BIGRAM MODEL\n",
        "\n",
        "print(\"build bigram model\")\n",
        "model = build_bigram(train_data)"
      ],
      "execution_count": 0,
      "outputs": [
        {
          "output_type": "stream",
          "text": [
            "build bigram model\n"
          ],
          "name": "stdout"
        }
      ]
    },
    {
      "cell_type": "code",
      "metadata": {
        "id": "KQ9xSkqmUZI2",
        "colab_type": "code",
        "colab": {}
      },
      "source": [
        "def get_prob(model, w1, w2):\n",
        "    # Should return the probability of the bigram (w1w2) if it exists\n",
        "    # Else it return the probility of unigram (w2) multiply by 0.4\n",
        "    assert model[\"unigram\"][w2] != 0, \"Out of Vocabulary word!\"\n",
        "    bigram, unigram = model['bigram'], model['unigram']\n",
        "    return bigram[w1][w2] if bigram[w1][w2] != 0 else 0.4 * unigram[w2]\n",
        "\n",
        "def perplexity(model, data):\n",
        "    # follow the formula in the slides\n",
        "    # call the function get_prob to get P(w2 | w1)\n",
        "    score = count = 0\n",
        "    for l_w in data:\n",
        "        p = l_w[0]\n",
        "        for w in l_w[1:]:\n",
        "            score += np.log(get_prob(model, p, w))\n",
        "            p = w\n",
        "        count += len(l_w)\n",
        "    return - score/count"
      ],
      "execution_count": 0,
      "outputs": []
    },
    {
      "cell_type": "code",
      "metadata": {
        "id": "wtKuRNegUZI9",
        "colab_type": "code",
        "colab": {},
        "outputId": "65ef0b85-d73d-49af-dd3d-96f04c8f2f6f"
      },
      "source": [
        "# COMPUTE PERPLEXITY ON VALIDATION SET\n",
        "\n",
        "print(\"The perplexity is\", perplexity(model, valid_data))"
      ],
      "execution_count": 0,
      "outputs": [
        {
          "output_type": "stream",
          "text": [
            "('The perplexity is', 3.5774067797000098)\n"
          ],
          "name": "stdout"
        }
      ]
    },
    {
      "cell_type": "code",
      "metadata": {
        "id": "1Fz5Odf6UZJF",
        "colab_type": "code",
        "colab": {}
      },
      "source": [
        "def generate(model):\n",
        "    sentence = [\"<s>\"]\n",
        "    # generate a sentence. A sentence starts with a <s> and ends with a </s>\n",
        "    # Possiblly a use function is:\n",
        "    #   np.random.choice(x, 1, p = y)\n",
        "    # where x is a list of things to sample from\n",
        "    # and y is a list of probability (of the same length as x)\n",
        "    p, bigram = sentence[0], model['bigram']\n",
        "    while True :\n",
        "        p = np.random.choice(list(bigram[p].keys()), 1, p = list(bigram[p].values()))[0]\n",
        "        sentence.append(p)\n",
        "        if p == \"</s>\": break\n",
        "    return sentence"
      ],
      "execution_count": 0,
      "outputs": []
    },
    {
      "cell_type": "code",
      "metadata": {
        "id": "BEw6VfVrUZJM",
        "colab_type": "code",
        "colab": {},
        "outputId": "ef46fcd3-f96d-4b8a-9340-7a9a47407335"
      },
      "source": [
        "# GENERATE A SENTENCE FROM THE MODEL\n",
        "\n",
        "print(\"Generated sentence: \",generate(model))"
      ],
      "execution_count": 0,
      "outputs": [
        {
          "output_type": "stream",
          "text": [
            "('Generated sentence: ', ['<s>', u'the', u'train', u'.', u'</s>'])\n"
          ],
          "name": "stdout"
        }
      ]
    },
    {
      "cell_type": "code",
      "metadata": {
        "id": "CqsHmKrOUZJV",
        "colab_type": "code",
        "colab": {}
      },
      "source": [
        ""
      ],
      "execution_count": 0,
      "outputs": []
    },
    {
      "cell_type": "code",
      "metadata": {
        "id": "98sIS3JCUZJb",
        "colab_type": "code",
        "colab": {}
      },
      "source": [
        ""
      ],
      "execution_count": 0,
      "outputs": []
    }
  ]
}