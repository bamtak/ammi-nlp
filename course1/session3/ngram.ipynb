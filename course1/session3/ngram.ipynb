{
  "nbformat": 4,
  "nbformat_minor": 0,
  "metadata": {
    "kernelspec": {
      "display_name": "python3",
      "language": "python",
      "name": "python3"
    },
    "language_info": {
      "codemirror_mode": {
        "name": "ipython",
        "version": 2
      },
      "file_extension": ".py",
      "mimetype": "text/x-python",
      "name": "python",
      "nbconvert_exporter": "python",
      "pygments_lexer": "ipython2",
      "version": "2.7.16"
    },
    "colab": {
      "name": "ngram.ipynb",
      "provenance": []
    }
  },
  "cells": [
    {
      "cell_type": "code",
      "metadata": {
        "id": "XV-X3_x1UaNf",
        "colab_type": "code",
        "colab": {}
      },
      "source": [
        "import io, sys, math, re\n",
        "from collections import defaultdict\n",
        "import numpy as np"
      ],
      "execution_count": 0,
      "outputs": []
    },
    {
      "cell_type": "code",
      "metadata": {
        "id": "ZnFC-nkBUaNn",
        "colab_type": "code",
        "colab": {}
      },
      "source": [
        "# dataloader\n",
        "\n",
        "def load_data(filename):\n",
        "    fin = io.open(filename, 'r', encoding='utf-8')\n",
        "    data = []\n",
        "    vocab = defaultdict(lambda:0)\n",
        "    for line in fin:\n",
        "        sentence = line.split()\n",
        "        data.append(sentence)\n",
        "        for word in sentence:\n",
        "            vocab[word] += 1\n",
        "    return data, vocab"
      ],
      "execution_count": 0,
      "outputs": []
    },
    {
      "cell_type": "code",
      "metadata": {
        "id": "33U8B96oUaNw",
        "colab_type": "code",
        "colab": {}
      },
      "source": [
        "def remove_rare_words(data, vocab, mincount=10):\n",
        "    ## FILL CODE\n",
        "    # replace words in data that are not in the vocab \n",
        "    # or have a count that is below mincount\n",
        "    return [[w if vocab[w] >= mincount else '<unk>' for w in l_w] for l_w in data]"
      ],
      "execution_count": 0,
      "outputs": []
    },
    {
      "cell_type": "code",
      "metadata": {
        "id": "ebF3iy1bUaN2",
        "colab_type": "code",
        "colab": {},
        "outputId": "a2b6f12b-9c6b-4c02-bef7-c34993bb0bd8"
      },
      "source": [
        "# LOAD DATA\n",
        "\n",
        "train_data, vocab = load_data(\"train.txt\")\n",
        "## FILL CODE \n",
        "# If you have a Out of Vocabulary error (OOV) \n",
        "# call the function \"remove_rare_words\" to replace \n",
        "# rare words with <unk> in the dataset\n",
        "train_data = remove_rare_words(train_data, vocab)\n",
        "\n",
        "print(\"load validation set\")\n",
        "valid_data, _ = load_data(\"valid.txt\")\n",
        "## FILL CODE \n",
        "# If you have a Out of Vocabulary error (OOV) \n",
        "# call the function \"remove_rare_words\" to replace \n",
        "# OOV with <unk> in the dataset\n",
        "valid_data = remove_rare_words(valid_data, vocab)"
      ],
      "execution_count": 0,
      "outputs": [
        {
          "output_type": "stream",
          "text": [
            "load validation set\n"
          ],
          "name": "stdout"
        }
      ]
    },
    {
      "cell_type": "code",
      "metadata": {
        "id": "FVz_OAEjUaN-",
        "colab_type": "code",
        "colab": {}
      },
      "source": [
        "def build_ngram(data, n):\n",
        "    total_number_words = 0\n",
        "    counts = defaultdict(lambda: defaultdict(lambda: 0.0))\n",
        "    \n",
        "    for sentence in data:\n",
        "        for i in range(len(sentence)):\n",
        "            temp = sentence[i:n+i]\n",
        "            for j in range(len(temp)):\n",
        "                counts[tuple(temp[:j])][temp[j]] += 1\n",
        "\n",
        "    prob  = defaultdict(lambda: defaultdict(lambda: 0.0))\n",
        "    for p in counts:\n",
        "        s = sum(counts[p].values())\n",
        "        for w in counts[p]:\n",
        "            prob[p][w] = 1.0 * counts[p][w] / s\n",
        "\n",
        "    return prob"
      ],
      "execution_count": 0,
      "outputs": []
    },
    {
      "cell_type": "code",
      "metadata": {
        "id": "4qh4-UL5UaOF",
        "colab_type": "code",
        "colab": {},
        "outputId": "d4cdb3f0-d682-4948-c734-0339987604e0"
      },
      "source": [
        "# RUN TO BUILD NGRAM MODEL\n",
        "\n",
        "n = 2\n",
        "print(\"build ngram model with n = \", n)\n",
        "model = build_ngram(train_data, n)"
      ],
      "execution_count": 0,
      "outputs": [
        {
          "output_type": "stream",
          "text": [
            "('build ngram model with n = ', 2)\n"
          ],
          "name": "stdout"
        }
      ]
    },
    {
      "cell_type": "code",
      "metadata": {
        "id": "Bk5eJmB1UaOO",
        "colab_type": "code",
        "colab": {}
      },
      "source": [
        "def get_prob(model, context, w):\n",
        "    ## FILL CODE\n",
        "    # code a recursive function over \n",
        "    # smaller and smaller context\n",
        "    # to compute the backoff model\n",
        "    # Bonus: You can also code an interpolation model this way\n",
        "    return model[tuple(context)][w] if model[tuple(context)][w] != 0 else 0.4 * get_prob(model, context[1:], w)\n",
        "\n",
        "def perplexity(model, data, n):\n",
        "    score = count = 0\n",
        "    for l_w in data:\n",
        "        context = l_w[:n-1]\n",
        "        for w in l_w[n-1:]:\n",
        "            score += np.log(get_prob(model, context, w))\n",
        "            if context:\n",
        "                context.pop(0)\n",
        "                context.append(w)\n",
        "        count += len(l_w)\n",
        "    return - score/count"
      ],
      "execution_count": 0,
      "outputs": []
    },
    {
      "cell_type": "code",
      "metadata": {
        "scrolled": false,
        "id": "BLAhpeXrUaOT",
        "colab_type": "code",
        "colab": {},
        "outputId": "e862ccf0-b5a2-4454-d67a-64c99d7a05c4"
      },
      "source": [
        "# COMPUTE PERPLEXITY ON VALIDATION SET\n",
        "\n",
        "print(\"The perplexity is\", perplexity(model, valid_data, n))"
      ],
      "execution_count": 0,
      "outputs": [
        {
          "output_type": "stream",
          "text": [
            "('The perplexity is', 2.867815629914644)\n"
          ],
          "name": "stdout"
        }
      ]
    },
    {
      "cell_type": "code",
      "metadata": {
        "id": "tB7maoc7UaOZ",
        "colab_type": "code",
        "colab": {}
      },
      "source": [
        "def get_proba_distrib(model, context):\n",
        "    ## FILL CODE\n",
        "    # code a recursive function over context\n",
        "    # to find the longest available ngram\n",
        "    probs = model[tuple(context)]\n",
        "    return probs  if len(probs) > 0 else get_proba_distrib(model, context[1:])\n",
        "\n",
        "def generate(model):\n",
        "    sentence = [\"<s>\"]\n",
        "    ## FILL CODE\n",
        "    # generate a sentence. A sentence starts with a <s> and ends with a </s>\n",
        "    # Possiblly a use function is:\n",
        "    #   np.random.choice(x, 1, p = y)\n",
        "    # where x is a list of things to sample from\n",
        "    # and y is a list of probability (of the same length as x)\n",
        "    while True :\n",
        "        word_dict = get_proba_distrib(model, sentence)\n",
        "        p = np.random.choice(list(word_dict.keys()), 1, p = list(word_dict.values()))[0]\n",
        "        sentence.append(str(p))\n",
        "        if p == \"</s>\": break\n",
        "    return sentence"
      ],
      "execution_count": 0,
      "outputs": []
    },
    {
      "cell_type": "code",
      "metadata": {
        "id": "iMlNNTDCUaOg",
        "colab_type": "code",
        "colab": {},
        "outputId": "10420e47-28bc-40e5-e8a9-0e6a69e4c26e"
      },
      "source": [
        "# GENERATE A SENTENCE FROM THE MODEL\n",
        "\n",
        "print(\"Generated sentence: \",generate(model))"
      ],
      "execution_count": 0,
      "outputs": [
        {
          "output_type": "stream",
          "text": [
            "('Generated sentence: ', ['<s>', 'she', \"didn't\", 'know', 'that', 'mary', 'out', 'of', 'other', '<unk>', 'even', 'so', 'that', 'they', 'were', '<unk>', 'i', 'asked', 'the', 'park', 'is', 'a', 'little', '<unk>', 'of', '<unk>', '</s>'])\n"
          ],
          "name": "stdout"
        }
      ]
    },
    {
      "cell_type": "code",
      "metadata": {
        "id": "ec7sUpsiUaOl",
        "colab_type": "code",
        "colab": {}
      },
      "source": [
        ""
      ],
      "execution_count": 0,
      "outputs": []
    }
  ]
}