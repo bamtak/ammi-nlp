{
  "nbformat": 4,
  "nbformat_minor": 0,
  "metadata": {
    "kernelspec": {
      "display_name": "python3",
      "language": "python",
      "name": "python3"
    },
    "language_info": {
      "codemirror_mode": {
        "name": "ipython",
        "version": 2
      },
      "file_extension": ".py",
      "mimetype": "text/x-python",
      "name": "python",
      "nbconvert_exporter": "python",
      "pygments_lexer": "ipython2",
      "version": "2.7.16"
    },
    "colab": {
      "name": "ngram-checkpoint.ipynb",
      "provenance": [],
      "include_colab_link": true
    }
  },
  "cells": [
    {
      "cell_type": "markdown",
      "metadata": {
        "id": "view-in-github",
        "colab_type": "text"
      },
      "source": [
        "<a href=\"https://colab.research.google.com/github/bamtak/ammi-nlp/blob/master/course1/session3/.ipynb_checkpoints/ngram-checkpoint.ipynb\" target=\"_parent\"><img src=\"https://colab.research.google.com/assets/colab-badge.svg\" alt=\"Open In Colab\"/></a>"
      ]
    },
    {
      "cell_type": "code",
      "metadata": {
        "id": "G6lwheYCUYEv",
        "colab_type": "code",
        "colab": {}
      },
      "source": [
        "import io, sys, math, re\n",
        "from collections import defaultdict\n",
        "import numpy as np"
      ],
      "execution_count": 0,
      "outputs": []
    },
    {
      "cell_type": "code",
      "metadata": {
        "id": "AXYF-IeJUYE4",
        "colab_type": "code",
        "colab": {}
      },
      "source": [
        "# dataloader\n",
        "\n",
        "def load_data(filename):\n",
        "    fin = io.open(filename, 'r', encoding='utf-8')\n",
        "    data = []\n",
        "    vocab = defaultdict(lambda:0)\n",
        "    for line in fin:\n",
        "        sentence = line.split()\n",
        "        data.append(sentence)\n",
        "        for word in sentence:\n",
        "            vocab[word] += 1\n",
        "    return data, vocab"
      ],
      "execution_count": 0,
      "outputs": []
    },
    {
      "cell_type": "code",
      "metadata": {
        "id": "0cbr0zllUYE_",
        "colab_type": "code",
        "colab": {}
      },
      "source": [
        "def remove_rare_words(data, vocab, mincount=10):\n",
        "    ## FILL CODE\n",
        "    # replace words in data that are not in the vocab \n",
        "    # or have a count that is below mincount\n",
        "    return [[w if w in vocab and vocab[w] >= mincount else '<unk>' for w in l_w] for l_w in data]"
      ],
      "execution_count": 0,
      "outputs": []
    },
    {
      "cell_type": "code",
      "metadata": {
        "id": "QX-qvJWIUYFH",
        "colab_type": "code",
        "colab": {}
      },
      "source": [
        "# LOAD DATA\n",
        "\n",
        "print(\"load training set\")\n",
        "train_data, vocab = load_data(\"train.txt\")\n",
        "\n",
        "## FILL CODE\n",
        "# Same as bigram.py\n",
        "\n",
        "print(\"load validation set\")\n",
        "valid_data, _ = load_data(\"valid.txt\")\n",
        "## FILL CODE\n",
        "# Same as bigram.py"
      ],
      "execution_count": 0,
      "outputs": []
    },
    {
      "cell_type": "code",
      "metadata": {
        "id": "DuaV2NY9UYFO",
        "colab_type": "code",
        "colab": {}
      },
      "source": [
        "def build_ngram(data, n):\n",
        "    total_number_words = 0\n",
        "    counts = defaultdict(lambda: defaultdict(lambda: 0.0))\n",
        "\n",
        "    for sentence in data:\n",
        "        sentence = tuple(sentence)\n",
        "        ## FILL CODE\n",
        "        # dict can be indexed by tuples\n",
        "        # store in the same dict all the ngrams\n",
        "        # by using the context as a key and the word as a value\n",
        "\n",
        "    prob  = defaultdict(lambda: defaultdict(lambda: 0.0))\n",
        "    ## FILL CODE\n",
        "    # Build the probabilities from the counts\n",
        "    # Be careful with how you normalize!\n",
        "\n",
        "    return prob"
      ],
      "execution_count": 0,
      "outputs": []
    },
    {
      "cell_type": "code",
      "metadata": {
        "id": "meG01UxQUYFW",
        "colab_type": "code",
        "colab": {}
      },
      "source": [
        "# RUN TO BUILD NGRAM MODEL\n",
        "\n",
        "n = 2\n",
        "print(\"build ngram model with n = \", n)\n",
        "model = build_ngram(train_data, n)"
      ],
      "execution_count": 0,
      "outputs": []
    },
    {
      "cell_type": "code",
      "metadata": {
        "id": "FF-EK17hUYFd",
        "colab_type": "code",
        "colab": {}
      },
      "source": [
        "def get_prob(model, context, w):\n",
        "    ## FILL CODE\n",
        "    # code a recursive function over \n",
        "    # smaller and smaller context\n",
        "    # to compute the backoff model\n",
        "    # Bonus: You can also code an interpolation model this way\n",
        "\n",
        "def perplexity(model, data, n):\n",
        "    ## FILL CODE\n",
        "    # Same as bigram.py\n",
        "    return perp"
      ],
      "execution_count": 0,
      "outputs": []
    },
    {
      "cell_type": "code",
      "metadata": {
        "id": "uKmfDMUVUYFl",
        "colab_type": "code",
        "colab": {}
      },
      "source": [
        "# COMPUTE PERPLEXITY ON VALIDATION SET\n",
        "\n",
        "print(\"The perplexity is\", perplexity(model, valid_data, n))"
      ],
      "execution_count": 0,
      "outputs": []
    },
    {
      "cell_type": "code",
      "metadata": {
        "id": "xV6vWp06UYFs",
        "colab_type": "code",
        "colab": {}
      },
      "source": [
        "def get_proba_distrib(model, context):\n",
        "    ## FILL CODE\n",
        "    # code a recursive function over context\n",
        "    # to find the longest available ngram \n",
        "\n",
        "def generate(model):\n",
        "    ## FILL CODE\n",
        "    # generate a sentence. A sentence starts with a <s> and ends with a </s>\n",
        "    # Possiblly a use function is:\n",
        "    #   np.random.choice(x, 1, p = y)\n",
        "    # where x is a list of things to sample from\n",
        "    # and y is a list of probability (of the same length as x)\n",
        "    return sentence"
      ],
      "execution_count": 0,
      "outputs": []
    },
    {
      "cell_type": "code",
      "metadata": {
        "id": "8H9jLyliUYF2",
        "colab_type": "code",
        "colab": {}
      },
      "source": [
        "# GENERATE A SENTENCE FROM THE MODEL\n",
        "\n",
        "print(\"Generated sentence: \",generate(model))"
      ],
      "execution_count": 0,
      "outputs": []
    }
  ]
}