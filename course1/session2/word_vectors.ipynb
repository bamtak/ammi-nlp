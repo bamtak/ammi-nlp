{
  "nbformat": 4,
  "nbformat_minor": 0,
  "metadata": {
    "kernelspec": {
      "display_name": "python3",
      "language": "python",
      "name": "python3"
    },
    "language_info": {
      "codemirror_mode": {
        "name": "ipython",
        "version": 2
      },
      "file_extension": ".py",
      "mimetype": "text/x-python",
      "name": "python",
      "nbconvert_exporter": "python",
      "pygments_lexer": "ipython2",
      "version": "2.7.16"
    },
    "colab": {
      "name": "word_vectors.ipynb",
      "provenance": [],
      "include_colab_link": true
    }
  },
  "cells": [
    {
      "cell_type": "markdown",
      "metadata": {
        "id": "view-in-github",
        "colab_type": "text"
      },
      "source": [
        "<a href=\"https://colab.research.google.com/github/bamtak/ammi-nlp/blob/master/course1/session2/word_vectors.ipynb\" target=\"_parent\"><img src=\"https://colab.research.google.com/assets/colab-badge.svg\" alt=\"Open In Colab\"/></a>"
      ]
    },
    {
      "cell_type": "code",
      "metadata": {
        "id": "buHcThLlUWLJ",
        "colab_type": "code",
        "colab": {}
      },
      "source": [
        "import io, sys\n",
        "import numpy as np\n",
        "from numpy.linalg import norm\n",
        "from heapq import *"
      ],
      "execution_count": 0,
      "outputs": []
    },
    {
      "cell_type": "code",
      "metadata": {
        "id": "S6WE8D-5UWLY",
        "colab_type": "code",
        "colab": {}
      },
      "source": [
        "def load_vectors(filename):\n",
        "    fin = io.open(filename, 'r', encoding='utf-8', newline='\\n')\n",
        "    n, d = map(int, fin.readline().split())\n",
        "    data = {}\n",
        "    for line in fin:\n",
        "        tokens = line.rstrip().split(' ')\n",
        "        data[tokens[0]] = np.asarray(list(map(float, tokens[1:])))\n",
        "    return data"
      ],
      "execution_count": 0,
      "outputs": []
    },
    {
      "cell_type": "code",
      "metadata": {
        "id": "dmOJCQ2hUWLj",
        "colab_type": "code",
        "colab": {},
        "outputId": "066048ce-4747-409a-e61e-7b337d396465"
      },
      "source": [
        "# Loading word vectors\n",
        "\n",
        "print('')\n",
        "print(' ** Word vectors ** ')\n",
        "print('')\n",
        "\n",
        "word_vectors = load_vectors('wiki.en.vec')"
      ],
      "execution_count": 0,
      "outputs": [
        {
          "output_type": "stream",
          "text": [
            "\n",
            " ** Word vectors ** \n",
            "\n"
          ],
          "name": "stdout"
        }
      ]
    },
    {
      "cell_type": "code",
      "metadata": {
        "id": "SiPywFTKUWLt",
        "colab_type": "code",
        "colab": {}
      },
      "source": [
        "# python"
      ],
      "execution_count": 0,
      "outputs": []
    },
    {
      "cell_type": "code",
      "metadata": {
        "id": "XL4FCAo0UWL5",
        "colab_type": "code",
        "colab": {}
      },
      "source": [
        "## This function computes the cosine similarity between vectors u and v\n",
        "\n",
        "def cosine(u, v):\n",
        "    ## FILL CODE\n",
        "    return u.dot(v) / (norm(u) * norm(v))\n",
        "\n",
        "## This function returns the word corresponding to \n",
        "## nearest neighbor vector of x\n",
        "## The list exclude_words can be used to exclude some\n",
        "## words from the nearest neighbors search"
      ],
      "execution_count": 0,
      "outputs": []
    },
    {
      "cell_type": "code",
      "metadata": {
        "id": "y44pFhleUWMC",
        "colab_type": "code",
        "colab": {},
        "outputId": "8492550b-a5e1-404a-9e0a-ccb2f26b9a52"
      },
      "source": [
        "# compute similarity between words\n",
        "\n",
        "print('similarity(apple, apples) = %.3f' %\n",
        "      cosine(word_vectors['apple'], word_vectors['apples']))\n",
        "print('similarity(apple, banana) = %.3f' %\n",
        "      cosine(word_vectors['apple'], word_vectors['banana']))\n",
        "print('similarity(apple, tiger) = %.3f' %\n",
        "      cosine(word_vectors['apple'], word_vectors['tiger']))"
      ],
      "execution_count": 0,
      "outputs": [
        {
          "output_type": "stream",
          "text": [
            "similarity(apple, apples) = 0.637\n",
            "similarity(apple, banana) = 0.431\n",
            "similarity(apple, tiger) = 0.212\n"
          ],
          "name": "stdout"
        }
      ]
    },
    {
      "cell_type": "code",
      "metadata": {
        "id": "1GpC_PjJUWMO",
        "colab_type": "code",
        "colab": {}
      },
      "source": [
        "## Functions for nearest neighbors\n",
        "\n",
        "def nearest_neighbor(x, word_vectors, exclude_words=[]):\n",
        "    best_score = -1.0\n",
        "    best_word = ''\n",
        "    for label, value in word_vectors.items():\n",
        "        if (x != value).all():\n",
        "            sim = cosine(x, value)\n",
        "            if sim > best_score and label not in exclude_words:\n",
        "                best_score = sim\n",
        "                best_word = label\n",
        "    ## FILL CODE\n",
        "    return best_word\n",
        "\n",
        "## This function return the words corresponding to the\n",
        "## K nearest neighbors of vector x.\n",
        "## You can use the functions heappush and heappop.\n",
        "\n",
        "def knn(x, vectors, k):\n",
        "    heap = []\n",
        "    for word, vector in vectors.items():\n",
        "        if (x != vector).all():\n",
        "            heappush(heap, (cosine(x, vector), word))\n",
        "            if len(heap) > k:\n",
        "                heappop(heap)\n",
        "    return [heappop(heap) for i in range(len(heap))][::-1]"
      ],
      "execution_count": 0,
      "outputs": []
    },
    {
      "cell_type": "code",
      "metadata": {
        "id": "jdeaf3eTUWMa",
        "colab_type": "code",
        "colab": {},
        "outputId": "10bb5a93-e304-4cb6-b183-028899f6234e"
      },
      "source": [
        "# looking at nearest neighbors of a word\n",
        "\n",
        "print('The nearest neighbor of cat is: ' +\n",
        "      nearest_neighbor(word_vectors['cat'], word_vectors))\n",
        "\n",
        "knn_cat = knn(word_vectors['cat'], word_vectors, 5)\n",
        "print('')\n",
        "print('cat')\n",
        "print('--------------')\n",
        "for score, word in knn(word_vectors['cat'], word_vectors, 5):\n",
        "    print(word + '\\t%.3f' % score)"
      ],
      "execution_count": 0,
      "outputs": [
        {
          "output_type": "stream",
          "text": [
            "The nearest neighbor of cat is: cats\n",
            "\n",
            "cat\n",
            "--------------\n",
            "cats\t0.732\n",
            "dog\t0.638\n",
            "pet\t0.573\n",
            "rabbit\t0.549\n",
            "dogs\t0.538\n"
          ],
          "name": "stdout"
        }
      ]
    },
    {
      "cell_type": "code",
      "metadata": {
        "id": "LfokIQftUWMf",
        "colab_type": "code",
        "colab": {}
      },
      "source": [
        "## This function return the word d, such that a:b and c:d\n",
        "## verifies the same relation\n",
        "\n",
        "def analogy(a, b, c, word_vectors):\n",
        "    ## FILL CODE\n",
        "    d = word_vectors[b] - word_vectors[a] + word_vectors[c]\n",
        "    return nearest_neighbor(d, word_vectors, [a, b, c])"
      ],
      "execution_count": 0,
      "outputs": []
    },
    {
      "cell_type": "code",
      "metadata": {
        "id": "8hf4k-nGUWMn",
        "colab_type": "code",
        "colab": {},
        "outputId": "48eb8786-c5e2-4d55-8e11-a41076ea9759"
      },
      "source": [
        "# Word analogies\n",
        "\n",
        "print('')\n",
        "print('france - paris + rome = ' + analogy('paris', 'france', 'rome', word_vectors))"
      ],
      "execution_count": 0,
      "outputs": [
        {
          "output_type": "stream",
          "text": [
            "\n",
            "france - paris + rome = italy\n"
          ],
          "name": "stdout"
        }
      ]
    },
    {
      "cell_type": "code",
      "metadata": {
        "id": "HXujqDJIUWMt",
        "colab_type": "code",
        "colab": {},
        "outputId": "6cd36f2a-8681-4754-d4b1-d8facf5b08b6"
      },
      "source": [
        "# Word analogies\n",
        "\n",
        "print('')\n",
        "print('woman - girl + boy = ' + analogy('girl', 'woman', 'boy', word_vectors))"
      ],
      "execution_count": 0,
      "outputs": [
        {
          "output_type": "stream",
          "text": [
            "\n",
            "woman - girl + boy = man\n"
          ],
          "name": "stdout"
        }
      ]
    },
    {
      "cell_type": "code",
      "metadata": {
        "id": "8l7VWRT4UWM0",
        "colab_type": "code",
        "colab": {},
        "outputId": "0f5205d6-de9c-4b33-f2aa-6b1314bac1e8"
      },
      "source": [
        "# Word analogies\n",
        "\n",
        "print('')\n",
        "print('king - man + woman = ' + analogy('man', 'king', 'woman', word_vectors))"
      ],
      "execution_count": 0,
      "outputs": [
        {
          "output_type": "stream",
          "text": [
            "\n",
            "king - man + woman = queen\n"
          ],
          "name": "stdout"
        }
      ]
    },
    {
      "cell_type": "code",
      "metadata": {
        "id": "2iDnxahQUWM8",
        "colab_type": "code",
        "colab": {},
        "outputId": "76b15f2a-c079-4757-ba08-857d96514765"
      },
      "source": [
        "## A word about biases in word vectors:\n",
        "\n",
        "print('')\n",
        "print('similarity(genius, man) = %.3f' %\n",
        "      cosine(word_vectors['man'], word_vectors['genius']))\n",
        "print('similarity(genius, woman) = %.3f' %\n",
        "      cosine(word_vectors['woman'], word_vectors['genius']))"
      ],
      "execution_count": 0,
      "outputs": [
        {
          "output_type": "stream",
          "text": [
            "\n",
            "similarity(genius, man) = 0.445\n",
            "similarity(genius, woman) = 0.325\n"
          ],
          "name": "stdout"
        }
      ]
    },
    {
      "cell_type": "code",
      "metadata": {
        "id": "HDX0SVUIUWNB",
        "colab_type": "code",
        "colab": {}
      },
      "source": [
        "## Compute the association strength between:\n",
        "##   - a word w\n",
        "##   - two sets of attributes A and B\n",
        "\n",
        "def association_strength(w, A, B, vectors):\n",
        "    strength = sum([cosine(vectors[w], vectors[a]) for a in A])/len(A)\n",
        "    ## FILL CODE\n",
        "    return strength - (sum([cosine(vectors[w], vectors[a]) for a in B])/len(B))\n",
        "\n",
        "## Perform the word embedding association test between:\n",
        "##   - two sets of words X and Y\n",
        "##   - two sets of attributes A and B\n",
        "\n",
        "def weat(X, Y, A, B, vectors):\n",
        "    score = sum([association_strength(w, A, B, vectors) for w in X])\n",
        "    ## FILL CODE\n",
        "    return score - sum([association_strength(w, A, B, vectors) for w in Y])"
      ],
      "execution_count": 0,
      "outputs": []
    },
    {
      "cell_type": "code",
      "metadata": {
        "id": "yBCTnTzdUWNJ",
        "colab_type": "code",
        "colab": {},
        "outputId": "d6c9e746-a4e9-4cf0-f2aa-cf01a4c628e0"
      },
      "source": [
        "## Replicate one of the experiments from:\n",
        "##\n",
        "## Semantics derived automatically from language corpora contain human-like biases\n",
        "## Caliskan, Bryson, Narayanan (2017)\n",
        "\n",
        "career = ['executive', 'management', 'professional', 'corporation', \n",
        "          'salary', 'office', 'business', 'career']\n",
        "family = ['home', 'parents', 'children', 'family',\n",
        "          'cousins', 'marriage', 'wedding', 'relatives']\n",
        "male = ['john', 'paul', 'mike', 'kevin', 'steve', 'greg', 'jeff', 'bill']\n",
        "female = ['amy', 'joan', 'lisa', 'sarah', 'diana', 'kate', 'ann', 'donna']\n",
        "\n",
        "print('')\n",
        "print('Word embedding association test: %.3f' %\n",
        "      weat(career, family, male, female, word_vectors))"
      ],
      "execution_count": 0,
      "outputs": [
        {
          "output_type": "stream",
          "text": [
            "\n",
            "Word embedding association test: 0.847\n"
          ],
          "name": "stdout"
        }
      ]
    },
    {
      "cell_type": "code",
      "metadata": {
        "id": "6ce2SR_DUWNQ",
        "colab_type": "code",
        "colab": {}
      },
      "source": [
        ""
      ],
      "execution_count": 0,
      "outputs": []
    }
  ]
}