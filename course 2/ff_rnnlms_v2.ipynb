{
  "nbformat": 4,
  "nbformat_minor": 0,
  "metadata": {
    "accelerator": "GPU",
    "colab": {
      "name": "ff_rnnlms_v2.ipynb",
      "provenance": [],
      "collapsed_sections": []
    },
    "kernelspec": {
      "name": "python3",
      "display_name": "Python 3"
    },
    "language_info": {
      "codemirror_mode": {
        "name": "ipython",
        "version": 3
      },
      "file_extension": ".py",
      "mimetype": "text/x-python",
      "name": "python",
      "nbconvert_exporter": "python",
      "pygments_lexer": "ipython3",
      "version": "3.7.4"
    },
    "widgets": {
      "application/vnd.jupyter.widget-state+json": {
        "5879bfd9b82c4705a734ac4963a1226b": {
          "model_module": "@jupyter-widgets/controls",
          "model_name": "HBoxModel",
          "state": {
            "_view_name": "HBoxView",
            "_dom_classes": [],
            "_model_name": "HBoxModel",
            "_view_module": "@jupyter-widgets/controls",
            "_model_module_version": "1.5.0",
            "_view_count": null,
            "_view_module_version": "1.5.0",
            "box_style": "",
            "layout": "IPY_MODEL_2d3fbe356c65460ebe48fd49e23b1a49",
            "_model_module": "@jupyter-widgets/controls",
            "children": [
              "IPY_MODEL_ade0ab9c70c0446f8f4b65301101218f",
              "IPY_MODEL_2e3576e3f65e457fb1718a660e1f24eb"
            ]
          }
        },
        "2d3fbe356c65460ebe48fd49e23b1a49": {
          "model_module": "@jupyter-widgets/base",
          "model_name": "LayoutModel",
          "state": {
            "_view_name": "LayoutView",
            "grid_template_rows": null,
            "right": null,
            "justify_content": null,
            "_view_module": "@jupyter-widgets/base",
            "overflow": null,
            "_model_module_version": "1.2.0",
            "_view_count": null,
            "flex_flow": null,
            "width": null,
            "min_width": null,
            "border": null,
            "align_items": null,
            "bottom": null,
            "_model_module": "@jupyter-widgets/base",
            "top": null,
            "grid_column": null,
            "overflow_y": null,
            "overflow_x": null,
            "grid_auto_flow": null,
            "grid_area": null,
            "grid_template_columns": null,
            "flex": null,
            "_model_name": "LayoutModel",
            "justify_items": null,
            "grid_row": null,
            "max_height": null,
            "align_content": null,
            "visibility": null,
            "align_self": null,
            "height": null,
            "min_height": null,
            "padding": null,
            "grid_auto_rows": null,
            "grid_gap": null,
            "max_width": null,
            "order": null,
            "_view_module_version": "1.2.0",
            "grid_template_areas": null,
            "object_position": null,
            "object_fit": null,
            "grid_auto_columns": null,
            "margin": null,
            "display": null,
            "left": null
          }
        },
        "ade0ab9c70c0446f8f4b65301101218f": {
          "model_module": "@jupyter-widgets/controls",
          "model_name": "IntProgressModel",
          "state": {
            "_view_name": "ProgressView",
            "style": "IPY_MODEL_3133ecccd10542f7af94ebdff64bd88a",
            "_dom_classes": [],
            "description": "Downloading",
            "_model_name": "IntProgressModel",
            "bar_style": "success",
            "max": 1042301,
            "_view_module": "@jupyter-widgets/controls",
            "_model_module_version": "1.5.0",
            "value": 1042301,
            "_view_count": null,
            "_view_module_version": "1.5.0",
            "orientation": "horizontal",
            "min": 0,
            "description_tooltip": null,
            "_model_module": "@jupyter-widgets/controls",
            "layout": "IPY_MODEL_e3029176608b45e7b33d101e5993fca1"
          }
        },
        "2e3576e3f65e457fb1718a660e1f24eb": {
          "model_module": "@jupyter-widgets/controls",
          "model_name": "HTMLModel",
          "state": {
            "_view_name": "HTMLView",
            "style": "IPY_MODEL_15e83138b2e243f2a11049da12e8302d",
            "_dom_classes": [],
            "description": "",
            "_model_name": "HTMLModel",
            "placeholder": "​",
            "_view_module": "@jupyter-widgets/controls",
            "_model_module_version": "1.5.0",
            "value": "100% 1.04M/1.04M [00:01&lt;00:00, 956kB/s]",
            "_view_count": null,
            "_view_module_version": "1.5.0",
            "description_tooltip": null,
            "_model_module": "@jupyter-widgets/controls",
            "layout": "IPY_MODEL_938f39f6791f4e4a9eec3f46161f9637"
          }
        },
        "3133ecccd10542f7af94ebdff64bd88a": {
          "model_module": "@jupyter-widgets/controls",
          "model_name": "ProgressStyleModel",
          "state": {
            "_view_name": "StyleView",
            "_model_name": "ProgressStyleModel",
            "description_width": "initial",
            "_view_module": "@jupyter-widgets/base",
            "_model_module_version": "1.5.0",
            "_view_count": null,
            "_view_module_version": "1.2.0",
            "bar_color": null,
            "_model_module": "@jupyter-widgets/controls"
          }
        },
        "e3029176608b45e7b33d101e5993fca1": {
          "model_module": "@jupyter-widgets/base",
          "model_name": "LayoutModel",
          "state": {
            "_view_name": "LayoutView",
            "grid_template_rows": null,
            "right": null,
            "justify_content": null,
            "_view_module": "@jupyter-widgets/base",
            "overflow": null,
            "_model_module_version": "1.2.0",
            "_view_count": null,
            "flex_flow": null,
            "width": null,
            "min_width": null,
            "border": null,
            "align_items": null,
            "bottom": null,
            "_model_module": "@jupyter-widgets/base",
            "top": null,
            "grid_column": null,
            "overflow_y": null,
            "overflow_x": null,
            "grid_auto_flow": null,
            "grid_area": null,
            "grid_template_columns": null,
            "flex": null,
            "_model_name": "LayoutModel",
            "justify_items": null,
            "grid_row": null,
            "max_height": null,
            "align_content": null,
            "visibility": null,
            "align_self": null,
            "height": null,
            "min_height": null,
            "padding": null,
            "grid_auto_rows": null,
            "grid_gap": null,
            "max_width": null,
            "order": null,
            "_view_module_version": "1.2.0",
            "grid_template_areas": null,
            "object_position": null,
            "object_fit": null,
            "grid_auto_columns": null,
            "margin": null,
            "display": null,
            "left": null
          }
        },
        "15e83138b2e243f2a11049da12e8302d": {
          "model_module": "@jupyter-widgets/controls",
          "model_name": "DescriptionStyleModel",
          "state": {
            "_view_name": "StyleView",
            "_model_name": "DescriptionStyleModel",
            "description_width": "",
            "_view_module": "@jupyter-widgets/base",
            "_model_module_version": "1.5.0",
            "_view_count": null,
            "_view_module_version": "1.2.0",
            "_model_module": "@jupyter-widgets/controls"
          }
        },
        "938f39f6791f4e4a9eec3f46161f9637": {
          "model_module": "@jupyter-widgets/base",
          "model_name": "LayoutModel",
          "state": {
            "_view_name": "LayoutView",
            "grid_template_rows": null,
            "right": null,
            "justify_content": null,
            "_view_module": "@jupyter-widgets/base",
            "overflow": null,
            "_model_module_version": "1.2.0",
            "_view_count": null,
            "flex_flow": null,
            "width": null,
            "min_width": null,
            "border": null,
            "align_items": null,
            "bottom": null,
            "_model_module": "@jupyter-widgets/base",
            "top": null,
            "grid_column": null,
            "overflow_y": null,
            "overflow_x": null,
            "grid_auto_flow": null,
            "grid_area": null,
            "grid_template_columns": null,
            "flex": null,
            "_model_name": "LayoutModel",
            "justify_items": null,
            "grid_row": null,
            "max_height": null,
            "align_content": null,
            "visibility": null,
            "align_self": null,
            "height": null,
            "min_height": null,
            "padding": null,
            "grid_auto_rows": null,
            "grid_gap": null,
            "max_width": null,
            "order": null,
            "_view_module_version": "1.2.0",
            "grid_template_areas": null,
            "object_position": null,
            "object_fit": null,
            "grid_auto_columns": null,
            "margin": null,
            "display": null,
            "left": null
          }
        },
        "62e4ffd653014ba4a1a43922535f2554": {
          "model_module": "@jupyter-widgets/controls",
          "model_name": "HBoxModel",
          "state": {
            "_view_name": "HBoxView",
            "_dom_classes": [],
            "_model_name": "HBoxModel",
            "_view_module": "@jupyter-widgets/controls",
            "_model_module_version": "1.5.0",
            "_view_count": null,
            "_view_module_version": "1.5.0",
            "box_style": "",
            "layout": "IPY_MODEL_c5c2adc739e54c3891813fb81569e2e5",
            "_model_module": "@jupyter-widgets/controls",
            "children": [
              "IPY_MODEL_f5eff2fd6a2e41b58219097df67157ad",
              "IPY_MODEL_36a2008cf2f2404ea25f87bdaab42071"
            ]
          }
        },
        "c5c2adc739e54c3891813fb81569e2e5": {
          "model_module": "@jupyter-widgets/base",
          "model_name": "LayoutModel",
          "state": {
            "_view_name": "LayoutView",
            "grid_template_rows": null,
            "right": null,
            "justify_content": null,
            "_view_module": "@jupyter-widgets/base",
            "overflow": null,
            "_model_module_version": "1.2.0",
            "_view_count": null,
            "flex_flow": null,
            "width": null,
            "min_width": null,
            "border": null,
            "align_items": null,
            "bottom": null,
            "_model_module": "@jupyter-widgets/base",
            "top": null,
            "grid_column": null,
            "overflow_y": null,
            "overflow_x": null,
            "grid_auto_flow": null,
            "grid_area": null,
            "grid_template_columns": null,
            "flex": null,
            "_model_name": "LayoutModel",
            "justify_items": null,
            "grid_row": null,
            "max_height": null,
            "align_content": null,
            "visibility": null,
            "align_self": null,
            "height": null,
            "min_height": null,
            "padding": null,
            "grid_auto_rows": null,
            "grid_gap": null,
            "max_width": null,
            "order": null,
            "_view_module_version": "1.2.0",
            "grid_template_areas": null,
            "object_position": null,
            "object_fit": null,
            "grid_auto_columns": null,
            "margin": null,
            "display": null,
            "left": null
          }
        },
        "f5eff2fd6a2e41b58219097df67157ad": {
          "model_module": "@jupyter-widgets/controls",
          "model_name": "IntProgressModel",
          "state": {
            "_view_name": "ProgressView",
            "style": "IPY_MODEL_95a2f607581840a7b75458d44d054f19",
            "_dom_classes": [],
            "description": "Downloading",
            "_model_name": "IntProgressModel",
            "bar_style": "success",
            "max": 456318,
            "_view_module": "@jupyter-widgets/controls",
            "_model_module_version": "1.5.0",
            "value": 456318,
            "_view_count": null,
            "_view_module_version": "1.5.0",
            "orientation": "horizontal",
            "min": 0,
            "description_tooltip": null,
            "_model_module": "@jupyter-widgets/controls",
            "layout": "IPY_MODEL_9bb05512e09f4cffa8bfd868fef02361"
          }
        },
        "36a2008cf2f2404ea25f87bdaab42071": {
          "model_module": "@jupyter-widgets/controls",
          "model_name": "HTMLModel",
          "state": {
            "_view_name": "HTMLView",
            "style": "IPY_MODEL_7f7af0b8146b4b0e925d5654ed2b9f0d",
            "_dom_classes": [],
            "description": "",
            "_model_name": "HTMLModel",
            "placeholder": "​",
            "_view_module": "@jupyter-widgets/controls",
            "_model_module_version": "1.5.0",
            "value": "100% 456k/456k [00:00&lt;00:00, 616kB/s]",
            "_view_count": null,
            "_view_module_version": "1.5.0",
            "description_tooltip": null,
            "_model_module": "@jupyter-widgets/controls",
            "layout": "IPY_MODEL_d418b97cf78745deae49e8a3ed440db2"
          }
        },
        "95a2f607581840a7b75458d44d054f19": {
          "model_module": "@jupyter-widgets/controls",
          "model_name": "ProgressStyleModel",
          "state": {
            "_view_name": "StyleView",
            "_model_name": "ProgressStyleModel",
            "description_width": "initial",
            "_view_module": "@jupyter-widgets/base",
            "_model_module_version": "1.5.0",
            "_view_count": null,
            "_view_module_version": "1.2.0",
            "bar_color": null,
            "_model_module": "@jupyter-widgets/controls"
          }
        },
        "9bb05512e09f4cffa8bfd868fef02361": {
          "model_module": "@jupyter-widgets/base",
          "model_name": "LayoutModel",
          "state": {
            "_view_name": "LayoutView",
            "grid_template_rows": null,
            "right": null,
            "justify_content": null,
            "_view_module": "@jupyter-widgets/base",
            "overflow": null,
            "_model_module_version": "1.2.0",
            "_view_count": null,
            "flex_flow": null,
            "width": null,
            "min_width": null,
            "border": null,
            "align_items": null,
            "bottom": null,
            "_model_module": "@jupyter-widgets/base",
            "top": null,
            "grid_column": null,
            "overflow_y": null,
            "overflow_x": null,
            "grid_auto_flow": null,
            "grid_area": null,
            "grid_template_columns": null,
            "flex": null,
            "_model_name": "LayoutModel",
            "justify_items": null,
            "grid_row": null,
            "max_height": null,
            "align_content": null,
            "visibility": null,
            "align_self": null,
            "height": null,
            "min_height": null,
            "padding": null,
            "grid_auto_rows": null,
            "grid_gap": null,
            "max_width": null,
            "order": null,
            "_view_module_version": "1.2.0",
            "grid_template_areas": null,
            "object_position": null,
            "object_fit": null,
            "grid_auto_columns": null,
            "margin": null,
            "display": null,
            "left": null
          }
        },
        "7f7af0b8146b4b0e925d5654ed2b9f0d": {
          "model_module": "@jupyter-widgets/controls",
          "model_name": "DescriptionStyleModel",
          "state": {
            "_view_name": "StyleView",
            "_model_name": "DescriptionStyleModel",
            "description_width": "",
            "_view_module": "@jupyter-widgets/base",
            "_model_module_version": "1.5.0",
            "_view_count": null,
            "_view_module_version": "1.2.0",
            "_model_module": "@jupyter-widgets/controls"
          }
        },
        "d418b97cf78745deae49e8a3ed440db2": {
          "model_module": "@jupyter-widgets/base",
          "model_name": "LayoutModel",
          "state": {
            "_view_name": "LayoutView",
            "grid_template_rows": null,
            "right": null,
            "justify_content": null,
            "_view_module": "@jupyter-widgets/base",
            "overflow": null,
            "_model_module_version": "1.2.0",
            "_view_count": null,
            "flex_flow": null,
            "width": null,
            "min_width": null,
            "border": null,
            "align_items": null,
            "bottom": null,
            "_model_module": "@jupyter-widgets/base",
            "top": null,
            "grid_column": null,
            "overflow_y": null,
            "overflow_x": null,
            "grid_auto_flow": null,
            "grid_area": null,
            "grid_template_columns": null,
            "flex": null,
            "_model_name": "LayoutModel",
            "justify_items": null,
            "grid_row": null,
            "max_height": null,
            "align_content": null,
            "visibility": null,
            "align_self": null,
            "height": null,
            "min_height": null,
            "padding": null,
            "grid_auto_rows": null,
            "grid_gap": null,
            "max_width": null,
            "order": null,
            "_view_module_version": "1.2.0",
            "grid_template_areas": null,
            "object_position": null,
            "object_fit": null,
            "grid_auto_columns": null,
            "margin": null,
            "display": null,
            "left": null
          }
        },
        "eb60f197e90346a189456d2ffc6cdf62": {
          "model_module": "@jupyter-widgets/controls",
          "model_name": "HBoxModel",
          "state": {
            "_view_name": "HBoxView",
            "_dom_classes": [],
            "_model_name": "HBoxModel",
            "_view_module": "@jupyter-widgets/controls",
            "_model_module_version": "1.5.0",
            "_view_count": null,
            "_view_module_version": "1.5.0",
            "box_style": "",
            "layout": "IPY_MODEL_a6bed80c8ce64835a8a6ca0eb8bec8ea",
            "_model_module": "@jupyter-widgets/controls",
            "children": [
              "IPY_MODEL_e290bbf4c40f4789a135c130601a4e38",
              "IPY_MODEL_a911dae024014ff6a1f54c8ac001b73e"
            ]
          }
        },
        "a6bed80c8ce64835a8a6ca0eb8bec8ea": {
          "model_module": "@jupyter-widgets/base",
          "model_name": "LayoutModel",
          "state": {
            "_view_name": "LayoutView",
            "grid_template_rows": null,
            "right": null,
            "justify_content": null,
            "_view_module": "@jupyter-widgets/base",
            "overflow": null,
            "_model_module_version": "1.2.0",
            "_view_count": null,
            "flex_flow": null,
            "width": null,
            "min_width": null,
            "border": null,
            "align_items": null,
            "bottom": null,
            "_model_module": "@jupyter-widgets/base",
            "top": null,
            "grid_column": null,
            "overflow_y": null,
            "overflow_x": null,
            "grid_auto_flow": null,
            "grid_area": null,
            "grid_template_columns": null,
            "flex": null,
            "_model_name": "LayoutModel",
            "justify_items": null,
            "grid_row": null,
            "max_height": null,
            "align_content": null,
            "visibility": null,
            "align_self": null,
            "height": null,
            "min_height": null,
            "padding": null,
            "grid_auto_rows": null,
            "grid_gap": null,
            "max_width": null,
            "order": null,
            "_view_module_version": "1.2.0",
            "grid_template_areas": null,
            "object_position": null,
            "object_fit": null,
            "grid_auto_columns": null,
            "margin": null,
            "display": null,
            "left": null
          }
        },
        "e290bbf4c40f4789a135c130601a4e38": {
          "model_module": "@jupyter-widgets/controls",
          "model_name": "IntProgressModel",
          "state": {
            "_view_name": "ProgressView",
            "style": "IPY_MODEL_870cc4cb1a4e4e868a83c6c52d1ab0af",
            "_dom_classes": [],
            "description": "Downloading",
            "_model_name": "IntProgressModel",
            "bar_style": "success",
            "max": 224,
            "_view_module": "@jupyter-widgets/controls",
            "_model_module_version": "1.5.0",
            "value": 224,
            "_view_count": null,
            "_view_module_version": "1.5.0",
            "orientation": "horizontal",
            "min": 0,
            "description_tooltip": null,
            "_model_module": "@jupyter-widgets/controls",
            "layout": "IPY_MODEL_f848ead08a1842f09f1acf4c99cfa7c9"
          }
        },
        "a911dae024014ff6a1f54c8ac001b73e": {
          "model_module": "@jupyter-widgets/controls",
          "model_name": "HTMLModel",
          "state": {
            "_view_name": "HTMLView",
            "style": "IPY_MODEL_8fb282319947496b8120f009390f7694",
            "_dom_classes": [],
            "description": "",
            "_model_name": "HTMLModel",
            "placeholder": "​",
            "_view_module": "@jupyter-widgets/controls",
            "_model_module_version": "1.5.0",
            "value": "100% 224/224 [00:00&lt;00:00, 5.13kB/s]",
            "_view_count": null,
            "_view_module_version": "1.5.0",
            "description_tooltip": null,
            "_model_module": "@jupyter-widgets/controls",
            "layout": "IPY_MODEL_460a0a6edb4e45138c9536553c95b187"
          }
        },
        "870cc4cb1a4e4e868a83c6c52d1ab0af": {
          "model_module": "@jupyter-widgets/controls",
          "model_name": "ProgressStyleModel",
          "state": {
            "_view_name": "StyleView",
            "_model_name": "ProgressStyleModel",
            "description_width": "initial",
            "_view_module": "@jupyter-widgets/base",
            "_model_module_version": "1.5.0",
            "_view_count": null,
            "_view_module_version": "1.2.0",
            "bar_color": null,
            "_model_module": "@jupyter-widgets/controls"
          }
        },
        "f848ead08a1842f09f1acf4c99cfa7c9": {
          "model_module": "@jupyter-widgets/base",
          "model_name": "LayoutModel",
          "state": {
            "_view_name": "LayoutView",
            "grid_template_rows": null,
            "right": null,
            "justify_content": null,
            "_view_module": "@jupyter-widgets/base",
            "overflow": null,
            "_model_module_version": "1.2.0",
            "_view_count": null,
            "flex_flow": null,
            "width": null,
            "min_width": null,
            "border": null,
            "align_items": null,
            "bottom": null,
            "_model_module": "@jupyter-widgets/base",
            "top": null,
            "grid_column": null,
            "overflow_y": null,
            "overflow_x": null,
            "grid_auto_flow": null,
            "grid_area": null,
            "grid_template_columns": null,
            "flex": null,
            "_model_name": "LayoutModel",
            "justify_items": null,
            "grid_row": null,
            "max_height": null,
            "align_content": null,
            "visibility": null,
            "align_self": null,
            "height": null,
            "min_height": null,
            "padding": null,
            "grid_auto_rows": null,
            "grid_gap": null,
            "max_width": null,
            "order": null,
            "_view_module_version": "1.2.0",
            "grid_template_areas": null,
            "object_position": null,
            "object_fit": null,
            "grid_auto_columns": null,
            "margin": null,
            "display": null,
            "left": null
          }
        },
        "8fb282319947496b8120f009390f7694": {
          "model_module": "@jupyter-widgets/controls",
          "model_name": "DescriptionStyleModel",
          "state": {
            "_view_name": "StyleView",
            "_model_name": "DescriptionStyleModel",
            "description_width": "",
            "_view_module": "@jupyter-widgets/base",
            "_model_module_version": "1.5.0",
            "_view_count": null,
            "_view_module_version": "1.2.0",
            "_model_module": "@jupyter-widgets/controls"
          }
        },
        "460a0a6edb4e45138c9536553c95b187": {
          "model_module": "@jupyter-widgets/base",
          "model_name": "LayoutModel",
          "state": {
            "_view_name": "LayoutView",
            "grid_template_rows": null,
            "right": null,
            "justify_content": null,
            "_view_module": "@jupyter-widgets/base",
            "overflow": null,
            "_model_module_version": "1.2.0",
            "_view_count": null,
            "flex_flow": null,
            "width": null,
            "min_width": null,
            "border": null,
            "align_items": null,
            "bottom": null,
            "_model_module": "@jupyter-widgets/base",
            "top": null,
            "grid_column": null,
            "overflow_y": null,
            "overflow_x": null,
            "grid_auto_flow": null,
            "grid_area": null,
            "grid_template_columns": null,
            "flex": null,
            "_model_name": "LayoutModel",
            "justify_items": null,
            "grid_row": null,
            "max_height": null,
            "align_content": null,
            "visibility": null,
            "align_self": null,
            "height": null,
            "min_height": null,
            "padding": null,
            "grid_auto_rows": null,
            "grid_gap": null,
            "max_width": null,
            "order": null,
            "_view_module_version": "1.2.0",
            "grid_template_areas": null,
            "object_position": null,
            "object_fit": null,
            "grid_auto_columns": null,
            "margin": null,
            "display": null,
            "left": null
          }
        },
        "d9acdfe860964854a4f7a2267fc44c2f": {
          "model_module": "@jupyter-widgets/controls",
          "model_name": "HBoxModel",
          "state": {
            "_view_name": "HBoxView",
            "_dom_classes": [],
            "_model_name": "HBoxModel",
            "_view_module": "@jupyter-widgets/controls",
            "_model_module_version": "1.5.0",
            "_view_count": null,
            "_view_module_version": "1.5.0",
            "box_style": "",
            "layout": "IPY_MODEL_4c7d05831d3a4d8c811322cec1f0d9bf",
            "_model_module": "@jupyter-widgets/controls",
            "children": [
              "IPY_MODEL_dbc26837ecd240748e97c857fef7a973",
              "IPY_MODEL_b8f8b9ff37784cebbc8b8adb4c78c9b3"
            ]
          }
        },
        "4c7d05831d3a4d8c811322cec1f0d9bf": {
          "model_module": "@jupyter-widgets/base",
          "model_name": "LayoutModel",
          "state": {
            "_view_name": "LayoutView",
            "grid_template_rows": null,
            "right": null,
            "justify_content": null,
            "_view_module": "@jupyter-widgets/base",
            "overflow": null,
            "_model_module_version": "1.2.0",
            "_view_count": null,
            "flex_flow": null,
            "width": null,
            "min_width": null,
            "border": null,
            "align_items": null,
            "bottom": null,
            "_model_module": "@jupyter-widgets/base",
            "top": null,
            "grid_column": null,
            "overflow_y": null,
            "overflow_x": null,
            "grid_auto_flow": null,
            "grid_area": null,
            "grid_template_columns": null,
            "flex": null,
            "_model_name": "LayoutModel",
            "justify_items": null,
            "grid_row": null,
            "max_height": null,
            "align_content": null,
            "visibility": null,
            "align_self": null,
            "height": null,
            "min_height": null,
            "padding": null,
            "grid_auto_rows": null,
            "grid_gap": null,
            "max_width": null,
            "order": null,
            "_view_module_version": "1.2.0",
            "grid_template_areas": null,
            "object_position": null,
            "object_fit": null,
            "grid_auto_columns": null,
            "margin": null,
            "display": null,
            "left": null
          }
        },
        "dbc26837ecd240748e97c857fef7a973": {
          "model_module": "@jupyter-widgets/controls",
          "model_name": "IntProgressModel",
          "state": {
            "_view_name": "ProgressView",
            "style": "IPY_MODEL_eaba5d1e1fa24a59a76e52950faaa217",
            "_dom_classes": [],
            "description": "Downloading",
            "_model_name": "IntProgressModel",
            "bar_style": "success",
            "max": 548118077,
            "_view_module": "@jupyter-widgets/controls",
            "_model_module_version": "1.5.0",
            "value": 548118077,
            "_view_count": null,
            "_view_module_version": "1.5.0",
            "orientation": "horizontal",
            "min": 0,
            "description_tooltip": null,
            "_model_module": "@jupyter-widgets/controls",
            "layout": "IPY_MODEL_118fc029ede141eab76cf07a3b84b53c"
          }
        },
        "b8f8b9ff37784cebbc8b8adb4c78c9b3": {
          "model_module": "@jupyter-widgets/controls",
          "model_name": "HTMLModel",
          "state": {
            "_view_name": "HTMLView",
            "style": "IPY_MODEL_bd9306b94d4b40be889447dbb357df8d",
            "_dom_classes": [],
            "description": "",
            "_model_name": "HTMLModel",
            "placeholder": "​",
            "_view_module": "@jupyter-widgets/controls",
            "_model_module_version": "1.5.0",
            "value": "100% 548M/548M [00:49&lt;00:00, 11.2MB/s]",
            "_view_count": null,
            "_view_module_version": "1.5.0",
            "description_tooltip": null,
            "_model_module": "@jupyter-widgets/controls",
            "layout": "IPY_MODEL_ccfdd2e0f8434eee9d9891ab4fe7bb8f"
          }
        },
        "eaba5d1e1fa24a59a76e52950faaa217": {
          "model_module": "@jupyter-widgets/controls",
          "model_name": "ProgressStyleModel",
          "state": {
            "_view_name": "StyleView",
            "_model_name": "ProgressStyleModel",
            "description_width": "initial",
            "_view_module": "@jupyter-widgets/base",
            "_model_module_version": "1.5.0",
            "_view_count": null,
            "_view_module_version": "1.2.0",
            "bar_color": null,
            "_model_module": "@jupyter-widgets/controls"
          }
        },
        "118fc029ede141eab76cf07a3b84b53c": {
          "model_module": "@jupyter-widgets/base",
          "model_name": "LayoutModel",
          "state": {
            "_view_name": "LayoutView",
            "grid_template_rows": null,
            "right": null,
            "justify_content": null,
            "_view_module": "@jupyter-widgets/base",
            "overflow": null,
            "_model_module_version": "1.2.0",
            "_view_count": null,
            "flex_flow": null,
            "width": null,
            "min_width": null,
            "border": null,
            "align_items": null,
            "bottom": null,
            "_model_module": "@jupyter-widgets/base",
            "top": null,
            "grid_column": null,
            "overflow_y": null,
            "overflow_x": null,
            "grid_auto_flow": null,
            "grid_area": null,
            "grid_template_columns": null,
            "flex": null,
            "_model_name": "LayoutModel",
            "justify_items": null,
            "grid_row": null,
            "max_height": null,
            "align_content": null,
            "visibility": null,
            "align_self": null,
            "height": null,
            "min_height": null,
            "padding": null,
            "grid_auto_rows": null,
            "grid_gap": null,
            "max_width": null,
            "order": null,
            "_view_module_version": "1.2.0",
            "grid_template_areas": null,
            "object_position": null,
            "object_fit": null,
            "grid_auto_columns": null,
            "margin": null,
            "display": null,
            "left": null
          }
        },
        "bd9306b94d4b40be889447dbb357df8d": {
          "model_module": "@jupyter-widgets/controls",
          "model_name": "DescriptionStyleModel",
          "state": {
            "_view_name": "StyleView",
            "_model_name": "DescriptionStyleModel",
            "description_width": "",
            "_view_module": "@jupyter-widgets/base",
            "_model_module_version": "1.5.0",
            "_view_count": null,
            "_view_module_version": "1.2.0",
            "_model_module": "@jupyter-widgets/controls"
          }
        },
        "ccfdd2e0f8434eee9d9891ab4fe7bb8f": {
          "model_module": "@jupyter-widgets/base",
          "model_name": "LayoutModel",
          "state": {
            "_view_name": "LayoutView",
            "grid_template_rows": null,
            "right": null,
            "justify_content": null,
            "_view_module": "@jupyter-widgets/base",
            "overflow": null,
            "_model_module_version": "1.2.0",
            "_view_count": null,
            "flex_flow": null,
            "width": null,
            "min_width": null,
            "border": null,
            "align_items": null,
            "bottom": null,
            "_model_module": "@jupyter-widgets/base",
            "top": null,
            "grid_column": null,
            "overflow_y": null,
            "overflow_x": null,
            "grid_auto_flow": null,
            "grid_area": null,
            "grid_template_columns": null,
            "flex": null,
            "_model_name": "LayoutModel",
            "justify_items": null,
            "grid_row": null,
            "max_height": null,
            "align_content": null,
            "visibility": null,
            "align_self": null,
            "height": null,
            "min_height": null,
            "padding": null,
            "grid_auto_rows": null,
            "grid_gap": null,
            "max_width": null,
            "order": null,
            "_view_module_version": "1.2.0",
            "grid_template_areas": null,
            "object_position": null,
            "object_fit": null,
            "grid_auto_columns": null,
            "margin": null,
            "display": null,
            "left": null
          }
        }
      }
    }
  },
  "cells": [
    {
      "cell_type": "markdown",
      "metadata": {
        "id": "vSjgxzlD4hAC",
        "colab_type": "text"
      },
      "source": [
        "# Please Make a copy of this notebook before editing the file"
      ]
    },
    {
      "cell_type": "markdown",
      "metadata": {
        "colab_type": "text",
        "id": "IxZ97MQPbj90"
      },
      "source": [
        "# Feed-forward and Recurrent Language Models"
      ]
    },
    {
      "cell_type": "markdown",
      "metadata": {
        "id": "AoI5FUDX4b2G",
        "colab_type": "text"
      },
      "source": [
        "### Preliminaries"
      ]
    },
    {
      "cell_type": "code",
      "metadata": {
        "id": "CbX620q-4b2H",
        "colab_type": "code",
        "outputId": "549e3288-5bf0-4cba-998c-08e28e9077e2",
        "colab": {
          "base_uri": "https://localhost:8080/",
          "height": 35
        }
      },
      "source": [
        "%pylab inline\n",
        "%load_ext autoreload\n",
        "%autoreload 2"
      ],
      "execution_count": 0,
      "outputs": [
        {
          "output_type": "stream",
          "text": [
            "Populating the interactive namespace from numpy and matplotlib\n"
          ],
          "name": "stdout"
        }
      ]
    },
    {
      "cell_type": "code",
      "metadata": {
        "id": "fjAx0sHC4b2M",
        "colab_type": "code",
        "outputId": "b5282b12-7cdf-45a2-fee7-c336a3c1a2ab",
        "colab": {
          "base_uri": "https://localhost:8080/",
          "height": 126
        }
      },
      "source": [
        "!pip install jsonlines tqdm"
      ],
      "execution_count": 0,
      "outputs": [
        {
          "output_type": "stream",
          "text": [
            "Collecting jsonlines\n",
            "  Downloading https://files.pythonhosted.org/packages/4f/9a/ab96291470e305504aa4b7a2e0ec132e930da89eb3ca7a82fbe03167c131/jsonlines-1.2.0-py2.py3-none-any.whl\n",
            "Requirement already satisfied: tqdm in /usr/local/lib/python3.6/dist-packages (4.28.1)\n",
            "Requirement already satisfied: six in /usr/local/lib/python3.6/dist-packages (from jsonlines) (1.12.0)\n",
            "Installing collected packages: jsonlines\n",
            "Successfully installed jsonlines-1.2.0\n"
          ],
          "name": "stdout"
        }
      ]
    },
    {
      "cell_type": "code",
      "metadata": {
        "colab_type": "code",
        "id": "RSqJllXkKGZR",
        "outputId": "3d6ecb56-f57b-4d5b-b801-0331024d2d41",
        "colab": {
          "base_uri": "https://localhost:8080/",
          "height": 1000
        }
      },
      "source": [
        "# download pretrained models and data\n",
        "### DOWNLOADING THE FILES\n",
        "import os\n",
        "\n",
        "### persona chat dataset\n",
        "if not os.path.exists('personachat_all_sentences_train.jsonl'):\n",
        "    !wget \"https://nyu.box.com/shared/static/q4nvswb0szelivhgyx87vd1056ttqfyi.jsonl\" -O 'personachat_all_sentences_train.jsonl'\n",
        "if not os.path.exists('personachat_all_sentences_valid.jsonl'):\n",
        "    !wget \"https://nyu.box.com/shared/static/8krcizo8sms1m0ppy7uiwfcx4a3l5nsq.jsonl\" -O 'personachat_all_sentences_valid.jsonl'\n",
        "if not os.path.exists('personachat_all_sentences_test.jsonl'):\n",
        "    !wget \"https://nyu.box.com/shared/static/im7we9k2gcf8kslqnfamsimicgosuw9y.jsonl\" -O 'personachat_all_sentences_test.jsonl'\n",
        "\n",
        "## wikitext-2 dataset\n",
        "if not os.path.exists('wikitext2-sentencized.json'):\n",
        "    !wget \"https://nyu.box.com/shared/static/9kb7l7ci30hb6uahhbssjlq0kctr5ii4.json\" -O 'wikitext2-sentencized.json'\n",
        "\n",
        "### pretrained ffnn model\n",
        "if not os.path.exists('personachat_ffnn_lm.pt'):\n",
        "    !wget \"https://nyu.box.com/shared/static/looczvct7ssh30x0gwqmvencple8xok9.pt\" -O 'personachat_ffnn_lm.pt'\n",
        "\n",
        "### pretrained rnn model\n",
        "if not os.path.exists('personachat_rnn_lm.pt'):\n",
        "    !wget \"https://nyu.box.com/shared/static/3jl9erctnvbefnczgmetkdil0xwpcxzb.pt\" -O 'personachat_rnn_lm.pt'"
      ],
      "execution_count": 0,
      "outputs": [
        {
          "output_type": "stream",
          "text": [
            "--2020-03-16 19:52:31--  https://nyu.box.com/shared/static/q4nvswb0szelivhgyx87vd1056ttqfyi.jsonl\n",
            "Resolving nyu.box.com (nyu.box.com)... 103.116.4.197\n",
            "Connecting to nyu.box.com (nyu.box.com)|103.116.4.197|:443... connected.\n",
            "HTTP request sent, awaiting response... 301 Moved Permanently\n",
            "Location: /public/static/q4nvswb0szelivhgyx87vd1056ttqfyi.jsonl [following]\n",
            "--2020-03-16 19:52:32--  https://nyu.box.com/public/static/q4nvswb0szelivhgyx87vd1056ttqfyi.jsonl\n",
            "Reusing existing connection to nyu.box.com:443.\n",
            "HTTP request sent, awaiting response... 301 Moved Permanently\n",
            "Location: https://nyu.app.box.com/public/static/q4nvswb0szelivhgyx87vd1056ttqfyi.jsonl [following]\n",
            "--2020-03-16 19:52:32--  https://nyu.app.box.com/public/static/q4nvswb0szelivhgyx87vd1056ttqfyi.jsonl\n",
            "Resolving nyu.app.box.com (nyu.app.box.com)... 103.116.4.199\n",
            "Connecting to nyu.app.box.com (nyu.app.box.com)|103.116.4.199|:443... connected.\n",
            "HTTP request sent, awaiting response... 302 Found\n",
            "Location: https://public.boxcloud.com/d/1/b1!p4Bc-7Kyz-kD6jf8tT2NlyULDzpjvIX_ym_R0UzpVkyEjYiMDLjqlMofXqfjxgME8Df8P0y2KIFa3mNJxVRG6Y270xKbybtP6JwqvcbEnuG7zEiFIixZY9Gu1j-DBG9T5ne9wMSKX9TGFYa1I5nw-xzHi1RsaivPjDYbhuTqxrkUrQQw-ral7UR3KXoLkBDKol8hUG5_qzklZvnTPtN3FxWfRTHoSUg1TBwvKhll-NYUwI-HiQATytYV3v_4gnz6SDD0ZsRGYcbNEOnkipDsTmo__c4Feqadb-sncQ3-xh0UoT-yFMNCHxkBnU_O5NXZStoD_TwI0cyejtiQIoDGE_y1Od2ueTKpQMZDNrRxstWM9t-BPk1iB0aJhD095bp9ZkPRZyitiv86CewH3WcZpFQ3qGPZ_jpQ0fuvezlg-A4tLVF7lqtWY-4Bj3OAYzrpJviJKQ7e3BFPuRH0T4l3uHKxR2xoFJefjqQhMT8Y45_9XG-STNRU5yYZZAGoiN5CRHtsh80aDE7QDcrI-4nNSWht7UibbtHBN8msH4QrFjrGS2ilsJkOv9Dw5TCxvDaTQZsbBYzqPsHlTeBT__QvFegigJmNfo6h_2PeQ49HbOpkmjbL_LofANKlI6B10JiZk4xnLOSlwfNyY-_NRgjBnM_KcsHn4HVAfKBjZd_0TMiz8i4AtxE3wP-JKeLGjIOSKBpxVeYizLmzjhO32Tm8aFrJPNtQWTY_HXS9Wa-ityWIWiVcaekTMJ8HvtNP4PeiFHu7PTez_VRqI7F4ysS8paqNu1weCMuCKoDqF1WMnwJ4Dwv-itIXL1D7sVa6BbonGfC2LHG0N_gOA7kU2HSPMOtwcqcuM3tVrzObfSO1TF7xbQ5KtXBFcLHDtZvcezlt5ouBCiM81Zh6TCHrUSMbfAX7JsrBPL6-y4zJY2hqzdSbJtAQc666iNRLyp1E7yRlQKxF7pBqyx8aYhxTognQVAF1mYMDcFX3t20LTs5qUfg8SYBGrgNmJqhG0f5LukPz939t3pg5TbyjEkVInAxpZi83V2lk8j_Butl4olY-urFXqruhlCMJ0_2ukcE_4FrNsdWybOC1Yn5jJede9tepH3hJ43QkNKO9n_rDyTZ-9kGGx-CtB63rMQpipZII_qUHojdORNgDXeIb1Pe8quMnPj_TMLVHC-EpM1IIIf6aHEmucLbjf6ciGKUkL77VF1P8g3bLDY2dvPzZAP-xZSRLwaHzUcuP95RN2T1Gi6NBPdaoIbIN7VEwaUGquHbw92K8YFZECLlIFz4_dGgwJ4Q-Jq9cAW9DyhbLavP6CToFo0hQUT8Uh7x2ZNCeHEbyoT5d0No4p6aHdEUJK1uMdqLMSYiVup1Mb7mowBRxfXmjeq8bpU7E2HS24AWPAFqT5PgzyC5zIkykU2HLtz4ft9NXIH_5ktI./download [following]\n",
            "--2020-03-16 19:52:33--  https://public.boxcloud.com/d/1/b1!p4Bc-7Kyz-kD6jf8tT2NlyULDzpjvIX_ym_R0UzpVkyEjYiMDLjqlMofXqfjxgME8Df8P0y2KIFa3mNJxVRG6Y270xKbybtP6JwqvcbEnuG7zEiFIixZY9Gu1j-DBG9T5ne9wMSKX9TGFYa1I5nw-xzHi1RsaivPjDYbhuTqxrkUrQQw-ral7UR3KXoLkBDKol8hUG5_qzklZvnTPtN3FxWfRTHoSUg1TBwvKhll-NYUwI-HiQATytYV3v_4gnz6SDD0ZsRGYcbNEOnkipDsTmo__c4Feqadb-sncQ3-xh0UoT-yFMNCHxkBnU_O5NXZStoD_TwI0cyejtiQIoDGE_y1Od2ueTKpQMZDNrRxstWM9t-BPk1iB0aJhD095bp9ZkPRZyitiv86CewH3WcZpFQ3qGPZ_jpQ0fuvezlg-A4tLVF7lqtWY-4Bj3OAYzrpJviJKQ7e3BFPuRH0T4l3uHKxR2xoFJefjqQhMT8Y45_9XG-STNRU5yYZZAGoiN5CRHtsh80aDE7QDcrI-4nNSWht7UibbtHBN8msH4QrFjrGS2ilsJkOv9Dw5TCxvDaTQZsbBYzqPsHlTeBT__QvFegigJmNfo6h_2PeQ49HbOpkmjbL_LofANKlI6B10JiZk4xnLOSlwfNyY-_NRgjBnM_KcsHn4HVAfKBjZd_0TMiz8i4AtxE3wP-JKeLGjIOSKBpxVeYizLmzjhO32Tm8aFrJPNtQWTY_HXS9Wa-ityWIWiVcaekTMJ8HvtNP4PeiFHu7PTez_VRqI7F4ysS8paqNu1weCMuCKoDqF1WMnwJ4Dwv-itIXL1D7sVa6BbonGfC2LHG0N_gOA7kU2HSPMOtwcqcuM3tVrzObfSO1TF7xbQ5KtXBFcLHDtZvcezlt5ouBCiM81Zh6TCHrUSMbfAX7JsrBPL6-y4zJY2hqzdSbJtAQc666iNRLyp1E7yRlQKxF7pBqyx8aYhxTognQVAF1mYMDcFX3t20LTs5qUfg8SYBGrgNmJqhG0f5LukPz939t3pg5TbyjEkVInAxpZi83V2lk8j_Butl4olY-urFXqruhlCMJ0_2ukcE_4FrNsdWybOC1Yn5jJede9tepH3hJ43QkNKO9n_rDyTZ-9kGGx-CtB63rMQpipZII_qUHojdORNgDXeIb1Pe8quMnPj_TMLVHC-EpM1IIIf6aHEmucLbjf6ciGKUkL77VF1P8g3bLDY2dvPzZAP-xZSRLwaHzUcuP95RN2T1Gi6NBPdaoIbIN7VEwaUGquHbw92K8YFZECLlIFz4_dGgwJ4Q-Jq9cAW9DyhbLavP6CToFo0hQUT8Uh7x2ZNCeHEbyoT5d0No4p6aHdEUJK1uMdqLMSYiVup1Mb7mowBRxfXmjeq8bpU7E2HS24AWPAFqT5PgzyC5zIkykU2HLtz4ft9NXIH_5ktI./download\n",
            "Resolving public.boxcloud.com (public.boxcloud.com)... 103.116.4.200\n",
            "Connecting to public.boxcloud.com (public.boxcloud.com)|103.116.4.200|:443... connected.\n",
            "HTTP request sent, awaiting response... 200 OK\n",
            "Length: 13403897 (13M) [application/octet-stream]\n",
            "Saving to: ‘personachat_all_sentences_train.jsonl’\n",
            "\n",
            "personachat_all_sen 100%[===================>]  12.78M  12.1MB/s    in 1.1s    \n",
            "\n",
            "2020-03-16 19:52:35 (12.1 MB/s) - ‘personachat_all_sentences_train.jsonl’ saved [13403897/13403897]\n",
            "\n",
            "--2020-03-16 19:52:36--  https://nyu.box.com/shared/static/8krcizo8sms1m0ppy7uiwfcx4a3l5nsq.jsonl\n",
            "Resolving nyu.box.com (nyu.box.com)... 103.116.4.197\n",
            "Connecting to nyu.box.com (nyu.box.com)|103.116.4.197|:443... connected.\n",
            "HTTP request sent, awaiting response... 301 Moved Permanently\n",
            "Location: /public/static/8krcizo8sms1m0ppy7uiwfcx4a3l5nsq.jsonl [following]\n",
            "--2020-03-16 19:52:37--  https://nyu.box.com/public/static/8krcizo8sms1m0ppy7uiwfcx4a3l5nsq.jsonl\n",
            "Reusing existing connection to nyu.box.com:443.\n",
            "HTTP request sent, awaiting response... 301 Moved Permanently\n",
            "Location: https://nyu.app.box.com/public/static/8krcizo8sms1m0ppy7uiwfcx4a3l5nsq.jsonl [following]\n",
            "--2020-03-16 19:52:37--  https://nyu.app.box.com/public/static/8krcizo8sms1m0ppy7uiwfcx4a3l5nsq.jsonl\n",
            "Resolving nyu.app.box.com (nyu.app.box.com)... 103.116.4.199\n",
            "Connecting to nyu.app.box.com (nyu.app.box.com)|103.116.4.199|:443... connected.\n",
            "HTTP request sent, awaiting response... 302 Found\n",
            "Location: https://public.boxcloud.com/d/1/b1!zbesrucpPf99pxlyYFk8blw6UDVYHCB6kApppmKfi58jk2fEJCDxi9-S-UYLa7J3AOkpa3Al2-fMNyeHn0G35hO8dYzMz-4leoB_aFZkeRCrAA8m8CUMqgbJb6InvzDAGtc44oLyeZsXtGlyvdltdqIN4y-uGjtRL0Z3mt9DdOo4KbEO7q_k0GhDRLqg-OXopfkBbt8oqexud5LpBjiY9eNE5GfCcHSwdwrRfltN6aGl5If7ng_QFAoIsQwGeH3UPYQnzn2ShU1HVEUbF3JjwGfI2re94Pa6_8xKZ9mUT2Dktll9g7qP0ZwZL3YnpkenyXzJkLM1pryS_jbvJ3kHIl9PJFVnCPBjgBnCEZpiTUjwpbiJmaBHs6d2egtKRIr4TDVf4xQQa2P2votJygOgmCkJ_1g5KI14EY47xldW3AHmVulwaq8quOh2hl8y66pkCu-Qf-UH27O-udu0QyAQv8PZlEsA9Av2RlcOk9ZhjCSQKt0svJISiub1g7dXx7oS7Pfj9qULtj1c2WIdVeLyEMdtUxYFlanYT_EkxXKETDjrkHhYA8dWf-FGpu02aR5btpbA0uv2_yTvEKovrY8cYbkcEUBHcmpwvb2IjAHm0pvPX0wzVZaoAFI0jF4YB9PJZ0SK0Hotf4oiVFEJP-1SOg7HymFv6L-TokmW0Dsdu-x3viwZwq6RS2joLzF84qLLCFSAn6VvecukMcFXDvlecjVx6ztokp1zn2vZAxts6h205u5aw0JcNYmjky1OQNUx5PCDaTwp6rUltU0cqZS4u54NSxnj7PbYDdu2PjU-Cpkc3zB9ZwAozHKNLxVYk0v30pofwWumhZwNQVr0pY-M8vQzQKAUK22zFRp0lvnLHZeqYdEKV0Pj_Gc1iNrtpH0sfOJ2H3PlPjfjerWWGuQq5m6Q6EU4SIG0I7yjA8fKMtq4U546BFCXonJQT9DzPH_mDxQUUPmAzvvC10G5W-BAZAC60AcCb50562IfHGttmy01Fcm40GZ9WNZulGHWNB7ZP-Lcso6_8Tg5P6GZjlTeVMEl2Afk475tmzLIF8VRccYk2QIcziz4opgeWXE9fMmOk5aBMz7gQHiDp6PUpZM4c3-BcIvYE4Mw0eM8d761ZJJREeZcGV6V8QxPHNDrMdCtmr6FyWM_QFJHR1zMekb-3ykBaMo52fDlzJ7GPYlE5nDvKJ5UkxgeK6Rh65VXvAtpg6LZNdm84SldvJshZoqKIOih0QwPwcwGJISFJ4Lq5qzolmRdZ9o4Kh8bpNwJKWJJubcpYOwq8GqBbTj1TS6p4abe9PJU78zON_-vmFtHUrqsTSu433uZ1wfQVuTcXKTiuqUiWikCU10uGGrbsifa-gKg06anuLiOdgpaA04RF51luNUJv8xnG2oB1bKZSj-cylARZZYedJEsVPSIDwe1j2zxSQ../download [following]\n",
            "--2020-03-16 19:52:38--  https://public.boxcloud.com/d/1/b1!zbesrucpPf99pxlyYFk8blw6UDVYHCB6kApppmKfi58jk2fEJCDxi9-S-UYLa7J3AOkpa3Al2-fMNyeHn0G35hO8dYzMz-4leoB_aFZkeRCrAA8m8CUMqgbJb6InvzDAGtc44oLyeZsXtGlyvdltdqIN4y-uGjtRL0Z3mt9DdOo4KbEO7q_k0GhDRLqg-OXopfkBbt8oqexud5LpBjiY9eNE5GfCcHSwdwrRfltN6aGl5If7ng_QFAoIsQwGeH3UPYQnzn2ShU1HVEUbF3JjwGfI2re94Pa6_8xKZ9mUT2Dktll9g7qP0ZwZL3YnpkenyXzJkLM1pryS_jbvJ3kHIl9PJFVnCPBjgBnCEZpiTUjwpbiJmaBHs6d2egtKRIr4TDVf4xQQa2P2votJygOgmCkJ_1g5KI14EY47xldW3AHmVulwaq8quOh2hl8y66pkCu-Qf-UH27O-udu0QyAQv8PZlEsA9Av2RlcOk9ZhjCSQKt0svJISiub1g7dXx7oS7Pfj9qULtj1c2WIdVeLyEMdtUxYFlanYT_EkxXKETDjrkHhYA8dWf-FGpu02aR5btpbA0uv2_yTvEKovrY8cYbkcEUBHcmpwvb2IjAHm0pvPX0wzVZaoAFI0jF4YB9PJZ0SK0Hotf4oiVFEJP-1SOg7HymFv6L-TokmW0Dsdu-x3viwZwq6RS2joLzF84qLLCFSAn6VvecukMcFXDvlecjVx6ztokp1zn2vZAxts6h205u5aw0JcNYmjky1OQNUx5PCDaTwp6rUltU0cqZS4u54NSxnj7PbYDdu2PjU-Cpkc3zB9ZwAozHKNLxVYk0v30pofwWumhZwNQVr0pY-M8vQzQKAUK22zFRp0lvnLHZeqYdEKV0Pj_Gc1iNrtpH0sfOJ2H3PlPjfjerWWGuQq5m6Q6EU4SIG0I7yjA8fKMtq4U546BFCXonJQT9DzPH_mDxQUUPmAzvvC10G5W-BAZAC60AcCb50562IfHGttmy01Fcm40GZ9WNZulGHWNB7ZP-Lcso6_8Tg5P6GZjlTeVMEl2Afk475tmzLIF8VRccYk2QIcziz4opgeWXE9fMmOk5aBMz7gQHiDp6PUpZM4c3-BcIvYE4Mw0eM8d761ZJJREeZcGV6V8QxPHNDrMdCtmr6FyWM_QFJHR1zMekb-3ykBaMo52fDlzJ7GPYlE5nDvKJ5UkxgeK6Rh65VXvAtpg6LZNdm84SldvJshZoqKIOih0QwPwcwGJISFJ4Lq5qzolmRdZ9o4Kh8bpNwJKWJJubcpYOwq8GqBbTj1TS6p4abe9PJU78zON_-vmFtHUrqsTSu433uZ1wfQVuTcXKTiuqUiWikCU10uGGrbsifa-gKg06anuLiOdgpaA04RF51luNUJv8xnG2oB1bKZSj-cylARZZYedJEsVPSIDwe1j2zxSQ../download\n",
            "Resolving public.boxcloud.com (public.boxcloud.com)... 103.116.4.200\n",
            "Connecting to public.boxcloud.com (public.boxcloud.com)|103.116.4.200|:443... connected.\n",
            "HTTP request sent, awaiting response... 200 OK\n",
            "Length: 1640194 (1.6M) [application/octet-stream]\n",
            "Saving to: ‘personachat_all_sentences_valid.jsonl’\n",
            "\n",
            "personachat_all_sen 100%[===================>]   1.56M  3.56MB/s    in 0.4s    \n",
            "\n",
            "2020-03-16 19:52:39 (3.56 MB/s) - ‘personachat_all_sentences_valid.jsonl’ saved [1640194/1640194]\n",
            "\n",
            "--2020-03-16 19:52:40--  https://nyu.box.com/shared/static/im7we9k2gcf8kslqnfamsimicgosuw9y.jsonl\n",
            "Resolving nyu.box.com (nyu.box.com)... 103.116.4.197\n",
            "Connecting to nyu.box.com (nyu.box.com)|103.116.4.197|:443... connected.\n",
            "HTTP request sent, awaiting response... 301 Moved Permanently\n",
            "Location: /public/static/im7we9k2gcf8kslqnfamsimicgosuw9y.jsonl [following]\n",
            "--2020-03-16 19:52:40--  https://nyu.box.com/public/static/im7we9k2gcf8kslqnfamsimicgosuw9y.jsonl\n",
            "Reusing existing connection to nyu.box.com:443.\n",
            "HTTP request sent, awaiting response... 301 Moved Permanently\n",
            "Location: https://nyu.app.box.com/public/static/im7we9k2gcf8kslqnfamsimicgosuw9y.jsonl [following]\n",
            "--2020-03-16 19:52:41--  https://nyu.app.box.com/public/static/im7we9k2gcf8kslqnfamsimicgosuw9y.jsonl\n",
            "Resolving nyu.app.box.com (nyu.app.box.com)... 103.116.4.199\n",
            "Connecting to nyu.app.box.com (nyu.app.box.com)|103.116.4.199|:443... connected.\n",
            "HTTP request sent, awaiting response... 302 Found\n",
            "Location: https://public.boxcloud.com/d/1/b1!r0jamMdZW7NK9-dVuLcOg0Apnt7nGQ_YEo3SiK48z8HA5HR-wdpV67Zs1cu8EQ6NE9nAiRlIWk3OnIBLT0pMVtiBtoDMHLH_7V2_ggcmVM4QQZnwU5aJTI5V7YGhMW4tmy7vY9paZ0C6f21MJC6_1bvbzo0S9MEKjrNxY7h_QopaBhMw4X8nq-kMhfcNkkiNi9IOdg6LQqH7n5_9tXSSDwO9XxsH2RNemSZLG7OOt3DMqdlIh30AAfnaWWvhuVR0asQpQGMTFDR6yUAEu7uqXLBp7-5vMl-F1JEmxsBS8cbe2z2Q9mr5KoBp1CxRjVLqOTQk61tkymZNQ1QXrfgd_gbyMzRFLUlxc9Vv_bqYknIr4U-vRgRc8zx-KMdlL_bOcAx82hjv_WIPQcnP_CoMnR-6Tc1t9Dy_U7oL6HFolNfJcRYWtAAI_TtdCO6OD0VT0lTCiDif-tFGor1lNQ4vRRdRt261JEG3e3ja9SPz9XOeHi17J6Hr_7xWfPYnOlOFV06kiM91zGpcpcIOWFiffXfkStSgJAtCJt-icYXEMSzkgXstYUY6IZZKRabu5aB97ha3vrXw_KWlK7ylHXJ0k40hZ0jjDdVn8AEmdJxXPe5XeG2oOZZF2_QNAf1hvLQZnyMka0E1jJy5Uq-QaeFIbkaVnQSX5FbH1YQ9Fr1Lww0BLz8MZ3obYDsszD7TQhfSGmOlizaLwkYKnFVMlSo0jJA_d0vLnQmQHJ-gxSZCQZVPXGOP2JOWVPbSQVgM-uQ-haCoJAUr8XoNb94mPZGrMbznephFbZmglJ1WaerDyZIyOvx_c4mqv88kd1bc4ETxGJ0EwAssBprcPYD7YAMbqAi5aMEA54lQrZCOZYAvQDeJIcAXnxvhujvpIGucpVWjoQ6R3jvvqM6Xs-s7dZbROFTNmFMOjcKbqnelNb_myqFe2tF_pzRqSN1R42AzLif9Oh3GKGvMf9Poc_F8rRYfbl8NyixtTntIGj-joveqbyf--xy9PSVxAszz6oKpN7wSgpvcc_iPna74kOPSDclrEjvEzZ5Cc01WZ9oztUWns3KpG1wyFNVIMCGLJtuzq6E2DJuYJNHQb3m6ocW3SXxpocDu0gssIQfyO2zsjO62jkovXnavzMwWtWSQn9T-JB5Cfl_BHqGJ7II2OoBoB5R_hE-hgJpiaC54IcbeI0rYG5RGxIiyGX-s6Nd6nCgucUruHy4rRLOR7nTTKhLeAIYvpvB0ww6VebJx4ETdgLsHun1-LYjRTaLa7PgsDVlkgjmrA2KhHgFpQcpjkI5c9wL0oTU9UVFQ2ua27_P8IEfdZ1gcN_0BPd8ZK9p7x5J1VbL8MNF40ObTqK42etwSu574KeYr3a07zUJ4oiY6SoIfgTgVyWI9uiLP8ygnvvnBPT3M0EXFtFjQNSOTcTLlZK9on2A1/download [following]\n",
            "--2020-03-16 19:52:41--  https://public.boxcloud.com/d/1/b1!r0jamMdZW7NK9-dVuLcOg0Apnt7nGQ_YEo3SiK48z8HA5HR-wdpV67Zs1cu8EQ6NE9nAiRlIWk3OnIBLT0pMVtiBtoDMHLH_7V2_ggcmVM4QQZnwU5aJTI5V7YGhMW4tmy7vY9paZ0C6f21MJC6_1bvbzo0S9MEKjrNxY7h_QopaBhMw4X8nq-kMhfcNkkiNi9IOdg6LQqH7n5_9tXSSDwO9XxsH2RNemSZLG7OOt3DMqdlIh30AAfnaWWvhuVR0asQpQGMTFDR6yUAEu7uqXLBp7-5vMl-F1JEmxsBS8cbe2z2Q9mr5KoBp1CxRjVLqOTQk61tkymZNQ1QXrfgd_gbyMzRFLUlxc9Vv_bqYknIr4U-vRgRc8zx-KMdlL_bOcAx82hjv_WIPQcnP_CoMnR-6Tc1t9Dy_U7oL6HFolNfJcRYWtAAI_TtdCO6OD0VT0lTCiDif-tFGor1lNQ4vRRdRt261JEG3e3ja9SPz9XOeHi17J6Hr_7xWfPYnOlOFV06kiM91zGpcpcIOWFiffXfkStSgJAtCJt-icYXEMSzkgXstYUY6IZZKRabu5aB97ha3vrXw_KWlK7ylHXJ0k40hZ0jjDdVn8AEmdJxXPe5XeG2oOZZF2_QNAf1hvLQZnyMka0E1jJy5Uq-QaeFIbkaVnQSX5FbH1YQ9Fr1Lww0BLz8MZ3obYDsszD7TQhfSGmOlizaLwkYKnFVMlSo0jJA_d0vLnQmQHJ-gxSZCQZVPXGOP2JOWVPbSQVgM-uQ-haCoJAUr8XoNb94mPZGrMbznephFbZmglJ1WaerDyZIyOvx_c4mqv88kd1bc4ETxGJ0EwAssBprcPYD7YAMbqAi5aMEA54lQrZCOZYAvQDeJIcAXnxvhujvpIGucpVWjoQ6R3jvvqM6Xs-s7dZbROFTNmFMOjcKbqnelNb_myqFe2tF_pzRqSN1R42AzLif9Oh3GKGvMf9Poc_F8rRYfbl8NyixtTntIGj-joveqbyf--xy9PSVxAszz6oKpN7wSgpvcc_iPna74kOPSDclrEjvEzZ5Cc01WZ9oztUWns3KpG1wyFNVIMCGLJtuzq6E2DJuYJNHQb3m6ocW3SXxpocDu0gssIQfyO2zsjO62jkovXnavzMwWtWSQn9T-JB5Cfl_BHqGJ7II2OoBoB5R_hE-hgJpiaC54IcbeI0rYG5RGxIiyGX-s6Nd6nCgucUruHy4rRLOR7nTTKhLeAIYvpvB0ww6VebJx4ETdgLsHun1-LYjRTaLa7PgsDVlkgjmrA2KhHgFpQcpjkI5c9wL0oTU9UVFQ2ua27_P8IEfdZ1gcN_0BPd8ZK9p7x5J1VbL8MNF40ObTqK42etwSu574KeYr3a07zUJ4oiY6SoIfgTgVyWI9uiLP8ygnvvnBPT3M0EXFtFjQNSOTcTLlZK9on2A1/download\n",
            "Resolving public.boxcloud.com (public.boxcloud.com)... 103.116.4.200\n",
            "Connecting to public.boxcloud.com (public.boxcloud.com)|103.116.4.200|:443... connected.\n",
            "HTTP request sent, awaiting response... 200 OK\n",
            "Length: 1559597 (1.5M) [application/octet-stream]\n",
            "Saving to: ‘personachat_all_sentences_test.jsonl’\n",
            "\n",
            "personachat_all_sen 100%[===================>]   1.49M  4.52MB/s    in 0.3s    \n",
            "\n",
            "2020-03-16 19:52:42 (4.52 MB/s) - ‘personachat_all_sentences_test.jsonl’ saved [1559597/1559597]\n",
            "\n",
            "--2020-03-16 19:52:44--  https://nyu.box.com/shared/static/9kb7l7ci30hb6uahhbssjlq0kctr5ii4.json\n",
            "Resolving nyu.box.com (nyu.box.com)... 103.116.4.197\n",
            "Connecting to nyu.box.com (nyu.box.com)|103.116.4.197|:443... connected.\n",
            "HTTP request sent, awaiting response... 301 Moved Permanently\n",
            "Location: /public/static/9kb7l7ci30hb6uahhbssjlq0kctr5ii4.json [following]\n",
            "--2020-03-16 19:52:44--  https://nyu.box.com/public/static/9kb7l7ci30hb6uahhbssjlq0kctr5ii4.json\n",
            "Reusing existing connection to nyu.box.com:443.\n",
            "HTTP request sent, awaiting response... 301 Moved Permanently\n",
            "Location: https://nyu.app.box.com/public/static/9kb7l7ci30hb6uahhbssjlq0kctr5ii4.json [following]\n",
            "--2020-03-16 19:52:44--  https://nyu.app.box.com/public/static/9kb7l7ci30hb6uahhbssjlq0kctr5ii4.json\n",
            "Resolving nyu.app.box.com (nyu.app.box.com)... 103.116.4.199\n",
            "Connecting to nyu.app.box.com (nyu.app.box.com)|103.116.4.199|:443... connected.\n",
            "HTTP request sent, awaiting response... 302 Found\n",
            "Location: https://public.boxcloud.com/d/1/b1!C8-sFpWTBrrqTqHQOIqhw-QLG7TdSv0aN1ap4akPG0RcM87VgAn9xStofMXR71mOWvNKDIJ6iF8vJBYH_OyBV0qsYPJcsYGlrYbXftLbHFqthZLcwlXcnS_N3LCOlUpSgTixG41CEKe2FQRRiy6VL4NyK-bq-keAhTIH1FJkNm7TCqXSR2QgtCEQ_pCsCldGUYSp-JwXtR4TZTa44BMZO48qqToPs6kTNPuq4_a3z7ZW4vG_cBAh3YSspob78AQypggS9mP2AkmB0ZHlzAPZf2bMT-bzVev_JLd9CmuO_QDsiXCBlgmagR3eJpPmiEW-bgJm7StRKrIZi4ofwdBnQFJJVVQ7UGMbuG0Nnvr287VBFPSHINH-eUOftRNrP_nYUgHcvbqRcZj6CIIVcMrttTvlYx0K4OIE97ZxFL6138Yy-PhQawCdtRdAOJvnnTA7bT3elisFqznHzN9PeADY8M5XHAHrPCQbzJHDuP7KY1aTQrGZ9pdanW_X_u1UIu79zy3h8zL5yqgI0msQiSlNVNpHwhrRtiSRzlbXWwWKjVQKgnEp6-XaFg3rNsgeIkLqBuazYYuoJzVFE2HUszsz4lcGrMuTeKApRgHN1FVs4KzYMWop6KApS8mzNnH-m40ncvcykt5ToEQuys8rQDAcu5B72vKjVzWj0zQ5pWx1Ko_w3d_hq54IUxgpj7EDD80Bj3kIAwAKK3CyTEijLBH81Rhb4J08yteOVoiMtcvS_U1tXByRHL3m3ok1jv_7W5MnmuQhU_3xQfayMNpQ2gl12yJoFNGd9Rwu-oPLPslYamlObJa4MjApX80Y93UrC4yNGhO9Dq_gPiY-0X-VMT37N0xRIvmb0FMm7L9KYBNyODOqlLtJffmAfX_xNW6GS347D_01mAWXAh9jjwFTyCaM6ij2-bNRXzec_0foM9-MSVd8e5FoIU7MBv1QQ3tLB8OQuIrtiJzwsK_QS02BUR1vGCftxhC0skaZy87dm2nRxeUQ-vzZw-vgRTQCcvUzo_Nz2J9_Y_3LsNPDIamdxppmkPh8BQcSvbsTaYpinFebehCj1PTIOxC2Doy-H_OBU8FIop9VKmxleFkVTVWMBuz4AiTuZeZNLbb2Wz_sLRYKVlfDxwMimFZYBjhZwmjOPnSU7ROJIkPYADRcrNh4SUAk36tQZtHN2XLHk-dgIMkZO4dWGJzYRwxfvP48Z_WPcnbPeuRk-3vejktNIYKqpaKaSKP6m-10tg5EM1B1eMu-VLgR7XmZU2moltT2OzP05JWw676pJYUjx93cf_Az_AMmwzNVL7FsacVdDKFoM2VlbjidD6i_ARTglBNq0Py-Tj95LPdfZubsym-Dg6yT_6zopWsJbPF-yM7fAgonMlmTE0WNBaHTr-dWrOyw-l-vx-nkf_SKB1QzRTRf/download [following]\n",
            "--2020-03-16 19:52:45--  https://public.boxcloud.com/d/1/b1!C8-sFpWTBrrqTqHQOIqhw-QLG7TdSv0aN1ap4akPG0RcM87VgAn9xStofMXR71mOWvNKDIJ6iF8vJBYH_OyBV0qsYPJcsYGlrYbXftLbHFqthZLcwlXcnS_N3LCOlUpSgTixG41CEKe2FQRRiy6VL4NyK-bq-keAhTIH1FJkNm7TCqXSR2QgtCEQ_pCsCldGUYSp-JwXtR4TZTa44BMZO48qqToPs6kTNPuq4_a3z7ZW4vG_cBAh3YSspob78AQypggS9mP2AkmB0ZHlzAPZf2bMT-bzVev_JLd9CmuO_QDsiXCBlgmagR3eJpPmiEW-bgJm7StRKrIZi4ofwdBnQFJJVVQ7UGMbuG0Nnvr287VBFPSHINH-eUOftRNrP_nYUgHcvbqRcZj6CIIVcMrttTvlYx0K4OIE97ZxFL6138Yy-PhQawCdtRdAOJvnnTA7bT3elisFqznHzN9PeADY8M5XHAHrPCQbzJHDuP7KY1aTQrGZ9pdanW_X_u1UIu79zy3h8zL5yqgI0msQiSlNVNpHwhrRtiSRzlbXWwWKjVQKgnEp6-XaFg3rNsgeIkLqBuazYYuoJzVFE2HUszsz4lcGrMuTeKApRgHN1FVs4KzYMWop6KApS8mzNnH-m40ncvcykt5ToEQuys8rQDAcu5B72vKjVzWj0zQ5pWx1Ko_w3d_hq54IUxgpj7EDD80Bj3kIAwAKK3CyTEijLBH81Rhb4J08yteOVoiMtcvS_U1tXByRHL3m3ok1jv_7W5MnmuQhU_3xQfayMNpQ2gl12yJoFNGd9Rwu-oPLPslYamlObJa4MjApX80Y93UrC4yNGhO9Dq_gPiY-0X-VMT37N0xRIvmb0FMm7L9KYBNyODOqlLtJffmAfX_xNW6GS347D_01mAWXAh9jjwFTyCaM6ij2-bNRXzec_0foM9-MSVd8e5FoIU7MBv1QQ3tLB8OQuIrtiJzwsK_QS02BUR1vGCftxhC0skaZy87dm2nRxeUQ-vzZw-vgRTQCcvUzo_Nz2J9_Y_3LsNPDIamdxppmkPh8BQcSvbsTaYpinFebehCj1PTIOxC2Doy-H_OBU8FIop9VKmxleFkVTVWMBuz4AiTuZeZNLbb2Wz_sLRYKVlfDxwMimFZYBjhZwmjOPnSU7ROJIkPYADRcrNh4SUAk36tQZtHN2XLHk-dgIMkZO4dWGJzYRwxfvP48Z_WPcnbPeuRk-3vejktNIYKqpaKaSKP6m-10tg5EM1B1eMu-VLgR7XmZU2moltT2OzP05JWw676pJYUjx93cf_Az_AMmwzNVL7FsacVdDKFoM2VlbjidD6i_ARTglBNq0Py-Tj95LPdfZubsym-Dg6yT_6zopWsJbPF-yM7fAgonMlmTE0WNBaHTr-dWrOyw-l-vx-nkf_SKB1QzRTRf/download\n",
            "Resolving public.boxcloud.com (public.boxcloud.com)... 103.116.4.200\n",
            "Connecting to public.boxcloud.com (public.boxcloud.com)|103.116.4.200|:443... connected.\n",
            "HTTP request sent, awaiting response... 200 OK\n",
            "Length: 12714601 (12M) [application/octet-stream]\n",
            "Saving to: ‘wikitext2-sentencized.json’\n",
            "\n",
            "wikitext2-sentenciz 100%[===================>]  12.12M  11.0MB/s    in 1.1s    \n",
            "\n",
            "2020-03-16 19:52:47 (11.0 MB/s) - ‘wikitext2-sentencized.json’ saved [12714601/12714601]\n",
            "\n",
            "--2020-03-16 19:52:48--  https://nyu.box.com/shared/static/looczvct7ssh30x0gwqmvencple8xok9.pt\n",
            "Resolving nyu.box.com (nyu.box.com)... 103.116.4.197\n",
            "Connecting to nyu.box.com (nyu.box.com)|103.116.4.197|:443... connected.\n",
            "HTTP request sent, awaiting response... 301 Moved Permanently\n",
            "Location: /public/static/looczvct7ssh30x0gwqmvencple8xok9.pt [following]\n",
            "--2020-03-16 19:52:49--  https://nyu.box.com/public/static/looczvct7ssh30x0gwqmvencple8xok9.pt\n",
            "Reusing existing connection to nyu.box.com:443.\n",
            "HTTP request sent, awaiting response... 301 Moved Permanently\n",
            "Location: https://nyu.app.box.com/public/static/looczvct7ssh30x0gwqmvencple8xok9.pt [following]\n",
            "--2020-03-16 19:52:49--  https://nyu.app.box.com/public/static/looczvct7ssh30x0gwqmvencple8xok9.pt\n",
            "Resolving nyu.app.box.com (nyu.app.box.com)... 103.116.4.199\n",
            "Connecting to nyu.app.box.com (nyu.app.box.com)|103.116.4.199|:443... connected.\n",
            "HTTP request sent, awaiting response... 302 Found\n",
            "Location: https://public.boxcloud.com/d/1/b1!IcGr8GX5JFAjjLCrJARMATjqjNG6hLB9br9JwJs-FZkMIspEegQgTFqMRGLwymGgpMZf6ON3_1dZpy5zEPxI8cmYbQFQDYoejVhrKWiq3SdKnet4KDoE_omTtdqrOe1WyElsOwSLusuR9E43t901hQH-PMkPLYmZU_dIPPTn4vwOdgZWUdFen32JcXTGHJBOSAqnTfyCp0lkzqic0eNMXst0fmt25aCiNRdwr8yJ02XKSYxGRPRSfdeDcdkFa_r4ZfuZcYP5-U3gkBEIJbBfkXXcCM1MrZ0yAzHyAL9eoDiyv-CX8xGj7bf-QvQq-zT4ETq4NMzdfrbL2f-cGdXiO5tsD3S6pcjBBVZb2_x7DNH3P20dqD1aANJEoMKJ7FuclGaI1KCjofnU5C7nqds9F-MWPud5mEJ3CIJHhCqzIzfo0OrC4DutrjsmDXPd87JP5wuqWwj5Wbpdgh5EsQaTglniauqdfWEoK-D7S03VOV9sbuP3tI2sK7bgdu_nqHtSfgVccau5F5sVOUjGWI8x_W08Z66cZwg9gt86rWny-1HZ5BVr2eYAMpD9513H9_ROnCMPaHek1goDOKqHD9SNH6h9x5N5gQLN6pjyCbkPlW3coN1mySLBvivyd1t6m30xIoJyJOMU8bt2zbzeSb9na1u5k5HfL_3_Myju_6ITrqo8lAiTKpDckVSSdMBzrw0lMovsYRGn-gzHExRITvbVtZtXQLadWMspyxPYWLy8FXxK_Ut6e1hZ3j9fwNlNsZeZLvMP4dGG_muFOMcRfFvXhvaan7e7uh3DdlGWC04LcAy-AjG6xJcsf18yy5XSqRHYi_Qtvw8G_n2KjosLIzzPeiFWXBUvuQhV3rPVd8sFFjy3H7wmm4oJBgcr7nl-mdmySVYOHs4QG_8l75skPdvkoTGqHth417M7ucbWVH4tIqqWIaY8m4umiG6jshbYDbh8LFpZMD5Wz1azyoTZcaYG6YIwCepWmAAqShaxWR2W9HbGsxcbBizID7GEXFKGkP7dknxBgxwTmPjrkjBwvrYjR6wK5E-d58ZXq-U9olcWi1fdL2P9Va8E5tgjTAFlCHbYJaf4pCYgXFZtOynYQY1qAJrfkZ_XvMai2cQge5OVdkoimxeEqt7WI9_6FpgNuesRHEctKPuizNr5z5CPEIGwXsAKglPgpTJ14GmpKTltrKkNB6SyhRK2AJ5Q8e1Yj9TlMo7LW9zrIlU26sS-wO7C3lE86sDVw3qmDIWk-njL55_wETatm10RFvrW_is6_lkmozvSbsjfJCOUSyEmWiwT6Pc8_Is7HJRS1vetBdTTmVAbSK6j6VAlDElWK0IorEreeXXb_sCJBBkXZP9o1PrTjF7wwuXj3WcqdMka-rXeLN2n_eBP4fIACiMLQoA220WsuQ../download [following]\n",
            "--2020-03-16 19:52:50--  https://public.boxcloud.com/d/1/b1!IcGr8GX5JFAjjLCrJARMATjqjNG6hLB9br9JwJs-FZkMIspEegQgTFqMRGLwymGgpMZf6ON3_1dZpy5zEPxI8cmYbQFQDYoejVhrKWiq3SdKnet4KDoE_omTtdqrOe1WyElsOwSLusuR9E43t901hQH-PMkPLYmZU_dIPPTn4vwOdgZWUdFen32JcXTGHJBOSAqnTfyCp0lkzqic0eNMXst0fmt25aCiNRdwr8yJ02XKSYxGRPRSfdeDcdkFa_r4ZfuZcYP5-U3gkBEIJbBfkXXcCM1MrZ0yAzHyAL9eoDiyv-CX8xGj7bf-QvQq-zT4ETq4NMzdfrbL2f-cGdXiO5tsD3S6pcjBBVZb2_x7DNH3P20dqD1aANJEoMKJ7FuclGaI1KCjofnU5C7nqds9F-MWPud5mEJ3CIJHhCqzIzfo0OrC4DutrjsmDXPd87JP5wuqWwj5Wbpdgh5EsQaTglniauqdfWEoK-D7S03VOV9sbuP3tI2sK7bgdu_nqHtSfgVccau5F5sVOUjGWI8x_W08Z66cZwg9gt86rWny-1HZ5BVr2eYAMpD9513H9_ROnCMPaHek1goDOKqHD9SNH6h9x5N5gQLN6pjyCbkPlW3coN1mySLBvivyd1t6m30xIoJyJOMU8bt2zbzeSb9na1u5k5HfL_3_Myju_6ITrqo8lAiTKpDckVSSdMBzrw0lMovsYRGn-gzHExRITvbVtZtXQLadWMspyxPYWLy8FXxK_Ut6e1hZ3j9fwNlNsZeZLvMP4dGG_muFOMcRfFvXhvaan7e7uh3DdlGWC04LcAy-AjG6xJcsf18yy5XSqRHYi_Qtvw8G_n2KjosLIzzPeiFWXBUvuQhV3rPVd8sFFjy3H7wmm4oJBgcr7nl-mdmySVYOHs4QG_8l75skPdvkoTGqHth417M7ucbWVH4tIqqWIaY8m4umiG6jshbYDbh8LFpZMD5Wz1azyoTZcaYG6YIwCepWmAAqShaxWR2W9HbGsxcbBizID7GEXFKGkP7dknxBgxwTmPjrkjBwvrYjR6wK5E-d58ZXq-U9olcWi1fdL2P9Va8E5tgjTAFlCHbYJaf4pCYgXFZtOynYQY1qAJrfkZ_XvMai2cQge5OVdkoimxeEqt7WI9_6FpgNuesRHEctKPuizNr5z5CPEIGwXsAKglPgpTJ14GmpKTltrKkNB6SyhRK2AJ5Q8e1Yj9TlMo7LW9zrIlU26sS-wO7C3lE86sDVw3qmDIWk-njL55_wETatm10RFvrW_is6_lkmozvSbsjfJCOUSyEmWiwT6Pc8_Is7HJRS1vetBdTTmVAbSK6j6VAlDElWK0IorEreeXXb_sCJBBkXZP9o1PrTjF7wwuXj3WcqdMka-rXeLN2n_eBP4fIACiMLQoA220WsuQ../download\n",
            "Resolving public.boxcloud.com (public.boxcloud.com)... 103.116.4.200\n",
            "Connecting to public.boxcloud.com (public.boxcloud.com)|103.116.4.200|:443... connected.\n",
            "HTTP request sent, awaiting response... 200 OK\n",
            "Length: 63894321 (61M) [application/octet-stream]\n",
            "Saving to: ‘personachat_ffnn_lm.pt’\n",
            "\n",
            "personachat_ffnn_lm 100%[===================>]  60.93M  12.1MB/s    in 5.0s    \n",
            "\n",
            "2020-03-16 19:52:56 (12.1 MB/s) - ‘personachat_ffnn_lm.pt’ saved [63894321/63894321]\n",
            "\n",
            "--2020-03-16 19:52:57--  https://nyu.box.com/shared/static/3jl9erctnvbefnczgmetkdil0xwpcxzb.pt\n",
            "Resolving nyu.box.com (nyu.box.com)... 103.116.4.197\n",
            "Connecting to nyu.box.com (nyu.box.com)|103.116.4.197|:443... connected.\n",
            "HTTP request sent, awaiting response... 301 Moved Permanently\n",
            "Location: /public/static/3jl9erctnvbefnczgmetkdil0xwpcxzb.pt [following]\n",
            "--2020-03-16 19:52:58--  https://nyu.box.com/public/static/3jl9erctnvbefnczgmetkdil0xwpcxzb.pt\n",
            "Reusing existing connection to nyu.box.com:443.\n",
            "HTTP request sent, awaiting response... 301 Moved Permanently\n",
            "Location: https://nyu.app.box.com/public/static/3jl9erctnvbefnczgmetkdil0xwpcxzb.pt [following]\n",
            "--2020-03-16 19:52:58--  https://nyu.app.box.com/public/static/3jl9erctnvbefnczgmetkdil0xwpcxzb.pt\n",
            "Resolving nyu.app.box.com (nyu.app.box.com)... 103.116.4.199\n",
            "Connecting to nyu.app.box.com (nyu.app.box.com)|103.116.4.199|:443... connected.\n",
            "HTTP request sent, awaiting response... 302 Found\n",
            "Location: https://public.boxcloud.com/d/1/b1!E4_0y9QgxI5osJmYvA_ubkfDTBD-LsWos_ftmzhYw8cfhsufs7EswPMZZQAfJpRAuK5WwqH0ttvg1plnfBE3OSRmAasb9mcThy12idCr6mtQrF6ofOKViDp1s9VRV-Rp8UYT409je7Yc8Uzc6bMAnJjNlD-MYOXjRzTx1-TnzkVwz7mLrY2RU_itSvSgq6HdIwhC-uIHAznJ4Tof2s-9w2-okhtfkDG_j1AHqSzsaRJj0hcw4YCiUJFyKUFNvw7-8jHhm2gerBjUMnpfx_z0nqTdDVU-BZ9GzT4xfpDvoKJ6rivgTjLzhdfA_LTeThzKbDkPYWPOOMfB76uujDyi1mOInH1oVsdjXs1C_TNHgy0P_dHMVmlbFon0lcb_ONU3ngWjNyv-zZY92PZkqqY-OJ8YIPUleKc5MRfHtt_35U2ApPkN550vAL8PrX54Yz58c0EzWGzx10jc0_dmbjPcGGbRxiZ6dHwfE-n3VvIdTuwTO7ilR9tOdsA73VJEerdHQQ3LGJ77BxJan_Z1A19_72N165zuuwfG6xq3J5lKEprM98a6eonp9kp3MzdojdjC1jiclS8vR_T2ETe6IXAbJWsOH9ax04-w4niFY7p8HLv910azeBnS1whf6Ik-1n5LjvwkVPcn5L_W1exAIz-lbEAsv-kkXrHXD3-5BfjS1D1TL7xpEdnIlpL2Fl6lHiqCN1wPW9kpdsDdEo9FtdyFlRZXq-uJfswP8MPOvVt7sDcrCejXjwKBtl5kM3XvsG_mbxvyNXdfpq7DjnMq2-mF54bIu8eIV9C-airKEr3PmN-4oshvXzbyYotx_Wry1FMpX8rwTP4Xh_SY72R_sjOsNbkLaHRhq9V61rtXEWb0Uc-HR-RLZemdtLOnb9EdGOGl73HjulsRL77PXR7KlsiVPbpxWavYeEnSdX2VeLpLOISe3BEMQCj7NDs-Gzbbn-4Js1Q-cu0glHHFkkO94ajsWWthffeE4jCOknGZkxv3tiwjuxFUZpsY7zVElKvQqcicWlsxryH7cpbI1HLVQlcMIeJnFTs7P9YfbVCzjAdYxtANJKG-UQ5efu62w3hkCWr3HZr23AVU3_kxp1neqRGPVDhGu8zRs0Lc00hR8fwbPTBZv2tVmnDhD6aR1noikh9GpU_Oy9iE-ChdpWtx9qCqc5qIQlyjGvdKikIYwbRskhcKCIu1mMP7PGIHmiy5KILyf6ytrDomAA-CDADm7nETZPMuV19qL6Kh9YQrQLD0VA99OO00d0JTq_9xid_YXVl7Ax8HBdr7HuQ8kdXfIqfKbCdwRtkpfwKjbaRcoxgcIeqOkFu2xjzRpdoZH08kzvtFOodGH_9CsJ5zoPCTssn3gAAi9EJ7Vh6hGVjoTI1bYUqM5QAaem6Ry8Ie7Ti9MEU./download [following]\n",
            "--2020-03-16 19:52:59--  https://public.boxcloud.com/d/1/b1!E4_0y9QgxI5osJmYvA_ubkfDTBD-LsWos_ftmzhYw8cfhsufs7EswPMZZQAfJpRAuK5WwqH0ttvg1plnfBE3OSRmAasb9mcThy12idCr6mtQrF6ofOKViDp1s9VRV-Rp8UYT409je7Yc8Uzc6bMAnJjNlD-MYOXjRzTx1-TnzkVwz7mLrY2RU_itSvSgq6HdIwhC-uIHAznJ4Tof2s-9w2-okhtfkDG_j1AHqSzsaRJj0hcw4YCiUJFyKUFNvw7-8jHhm2gerBjUMnpfx_z0nqTdDVU-BZ9GzT4xfpDvoKJ6rivgTjLzhdfA_LTeThzKbDkPYWPOOMfB76uujDyi1mOInH1oVsdjXs1C_TNHgy0P_dHMVmlbFon0lcb_ONU3ngWjNyv-zZY92PZkqqY-OJ8YIPUleKc5MRfHtt_35U2ApPkN550vAL8PrX54Yz58c0EzWGzx10jc0_dmbjPcGGbRxiZ6dHwfE-n3VvIdTuwTO7ilR9tOdsA73VJEerdHQQ3LGJ77BxJan_Z1A19_72N165zuuwfG6xq3J5lKEprM98a6eonp9kp3MzdojdjC1jiclS8vR_T2ETe6IXAbJWsOH9ax04-w4niFY7p8HLv910azeBnS1whf6Ik-1n5LjvwkVPcn5L_W1exAIz-lbEAsv-kkXrHXD3-5BfjS1D1TL7xpEdnIlpL2Fl6lHiqCN1wPW9kpdsDdEo9FtdyFlRZXq-uJfswP8MPOvVt7sDcrCejXjwKBtl5kM3XvsG_mbxvyNXdfpq7DjnMq2-mF54bIu8eIV9C-airKEr3PmN-4oshvXzbyYotx_Wry1FMpX8rwTP4Xh_SY72R_sjOsNbkLaHRhq9V61rtXEWb0Uc-HR-RLZemdtLOnb9EdGOGl73HjulsRL77PXR7KlsiVPbpxWavYeEnSdX2VeLpLOISe3BEMQCj7NDs-Gzbbn-4Js1Q-cu0glHHFkkO94ajsWWthffeE4jCOknGZkxv3tiwjuxFUZpsY7zVElKvQqcicWlsxryH7cpbI1HLVQlcMIeJnFTs7P9YfbVCzjAdYxtANJKG-UQ5efu62w3hkCWr3HZr23AVU3_kxp1neqRGPVDhGu8zRs0Lc00hR8fwbPTBZv2tVmnDhD6aR1noikh9GpU_Oy9iE-ChdpWtx9qCqc5qIQlyjGvdKikIYwbRskhcKCIu1mMP7PGIHmiy5KILyf6ytrDomAA-CDADm7nETZPMuV19qL6Kh9YQrQLD0VA99OO00d0JTq_9xid_YXVl7Ax8HBdr7HuQ8kdXfIqfKbCdwRtkpfwKjbaRcoxgcIeqOkFu2xjzRpdoZH08kzvtFOodGH_9CsJ5zoPCTssn3gAAi9EJ7Vh6hGVjoTI1bYUqM5QAaem6Ry8Ie7Ti9MEU./download\n",
            "Resolving public.boxcloud.com (public.boxcloud.com)... 103.116.4.200\n",
            "Connecting to public.boxcloud.com (public.boxcloud.com)|103.116.4.200|:443... connected.\n",
            "HTTP request sent, awaiting response... 200 OK\n",
            "Length: 67576905 (64M) [application/octet-stream]\n",
            "Saving to: ‘personachat_rnn_lm.pt’\n",
            "\n",
            "personachat_rnn_lm. 100%[===================>]  64.45M  15.0MB/s    in 4.5s    \n",
            "\n",
            "2020-03-16 19:53:04 (14.5 MB/s) - ‘personachat_rnn_lm.pt’ saved [67576905/67576905]\n",
            "\n"
          ],
          "name": "stdout"
        }
      ]
    },
    {
      "cell_type": "markdown",
      "metadata": {
        "colab_type": "text",
        "id": "G0PkAzAkKHZw"
      },
      "source": [
        "## N-gram modeling as classification\n",
        "\n",
        "In the previous n-gram language models lab, the probability of a word given a history ('prefix') was computed using n-gram **counts**.\n",
        "\n",
        "In this lab, our goal will be the same: modeling the probability of variable length sequences, $$p(x_1,\\ldots,x_T)=\\prod_{t=1}^T p(x_t|x_{<t}),$$\n",
        "\n",
        "by assuming that each word $x_t$ only depends on the preceding $n-1$ words, $$p(x_1,\\ldots,x_T)=\\prod_{t=1}^T p(x_t|x_{t-n+1},\\ldots,x_{t-1}).$$\n",
        "\n",
        "\n",
        "However, _instead of counts_, we will now use a **neural network** to **classify** each history, where each class is the next word.\n",
        "\n",
        "<img src=\"img/fflm.png\" alt=\"Drawing\" style=\"width: 35%;\"/>\n",
        "\n",
        "[Diagram: modified from the [NLP Lecture Note](https://github.com/nyu-dl/NLP_DL_Lecture_Note/blob/master/lecture_note.pdf) by Kyunghyun Cho]"
      ]
    },
    {
      "cell_type": "markdown",
      "metadata": {
        "colab_type": "text",
        "id": "_rHGuy-zbj-R"
      },
      "source": [
        "## Modeling chat utterances\n",
        "\n",
        "We will build a **feed-forward neural n-gram model** to model chat utterances.\n",
        "\n",
        "### 1. Prepare the data\n",
        "\n",
        "To load and preprocess the data, we'll use utility functions from `data.py`."
      ]
    },
    {
      "cell_type": "code",
      "metadata": {
        "id": "TVEmLrby6o74",
        "colab_type": "code",
        "colab": {}
      },
      "source": [
        "import os\n",
        "import jsonlines\n",
        "import torch\n",
        "\n",
        "from tqdm import tqdm\n",
        "from torch.utils.data import Dataset\n",
        "\n",
        "\n",
        "class Dictionary(object):\n",
        "    def __init__(\n",
        "        self, datasets, include_valid=False, special_tokens=('<bos>', '<eos>', '<pad>', '<unk>')\n",
        "    ):\n",
        "        self.tokens = []\n",
        "        self.ids = {}\n",
        "\n",
        "        for token in special_tokens:\n",
        "            self.add_token(token)\n",
        "\n",
        "        for line in tqdm(datasets['train']):\n",
        "            for w in line:\n",
        "                self.add_token(w)\n",
        "\n",
        "        if include_valid is True:\n",
        "            for line in tqdm(datasets['valid']):\n",
        "                for w in line:\n",
        "                    self.add_token(w)\n",
        "\n",
        "    def add_token(self, w):\n",
        "        if w not in self.tokens:\n",
        "            self.tokens.append(w)\n",
        "            _w_id = len(self.tokens) - 1\n",
        "            self.ids[w] = _w_id\n",
        "\n",
        "    def get_id(self, w):\n",
        "        if w not in self.ids:\n",
        "            return self.ids['<unk>']\n",
        "        return self.ids[w]\n",
        "\n",
        "    def get_token(self, idx):\n",
        "        return self.tokens[idx]\n",
        "\n",
        "    def decode_idx_seq(self, l):\n",
        "        return [self.tokens[i] for i in l]\n",
        "\n",
        "    def encode_token_seq(self, l):\n",
        "        return [self.ids[i] if i in self.ids else self.ids['<unk>'] for i in l]\n",
        "\n",
        "    def __len__(self):\n",
        "        return len(self.tokens)\n",
        "\n",
        "\n",
        "class NgramDataset(Dataset):\n",
        "    def __init__(self, ngram_dataset):\n",
        "        super().__init__()\n",
        "        self.ngrams = [torch.tensor(i, dtype=torch.long) for i in ngram_dataset]\n",
        "\n",
        "    def __getitem__(self, i):\n",
        "        sample = self.ngrams[i]\n",
        "        return sample\n",
        "\n",
        "    def __len__(self):\n",
        "        return len(self.ngrams)\n",
        "\n",
        "def load_personachat(basedir):\n",
        "    datasets_fnames = {\n",
        "        'train': os.path.join(basedir, 'personachat_all_sentences_train.jsonl'),\n",
        "        'valid': os.path.join(basedir, 'personachat_all_sentences_valid.jsonl'),\n",
        "        'test': os.path.join(basedir, 'personachat_all_sentences_test.jsonl'),\n",
        "    }\n",
        "    datasets_text = {\n",
        "        'train': [],\n",
        "        'valid': [],\n",
        "        'test': [],\n",
        "    }\n",
        "    for split, fname in datasets_fnames.items():\n",
        "        for token_dict in jsonlines.open(fname):\n",
        "            datasets_text[split].append(token_dict['tokens'])\n",
        "    return datasets_text\n",
        "\n",
        "\n",
        "# =========== N-gram =========\n",
        "def batchify(list_minibatch):\n",
        "    inp_list = [i[:-1] for i in list_minibatch]\n",
        "    tar_list = [i[-1] for i in list_minibatch]\n",
        "\n",
        "    inp_tensor = torch.stack(inp_list, dim=0)\n",
        "    tar_tensor = torch.stack(tar_list, dim=0)\n",
        "\n",
        "    return inp_tensor, tar_tensor\n",
        "\n",
        "\n",
        "def tokenize_dataset(datasets, dictionary, ngram_order=2):\n",
        "    tokenized_datasets = {}\n",
        "    for split, dataset in datasets.items():\n",
        "        _current_dictified = []\n",
        "        for l in dataset:\n",
        "            l = ['<bos>'] * (ngram_order - 1) + l + ['<eos>']\n",
        "            encoded_l = dictionary.encode_token_seq(l)\n",
        "            _current_dictified.append(encoded_l)\n",
        "        tokenized_datasets[split] = _current_dictified\n",
        "    return tokenized_datasets\n",
        "\n",
        "\n",
        "def slice_into_ngrams(tokenized_dataset, ngram_order=5):\n",
        "    \"\"\"This function slices the input sequence into ngrams, e.g:\n",
        "            [0,1,2,3,4,5] with `ngram_order=2` will be sliced into bigrams:\n",
        "            [0,1], [1,2], [2,3], [3,4], [4,5].\"\"\"\n",
        "    sliced_datasets = {}\n",
        "    for split, dataset in tokenized_dataset.items():\n",
        "        _list_of_sliced_ngrams = []\n",
        "        for seq in dataset:\n",
        "            ngrams = [seq[i:i+ngram_order] for i in range(len(seq)-ngram_order+1)]\n",
        "            _list_of_sliced_ngrams.extend(ngrams)\n",
        "        sliced_datasets[split] = _list_of_sliced_ngrams\n",
        "    return sliced_datasets\n",
        "\n",
        "\n",
        "# ======== RNN ===========\n",
        "class TensoredDataset(Dataset):\n",
        "    def __init__(self, list_of_lists_of_tokens, pad_token_id):\n",
        "        self.input_tensors = []\n",
        "        self.target_tensors = []\n",
        "        self.pad = pad_token_id\n",
        "\n",
        "        for sample in list_of_lists_of_tokens:\n",
        "            self.input_tensors.append(\n",
        "                torch.tensor([sample[:-1]], dtype=torch.long)\n",
        "            )\n",
        "            self.target_tensors.append(\n",
        "                torch.tensor([sample[1:]], dtype=torch.long)\n",
        "            )\n",
        "\n",
        "    def __len__(self):\n",
        "        return len(self.input_tensors)\n",
        "\n",
        "    def __getitem__(self, idx):\n",
        "        return self.input_tensors[idx], self.target_tensors[idx]\n",
        "\n",
        "    def pad_collate_fn(self, batch):\n",
        "        input_list = [s[0] for s in batch]\n",
        "        target_list = [s[1] for s in batch]\n",
        "        input_tensor = self.pad_list_of_tensors(input_list)\n",
        "        target_tensor = self.pad_list_of_tensors(target_list)\n",
        "        return input_tensor, target_tensor\n",
        "\n",
        "    def pad_list_of_tensors(self, list_of_tensors):\n",
        "        max_length = max([t.size(-1) for t in list_of_tensors])\n",
        "        padded_list = []\n",
        "        for t in list_of_tensors:\n",
        "            padded_tensor = torch.cat(\n",
        "                [t, torch.tensor([[self.pad] * (max_length - t.size(-1))], dtype=torch.long)],\n",
        "                dim=-1\n",
        "            )\n",
        "            padded_list.append(padded_tensor)\n",
        "\n",
        "        padded_tensor = torch.cat(padded_list, dim=0)\n",
        "        return padded_tensor\n"
      ],
      "execution_count": 0,
      "outputs": []
    },
    {
      "cell_type": "code",
      "metadata": {
        "colab_type": "code",
        "id": "TsLd-pAlbj-Y",
        "colab": {}
      },
      "source": [
        "# import data as data_utils"
      ],
      "execution_count": 0,
      "outputs": []
    },
    {
      "cell_type": "code",
      "metadata": {
        "id": "jceQ8f_s7Buw",
        "colab_type": "code",
        "colab": {}
      },
      "source": [
        "datasets = load_personachat('./')"
      ],
      "execution_count": 0,
      "outputs": []
    },
    {
      "cell_type": "code",
      "metadata": {
        "colab_type": "code",
        "id": "UYIBNnOwO9wa",
        "outputId": "8f37c5ff-7038-4c7a-a54a-6cf4071e6192",
        "colab": {
          "base_uri": "https://localhost:8080/",
          "height": 54
        }
      },
      "source": [
        "datasets = load_personachat('./')\n",
        "dictionary = Dictionary(datasets, include_valid=True)"
      ],
      "execution_count": 0,
      "outputs": [
        {
          "output_type": "stream",
          "text": [
            "100%|██████████| 133176/133176 [00:19<00:00, 6747.58it/s]\n",
            "100%|██████████| 16181/16181 [00:03<00:00, 5229.35it/s]\n"
          ],
          "name": "stderr"
        }
      ]
    },
    {
      "cell_type": "markdown",
      "metadata": {
        "id": "wtympklE4b2f",
        "colab_type": "text"
      },
      "source": [
        "Let's look at an example from the dataset (note that in addition to `train` we also have `valid`, `test` splits):"
      ]
    },
    {
      "cell_type": "code",
      "metadata": {
        "id": "6ImdOqZf4b2h",
        "colab_type": "code",
        "outputId": "a1ea8fd4-dd36-4576-c297-828d330565b9",
        "colab": {
          "base_uri": "https://localhost:8080/",
          "height": 145
        }
      },
      "source": [
        "index = 0\n",
        "split = 'train'\n",
        "encoded = dictionary.encode_token_seq(datasets[split][index])\n",
        "decoded = dictionary.decode_idx_seq(encoded)\n",
        "\n",
        "print(\"Dataset size %d (train), %d (valid), %d (test).\\n\" %\n",
        "     (len(datasets['train']), \n",
        "      len(datasets['valid']), \n",
        "      len(datasets['test'])))\n",
        "print(' '.join(datasets[split][index]))\n",
        "print(f'\\n word indices - {encoded}')\n",
        "print(f'\\n words - {decoded}')"
      ],
      "execution_count": 0,
      "outputs": [
        {
          "output_type": "stream",
          "text": [
            "Dataset size 133176 (train), 16181 (valid), 15608 (test).\n",
            "\n",
            "i am doing great except for the allergies .\n",
            "\n",
            " word indices - [4, 5, 6, 7, 8, 9, 10, 11, 12]\n",
            "\n",
            " words - ['i', 'am', 'doing', 'great', 'except', 'for', 'the', 'allergies', '.']\n"
          ],
          "name": "stdout"
        }
      ]
    },
    {
      "cell_type": "markdown",
      "metadata": {
        "id": "pRSCcMLs4b2l",
        "colab_type": "text"
      },
      "source": [
        "Now we add `<bos>`, `<eos>`, and turn each **sequence** into **n-grams**:"
      ]
    },
    {
      "cell_type": "code",
      "metadata": {
        "id": "T72JnKqz4b2m",
        "colab_type": "code",
        "outputId": "cbb5ca59-e305-4dda-8b63-459b075424ec",
        "colab": {
          "base_uri": "https://localhost:8080/",
          "height": 381
        }
      },
      "source": [
        "ngram_order = 5\n",
        "tokenized_datasets = tokenize_dataset(datasets, dictionary, ngram_order)\n",
        "ngram_datasets = slice_into_ngrams(tokenized_datasets, ngram_order)\n",
        "\n",
        "for i in range(10):\n",
        "    decoded = dictionary.decode_idx_seq(ngram_datasets[split][index+i])\n",
        "    print(f'\\n {i} - {decoded}')"
      ],
      "execution_count": 0,
      "outputs": [
        {
          "output_type": "stream",
          "text": [
            "\n",
            " 0 - ['<bos>', '<bos>', '<bos>', '<bos>', 'i']\n",
            "\n",
            " 1 - ['<bos>', '<bos>', '<bos>', 'i', 'am']\n",
            "\n",
            " 2 - ['<bos>', '<bos>', 'i', 'am', 'doing']\n",
            "\n",
            " 3 - ['<bos>', 'i', 'am', 'doing', 'great']\n",
            "\n",
            " 4 - ['i', 'am', 'doing', 'great', 'except']\n",
            "\n",
            " 5 - ['am', 'doing', 'great', 'except', 'for']\n",
            "\n",
            " 6 - ['doing', 'great', 'except', 'for', 'the']\n",
            "\n",
            " 7 - ['great', 'except', 'for', 'the', 'allergies']\n",
            "\n",
            " 8 - ['except', 'for', 'the', 'allergies', '.']\n",
            "\n",
            " 9 - ['for', 'the', 'allergies', '.', '<eos>']\n"
          ],
          "name": "stdout"
        }
      ]
    },
    {
      "cell_type": "markdown",
      "metadata": {
        "id": "_C2G1_PD4b2p",
        "colab_type": "text"
      },
      "source": [
        "Finally, we create a **Pytorch** `Dataset` and `DataLoader` that can be used for training a neural network."
      ]
    },
    {
      "cell_type": "code",
      "metadata": {
        "colab_type": "code",
        "id": "401zpVGvNcmR",
        "colab": {}
      },
      "source": [
        "from torch.utils.data import DataLoader\n",
        "\n",
        "datasets = {}\n",
        "dataloaders = {}\n",
        "for split, dataset in ngram_datasets.items():\n",
        "    dataset_ = NgramDataset(dataset)\n",
        "    datasets[split] = dataset_\n",
        "    dataloaders[split] = DataLoader(\n",
        "        dataset_, \n",
        "        batch_size=2048, \n",
        "        shuffle=(split == 'train'), \n",
        "        collate_fn=batchify\n",
        "    )"
      ],
      "execution_count": 0,
      "outputs": []
    },
    {
      "cell_type": "markdown",
      "metadata": {
        "id": "E2_hsHAX4b2v",
        "colab_type": "text"
      },
      "source": [
        "### 2. Defining the model\n",
        "\n",
        "\n",
        "#### How do we represent the input $x_t$? \n",
        "\n",
        "Each $x_t$ is an **integer** (token id), and we transform it into a **vector** $f_{\\text{embed}}(x_t)\\in\\mathbb{R}^d$ using an `Embedding` layer."
      ]
    },
    {
      "cell_type": "markdown",
      "metadata": {
        "colab_type": "text",
        "id": "jlUBUtnhbj-f"
      },
      "source": [
        "An embedding layer serves as a differentiable look-up table. Given an integer token id, it returns a vector representation which we call an **embedding**."
      ]
    },
    {
      "cell_type": "code",
      "metadata": {
        "colab_type": "code",
        "id": "F7wBvXaYbj-g",
        "colab": {}
      },
      "source": [
        "import torch\n",
        "from torch.nn import Embedding\n",
        "# Embedding??"
      ],
      "execution_count": 0,
      "outputs": []
    },
    {
      "cell_type": "code",
      "metadata": {
        "colab_type": "code",
        "id": "hPUY40tXbj-m",
        "colab": {}
      },
      "source": [
        "lookup = Embedding(\n",
        "    num_embeddings=len(dictionary), \n",
        "    embedding_dim=16, \n",
        "    padding_idx=dictionary.get_id('<pad>')\n",
        ")"
      ],
      "execution_count": 0,
      "outputs": []
    },
    {
      "cell_type": "code",
      "metadata": {
        "colab_type": "code",
        "id": "eSDJy98Jbj-o",
        "outputId": "0a03112a-18ea-45b3-c468-f31ab64fe5ba",
        "colab": {
          "base_uri": "https://localhost:8080/",
          "height": 35
        }
      },
      "source": [
        "lookup.weight.size()"
      ],
      "execution_count": 0,
      "outputs": [
        {
          "output_type": "execute_result",
          "data": {
            "text/plain": [
              "torch.Size([20089, 16])"
            ]
          },
          "metadata": {
            "tags": []
          },
          "execution_count": 16
        }
      ]
    },
    {
      "cell_type": "code",
      "metadata": {
        "colab_type": "code",
        "id": "3WMCuASKbj-s",
        "outputId": "b0f5de20-a6ed-4e6d-a795-d93578dfa73d",
        "colab": {
          "base_uri": "https://localhost:8080/",
          "height": 108
        }
      },
      "source": [
        "input_ = dictionary.encode_token_seq(['hello', 'world'])\n",
        "print(f'token ids: {[input_]}')\n",
        "\n",
        "input_embedded = lookup(torch.tensor([input_], dtype=torch.long))\n",
        "print(f'tokens embedding size: {input_embedded.size()}')\n",
        "\n",
        "print(\"embedding for 'hello' (179):\")\n",
        "input_embedded[0, 0].data"
      ],
      "execution_count": 0,
      "outputs": [
        {
          "output_type": "stream",
          "text": [
            "token ids: [[179, 373]]\n",
            "tokens embedding size: torch.Size([1, 2, 16])\n",
            "embedding for 'hello' (179):\n"
          ],
          "name": "stdout"
        },
        {
          "output_type": "execute_result",
          "data": {
            "text/plain": [
              "tensor([-0.2118,  0.2283,  0.3194, -0.1902,  0.1394, -0.7348, -1.4884,  0.8085,\n",
              "         0.6072, -0.8543,  0.9613,  0.3735, -0.9038, -0.7192, -0.1887,  0.0608])"
            ]
          },
          "metadata": {
            "tags": []
          },
          "execution_count": 17
        }
      ]
    },
    {
      "cell_type": "markdown",
      "metadata": {
        "id": "5Ck-7MXj4b28",
        "colab_type": "text"
      },
      "source": [
        "### Defining the neural network\n",
        "\n",
        "There are three components:\n",
        "1. `Embedding` $$\\large f_{embed}:\\text{vocab}\\rightarrow \\mathbb{R}^d$$\n",
        "2. Hidden layer $$\\large f_{hidden}: \\mathbb{R}^{nd}\\rightarrow \\mathbb{R}^h$$\n",
        "3. Projection $$\\large f_{project}: \\mathbb{R}^{h}\\rightarrow \\mathbb{R}^{|vocab|}$$\n",
        "\n",
        "The conditional distribution is then: $$\\large p(x_t|x_{t-1},\\ldots,x_{t-n-1})=\\text{softmax}(f_{project}(f_{hidden}(f_{embed}(x_{t-1},\\ldots,x_{t-n-1}))).$$\n",
        "\n",
        "\n",
        "We implement the hidden layer and projection with Pytorch `nn.Linear` layers:"
      ]
    },
    {
      "cell_type": "code",
      "metadata": {
        "colab_type": "code",
        "id": "dvlP70FiOrJ3",
        "colab": {}
      },
      "source": [
        "import torch\n",
        "import torch.nn as nn\n",
        "\n",
        "class NeuralNgramLM(nn.Module):\n",
        "    def __init__(self, options):\n",
        "        super().__init__()\n",
        "        self.lookup = nn.Embedding(\n",
        "            num_embeddings=options['num_embeddings'], \n",
        "            embedding_dim=options['embedding_dim']\n",
        "        )\n",
        "        self.hidden_layer = nn.Linear(\n",
        "            options['input_size'], \n",
        "            options['hidden_size'], \n",
        "            bias=True\n",
        "        )\n",
        "        self.projection = nn.Linear(\n",
        "            options['hidden_size'], \n",
        "            options['num_embeddings']\n",
        "        )\n",
        "\n",
        "    def forward(self, inp):\n",
        "        embedded = self.lookup(inp)\n",
        "        embedded_timeflat = embedded.view(embedded.size(0), -1)\n",
        "        hidden_out = self.hidden_layer(embedded_timeflat)\n",
        "        hidden_out = torch.tanh(hidden_out)\n",
        "        logits = self.projection(hidden_out)\n",
        "        return logits"
      ],
      "execution_count": 0,
      "outputs": []
    },
    {
      "cell_type": "markdown",
      "metadata": {
        "id": "8naH4u6b4b3A",
        "colab_type": "text"
      },
      "source": [
        "### 3. Train the model\n",
        "\n",
        "#### Initialize the model, criterion (loss), and optimizer"
      ]
    },
    {
      "cell_type": "code",
      "metadata": {
        "colab_type": "code",
        "id": "VfjWvd6jTDjh",
        "colab": {}
      },
      "source": [
        "import os\n",
        "import torch\n",
        "import torch.nn as nn\n",
        "import torch.optim as optim\n",
        "\n",
        "load_pretrained = True\n",
        "\n",
        "num_gpus = torch.cuda.device_count()\n",
        "if num_gpus > 0:\n",
        "    current_device = 'cuda'\n",
        "else:\n",
        "    current_device = 'cpu'\n",
        "\n",
        "if load_pretrained:\n",
        "    if not os.path.exists('personachat_ffnn_lm.pt'):\n",
        "        raise EOFError('No model downloaded!')\n",
        "    model_dict = torch.load(\n",
        "        'personachat_ffnn_lm.pt',\n",
        "        map_location=torch.device(current_device)\n",
        "    )\n",
        "    \n",
        "    options = model_dict['options']\n",
        "    model = NeuralNgramLM(options).to(current_device)\n",
        "    model.load_state_dict(\n",
        "        model_dict['model_dict']\n",
        "    )\n",
        "    \n",
        "else:\n",
        "    embedding_size = 256\n",
        "    ngram_order = 4\n",
        "    input_size = embedding_size * ngram_order\n",
        "    hidden_size = 512\n",
        "\n",
        "    options = {\n",
        "        'num_embeddings': len(dictionary),\n",
        "        'embedding_dim': embedding_size,\n",
        "        'input_size': input_size,\n",
        "        'hidden_size': hidden_size,\n",
        "    }\n",
        "    model = NeuralNgramLM(options).to(current_device)\n",
        "\n",
        "criterion = nn.CrossEntropyLoss(\n",
        "    ignore_index=dictionary.get_id('<pad>'), \n",
        "    reduction='sum'\n",
        ")\n",
        "\n",
        "model_parameters = [p for p in model.parameters() if p.requires_grad]\n",
        "optimizer = optim.SGD(model_parameters, lr=0.01, momentum=0.99)"
      ],
      "execution_count": 0,
      "outputs": []
    },
    {
      "cell_type": "markdown",
      "metadata": {
        "id": "IT9XNvrH4b3E",
        "colab_type": "text"
      },
      "source": [
        "#### Training Loop"
      ]
    },
    {
      "cell_type": "code",
      "metadata": {
        "colab_type": "code",
        "id": "dHeMz2Q2ULYQ",
        "colab": {}
      },
      "source": [
        "plot_cache = []\n",
        "\n",
        "if not load_pretrained:\n",
        "    for epoch_number in range(10):\n",
        "        avg_loss = -1\n",
        "\n",
        "        # -- Training\n",
        "        model.train()\n",
        "\n",
        "        train_loss_cache = 0\n",
        "        train_non_pad_tokens_cache = 0\n",
        "\n",
        "        # == Iterate through batches from the dataset.\n",
        "        for i, (inp, target) in enumerate(dataloaders['train']):\n",
        "            optimizer.zero_grad()\n",
        "            inp = inp.to(current_device)\n",
        "            target = target.to(current_device)\n",
        "\n",
        "            # == Forward pass.\n",
        "            logits = model(inp)\n",
        "\n",
        "            # == Computed (summed) loss.\n",
        "            loss = criterion(logits.view(-1, logits.size(-1)), target.view(-1))\n",
        "            train_loss_cache += loss.item()\n",
        "\n",
        "            # == Compute the number of non `<pad>` tokens in the target.\n",
        "            non_pad_tokens = target.view(-1).ne(dictionary.get_id('<pad>')).sum().item()\n",
        "\n",
        "            # == Normalize the (summed) loss so that it is an average.\n",
        "            loss /= non_pad_tokens  \n",
        "            loss.backward()\n",
        "            optimizer.step()\n",
        "\n",
        "            train_non_pad_tokens_cache += non_pad_tokens\n",
        "            if i % 100 == 0:\n",
        "                avg_loss = train_loss_cache/train_non_pad_tokens_cache\n",
        "                print('Step {} avg train loss = {:.{prec}f}'.format(i, avg_loss, prec=4))\n",
        "\n",
        "        # -- Validation\n",
        "        valid_loss_cache = 0\n",
        "        valid_non_pad_tokens_cache = 0\n",
        "\n",
        "        model.eval()\n",
        "        with torch.no_grad():\n",
        "            non_pad_tokens = 0\n",
        "            for i, (inp, target) in enumerate(dataloaders['valid']):\n",
        "                inp = inp.to(current_device)\n",
        "                target = target.to(current_device)\n",
        "\n",
        "                # == Forward pass and loss\n",
        "                logits = model(inp)\n",
        "                loss = criterion(logits.view(-1, logits.size(-1)), target.view(-1))\n",
        "                valid_loss_cache += loss.item()            \n",
        "\n",
        "                # == Normalize the loss\n",
        "                non_pad_tokens = target.view(-1).ne(dictionary.get_id('<pad>')).sum().item()\n",
        "                valid_non_pad_tokens_cache += non_pad_tokens\n",
        "\n",
        "            avg_val_loss = valid_loss_cache / valid_non_pad_tokens_cache\n",
        "            print('Validation loss after {} epoch = {:.{prec}f}'.format(epoch_number, avg_val_loss, prec=4))\n",
        "\n",
        "        plot_cache.append((avg_loss, avg_val_loss))"
      ],
      "execution_count": 0,
      "outputs": []
    },
    {
      "cell_type": "code",
      "metadata": {
        "colab_type": "code",
        "id": "DEjiLvdFmjrg",
        "colab": {}
      },
      "source": [
        "if load_pretrained:\n",
        "    plot_cache = model_dict['loss_cache']"
      ],
      "execution_count": 0,
      "outputs": []
    },
    {
      "cell_type": "code",
      "metadata": {
        "colab_type": "code",
        "id": "C0nNouO4Z-TJ",
        "outputId": "40c53d4a-b0f8-401a-bd99-cecff5e983ab",
        "colab": {
          "base_uri": "https://localhost:8080/",
          "height": 281
        }
      },
      "source": [
        "import matplotlib.pyplot as plt\n",
        "import numpy\n",
        "\n",
        "epochs = numpy.array(list(range(len(plot_cache))))\n",
        "plt.plot(epochs, [i[0] for i in plot_cache], label='Train loss')\n",
        "plt.plot(epochs, [i[1] for i in plot_cache], label='Valid loss')\n",
        "\n",
        "plt.legend()\n",
        "plt.title('Loss curves')\n",
        "plt.show()"
      ],
      "execution_count": 0,
      "outputs": [
        {
          "output_type": "display_data",
          "data": {
            "image/png": "[encoded data removed]",
            "text/plain": [
              "<Figure size 432x288 with 1 Axes>"
            ]
          },
          "metadata": {
            "tags": []
          }
        }
      ]
    },
    {
      "cell_type": "markdown",
      "metadata": {
        "colab_type": "text",
        "id": "UTyb2zZYbj_O"
      },
      "source": [
        "### 4. Evaluate the model\n",
        "\n",
        "#### Recap: Perplexity\n",
        "Recall **perplexity** from the preceding lab:\n",
        "\n",
        "\\begin{align}\n",
        "\\large \\text{ppl}(p, D) &\\large = 2^{-\\frac{1}{N_{total}}\\log_2 p(D)}\n",
        "\\end{align}\n",
        "\n",
        "where $D=\\{(w_1,\\ldots,w_{N_i})_i\\}_{i=1}^M$ is a dataset of $M$ sequences with total length $N_{\\text{total}}=\\sum_{i}N_i$.\n",
        "\n",
        "#### Computing perplexity\n",
        "\n",
        "Our model's loss is the (negative) log probability of every token in the output sequence, which can be used to compute perplexity.\n",
        "\n",
        "We define perplexity using the **base 2** logarithm. By default `torch.log` uses base `e`. \n",
        "\n",
        "To **convert to base 2** we use: `log_2 p = log_e p / log_e 2`."
      ]
    },
    {
      "cell_type": "code",
      "metadata": {
        "colab_type": "code",
        "id": "dcuSFVZvbmWR",
        "outputId": "b56e7805-2e4b-4cfc-e6ea-f25e8b6749eb",
        "colab": {
          "base_uri": "https://localhost:8080/",
          "height": 281
        }
      },
      "source": [
        "import matplotlib.pyplot as plt\n",
        "import numpy\n",
        "\n",
        "epochs = numpy.array(list(range(len(plot_cache))))\n",
        "plt.plot(epochs, [2**(i[0]/numpy.log(2)) for i in plot_cache], label='Train ppl')\n",
        "plt.plot(epochs, [2**(i[1]/numpy.log(2)) for i in plot_cache], label='Valid ppl')\n",
        "\n",
        "plt.legend()\n",
        "plt.title('PPL curves')\n",
        "plt.show()"
      ],
      "execution_count": 0,
      "outputs": [
        {
          "output_type": "display_data",
          "data": {
            "image/png": "[encoded data removed]",
            "text/plain": [
              "<Figure size 432x288 with 1 Axes>"
            ]
          },
          "metadata": {
            "tags": []
          }
        }
      ]
    },
    {
      "cell_type": "code",
      "metadata": {
        "colab_type": "code",
        "id": "9t_WHUYcOe_8",
        "colab": {}
      },
      "source": [
        "# Saving the model\n",
        "if False:\n",
        "    torch.save({\n",
        "        'options': options,\n",
        "        'loss_cache': plot_cache,\n",
        "        'model_dict': model.state_dict()\n",
        "    }, './persona_ffnn_lm.pt')"
      ],
      "execution_count": 0,
      "outputs": []
    },
    {
      "cell_type": "markdown",
      "metadata": {
        "id": "IiCddv6N4b3Z",
        "colab_type": "text"
      },
      "source": [
        "#### Conditional probability queries\n",
        "We can now query the model for conditional probabilities:\n",
        "\n",
        "\\begin{align}\n",
        "\\large p(x_t|x_{t-1},\\ldots,x_{t-4}) \n",
        "\\end{align} "
      ]
    },
    {
      "cell_type": "code",
      "metadata": {
        "id": "hv39trjM4b3Z",
        "colab_type": "code",
        "outputId": "c9cfb236-69b6-4f9c-d673-7bf1dcce609d",
        "colab": {
          "base_uri": "https://localhost:8080/",
          "height": 90
        }
      },
      "source": [
        "import torch\n",
        "\n",
        "def next_token_probabilities(prefix, token):\n",
        "    inp = dictionary.encode_token_seq(prefix.split(' '))\n",
        "    with torch.no_grad():\n",
        "        model.eval()\n",
        "        logits = model(\n",
        "            torch.tensor([inp], dtype=torch.long).to(current_device)\n",
        "        )\n",
        "    token_id = dictionary.get_id(token)\n",
        "    p_next_token = torch.softmax(logits, dim=-1)\n",
        "    return p_next_token[0, token_id]\n",
        "\n",
        "prefix = '<bos> i have a'\n",
        "\n",
        "for w in ['dog', 'zebra', 'donut', 'velociraptor']:\n",
        "    prob = next_token_probabilities(prefix, w)\n",
        "    print('p( %s  | %s )\\t= %.3E' % (w, prefix, prob))\n",
        "    "
      ],
      "execution_count": 0,
      "outputs": [
        {
          "output_type": "stream",
          "text": [
            "p( dog  | <bos> i have a )\t= 7.468E-02\n",
            "p( zebra  | <bos> i have a )\t= 1.473E-04\n",
            "p( donut  | <bos> i have a )\t= 7.881E-06\n",
            "p( velociraptor  | <bos> i have a )\t= 1.323E-06\n"
          ],
          "name": "stdout"
        }
      ]
    },
    {
      "cell_type": "markdown",
      "metadata": {
        "id": "SRLcMy764b3e",
        "colab_type": "text"
      },
      "source": [
        "\n",
        "\n",
        "And sort by the highest probability next-tokens:\n",
        "\n",
        "$\\large \\texttt{sort}(p(\\cdot|\\underbrace{x_{<t}}_{\\text{prefix}}))$"
      ]
    },
    {
      "cell_type": "code",
      "metadata": {
        "colab_type": "code",
        "id": "l4zVv--owi3d",
        "outputId": "66d61832-d927-47b0-8b84-deb0ec8e55b6",
        "colab": {
          "base_uri": "https://localhost:8080/",
          "height": 199
        }
      },
      "source": [
        "def get_top_token_given_prefix(prefix, top=10):\n",
        "    inp = dictionary.encode_token_seq(prefix.split(' '))\n",
        "    with torch.no_grad():\n",
        "        model.eval()\n",
        "        logits = model(\n",
        "            torch.tensor([inp], dtype=torch.long).to(current_device)\n",
        "        )\n",
        "        \n",
        "    p_next_token = torch.softmax(logits, dim=-1)\n",
        "    sorted_probs, sorted_token_ids = torch.topk(p_next_token[0], top)\n",
        "\n",
        "    for i in range(sorted_token_ids.size(0)):\n",
        "        print('p( %s  | %s )\\t= %.5f' % \n",
        "              (dictionary.decode_idx_seq([sorted_token_ids[i]])[0], \n",
        "               prefix, \n",
        "               sorted_probs[i])\n",
        "        )\n",
        "\n",
        "get_top_token_given_prefix('<bos> i have a')  # '<bos> the weather is'  '<bos> <bos> <bos> hello'"
      ],
      "execution_count": 0,
      "outputs": [
        {
          "output_type": "stream",
          "text": [
            "p( dog  | <bos> i have a )\t= 0.07468\n",
            "p( cat  | <bos> i have a )\t= 0.04418\n",
            "p( lot  | <bos> i have a )\t= 0.04310\n",
            "p( job  | <bos> i have a )\t= 0.03759\n",
            "p( couple  | <bos> i have a )\t= 0.03458\n",
            "p( few  | <bos> i have a )\t= 0.02293\n",
            "p( black  | <bos> i have a )\t= 0.01704\n",
            "p( little  | <bos> i have a )\t= 0.01618\n",
            "p( hard  | <bos> i have a )\t= 0.01604\n",
            "p( very  | <bos> i have a )\t= 0.01478\n"
          ],
          "name": "stdout"
        }
      ]
    },
    {
      "cell_type": "markdown",
      "metadata": {
        "id": "UkGvr6Ni4b3i",
        "colab_type": "raw"
      },
      "source": [
        ""
      ]
    },
    {
      "cell_type": "markdown",
      "metadata": {
        "colab_type": "text",
        "id": "Eb9Va-p4bj96"
      },
      "source": [
        "# Recurrent neural network language model\n",
        "Recall that in **language modeling**, we want to model the probability of variable length sequences, $$p(x_1,\\ldots,x_T)=\\prod_{t=1}^T p(x_t|x_{<t}).$$\n",
        "\n",
        "*Unlike n-gram models*, we will now define a model that allows a **full history** $x_{<t}$.\n",
        "\n",
        "To do so, we will use a function called a **recurrent neural network** to compute each distribution $p(x_t|x_{<t})$:\n",
        "\\begin{align}\n",
        "h_t &= f^{\\text{RNN}}_{\\theta}(x_{t-1}, h_{t-1}) & \\mathbb{R}^d\\\\\n",
        "s_t &= Wh_t & \\mathbb{R}^{\\text{|vocab|}}\\\\\n",
        "p_{\\theta}(x_t|x_{<t}) &= \\text{softmax}(s_t) & [0,1]^{\\text{|vocab|}}\n",
        "\\end{align}\n",
        "\n",
        "where $h_t$ is an internal (hidden) state of the model at time step $t$, and $x_t$ is an input at time step $t$.\n",
        "\n",
        "<img src=\"img/rnn.png\" alt=\"Drawing\" style=\"width: 35%; margin-left: 29%; padding: 3em;\"/>"
      ]
    },
    {
      "cell_type": "markdown",
      "metadata": {
        "id": "j2Qeej784b3k",
        "colab_type": "text"
      },
      "source": [
        "\n",
        "In the simplest form used in practice, $f_{\\theta}^{\\text{RNN}}$ is defined as:\n",
        " $$f_{\\theta}^{\\text{RNN}}(x_{t-1}, h_{t-1}) = \\text{tanh}(a_t)\\\\ a_t = b + W \\cdot h_{t-1} + U \\cdot x_{t-1},$$\n",
        " \n",
        "but there are other variants (e.g. [GRU](https://arxiv.org/pdf/1406.1078.pdf), [LSTM](https://www.bioinf.jku.at/publications/older/2604.pdf)).\n",
        "\n",
        "Similar to the n-gram neural network above, the goal at time $t$ is to **predict the next token $x_t$**."
      ]
    },
    {
      "cell_type": "markdown",
      "metadata": {
        "colab_type": "text",
        "id": "DLTwdNF-bj97"
      },
      "source": [
        "### Pytorch implementation: `RNNCell`"
      ]
    },
    {
      "cell_type": "code",
      "metadata": {
        "colab_type": "code",
        "id": "F1WfgVLybj98",
        "colab": {}
      },
      "source": [
        "from torch.nn import RNNCell\n",
        "# RNNCell??"
      ],
      "execution_count": 0,
      "outputs": []
    },
    {
      "cell_type": "code",
      "metadata": {
        "colab_type": "code",
        "id": "OseW45d9bj9_",
        "colab": {}
      },
      "source": [
        "import torch\n",
        "hidden_size = 16\n",
        "embedding_dim = 8\n",
        "\n",
        "rnn_cell = RNNCell(embedding_dim, hidden_size)"
      ],
      "execution_count": 0,
      "outputs": []
    },
    {
      "cell_type": "code",
      "metadata": {
        "colab_type": "code",
        "id": "UnPEPW5Nbj-B",
        "outputId": "00b6cbf0-3139-4ae4-b962-8b8d6fb8b01b",
        "colab": {
          "base_uri": "https://localhost:8080/",
          "height": 54
        }
      },
      "source": [
        "hidden = torch.zeros(1, hidden_size)\n",
        "print(hidden)\n",
        "print(hidden.size())"
      ],
      "execution_count": 0,
      "outputs": [
        {
          "output_type": "stream",
          "text": [
            "tensor([[0., 0., 0., 0., 0., 0., 0., 0., 0., 0., 0., 0., 0., 0., 0., 0.]])\n",
            "torch.Size([1, 16])\n"
          ],
          "name": "stdout"
        }
      ]
    },
    {
      "cell_type": "code",
      "metadata": {
        "colab_type": "code",
        "id": "9TIjbLsMbj-C",
        "outputId": "66220fc8-f913-4e7e-c4f5-ff68bdc1ec8d",
        "colab": {
          "base_uri": "https://localhost:8080/",
          "height": 54
        }
      },
      "source": [
        "random_input = torch.rand(1, embedding_dim)\n",
        "print(random_input)\n",
        "print(random_input.size())"
      ],
      "execution_count": 0,
      "outputs": [
        {
          "output_type": "stream",
          "text": [
            "tensor([[0.5063, 0.4660, 0.8907, 0.4937, 0.0383, 0.4949, 0.2728, 0.2338]])\n",
            "torch.Size([1, 8])\n"
          ],
          "name": "stdout"
        }
      ]
    },
    {
      "cell_type": "code",
      "metadata": {
        "colab_type": "code",
        "id": "1n2k_CEBbj-E",
        "outputId": "9161335c-1193-43cf-cf4c-3f7d15b746d2",
        "colab": {
          "base_uri": "https://localhost:8080/",
          "height": 90
        }
      },
      "source": [
        "hidden = rnn_cell(random_input, hidden)\n",
        "print(hidden)\n",
        "print(hidden.size())"
      ],
      "execution_count": 0,
      "outputs": [
        {
          "output_type": "stream",
          "text": [
            "tensor([[ 0.1235,  0.1351, -0.1750,  0.2900,  0.4610,  0.1279,  0.2944,  0.3257,\n",
            "          0.3150, -0.3553,  0.0160, -0.2439,  0.1956,  0.0789, -0.0462,  0.1583]],\n",
            "       grad_fn=<TanhBackward>)\n",
            "torch.Size([1, 16])\n"
          ],
          "name": "stdout"
        }
      ]
    },
    {
      "cell_type": "markdown",
      "metadata": {
        "colab_type": "text",
        "id": "L4QaNlS2bj-O"
      },
      "source": [
        "### Pytorch implementation: `RNN`\n",
        "\n",
        "`RNNCell` is a building block of an RNN model. The Pytorch `RNN` model supports multi-layer networks by creating separate `RNNCell`s for every layer. \n",
        "\n",
        "`RNN` can also process a whole sequence of data by iteratively applying `RNNCell`."
      ]
    },
    {
      "cell_type": "code",
      "metadata": {
        "colab_type": "code",
        "id": "FCvackw4bj-O",
        "colab": {}
      },
      "source": [
        "from torch.nn import RNNBase, RNN\n",
        "# RNNBase.__init__??\n",
        "# RNN.__init__??"
      ],
      "execution_count": 0,
      "outputs": []
    },
    {
      "cell_type": "markdown",
      "metadata": {
        "colab_type": "text",
        "id": "LHqYjtCYbj--"
      },
      "source": [
        "### 1. Define the model"
      ]
    },
    {
      "cell_type": "code",
      "metadata": {
        "colab_type": "code",
        "id": "IdlUbyiybj_A",
        "colab": {}
      },
      "source": [
        "import torch.nn as nn\n",
        "\n",
        "class RNNLanguageModel(nn.Module):\n",
        "    def __init__(self, options):\n",
        "        super().__init__()\n",
        "        \n",
        "        self.lookup = nn.Embedding(\n",
        "            num_embeddings=options['num_embeddings'], \n",
        "            embedding_dim=options['embedding_dim'], \n",
        "            padding_idx=options['padding_idx']\n",
        "        )\n",
        "        self.rnn = nn.RNN(\n",
        "            options['input_size'], \n",
        "            options['hidden_size'], \n",
        "            options['num_layers'], \n",
        "            dropout=options['rnn_dropout'], \n",
        "            batch_first=True\n",
        "        )\n",
        "        self.projection = nn.Linear(\n",
        "            options['hidden_size'], \n",
        "            options['num_embeddings']\n",
        "        )\n",
        "        \n",
        "    def forward(self, token_ids):\n",
        "        embeddings = self.lookup(token_ids)\n",
        "        output, hidden = self.rnn(embeddings)\n",
        "        logits = self.projection(output) \n",
        "        return logits"
      ],
      "execution_count": 0,
      "outputs": []
    },
    {
      "cell_type": "markdown",
      "metadata": {
        "id": "6MF8a-WE4b4D",
        "colab_type": "text"
      },
      "source": [
        "### 2. Prepare the data"
      ]
    },
    {
      "cell_type": "markdown",
      "metadata": {
        "id": "cBf-HTTM4b4D",
        "colab_type": "text"
      },
      "source": [
        "#### Dataset and Dataloader\n",
        "\n",
        "See `data_utils.py` for the implementation. "
      ]
    },
    {
      "cell_type": "code",
      "metadata": {
        "id": "7BTL6YbN4b4E",
        "colab_type": "code",
        "outputId": "a90365a6-169c-4826-e306-dbda3a975af0",
        "colab": {
          "base_uri": "https://localhost:8080/",
          "height": 54
        }
      },
      "source": [
        "datasets_ = load_personachat('./')\n",
        "dictionary = Dictionary(datasets_, include_valid=True)\n",
        "datasets_ = tokenize_dataset(datasets_, dictionary)\n",
        "\n",
        "datasets = {}\n",
        "for split, dataset in datasets_.items():\n",
        "    datasets[split] = TensoredDataset(dataset, dictionary.get_id('<pad>'))"
      ],
      "execution_count": 0,
      "outputs": [
        {
          "output_type": "stream",
          "text": [
            "100%|██████████| 133176/133176 [00:20<00:00, 6515.55it/s]\n",
            "100%|██████████| 16181/16181 [00:03<00:00, 5044.96it/s]\n"
          ],
          "name": "stderr"
        }
      ]
    },
    {
      "cell_type": "markdown",
      "metadata": {
        "id": "yidYQOeP4b4H",
        "colab_type": "text"
      },
      "source": [
        "- The **input** is now a **full sequence**.\n",
        "- The **output** is the **next token** for each position of the input:"
      ]
    },
    {
      "cell_type": "code",
      "metadata": {
        "id": "jSOmYZk44b4I",
        "colab_type": "code",
        "outputId": "a693d273-83d4-4b7a-9975-da5b44b656f6",
        "colab": {
          "base_uri": "https://localhost:8080/",
          "height": 126
        }
      },
      "source": [
        "inp, out = datasets['train'][0]\n",
        "\n",
        "print(\"Input: \\n\\t%s\\n\\t(%s)\" %\n",
        "      (inp.data[0], dictionary.decode_idx_seq(inp.data[0])))\n",
        "\n",
        "print(\"Output: \\n\\t%s\\n\\t(%s)\" %\n",
        "      (out.data[0], dictionary.decode_idx_seq(out.data[0])))"
      ],
      "execution_count": 0,
      "outputs": [
        {
          "output_type": "stream",
          "text": [
            "Input: \n",
            "\ttensor([ 0,  4,  5,  6,  7,  8,  9, 10, 11, 12])\n",
            "\t(['<bos>', 'i', 'am', 'doing', 'great', 'except', 'for', 'the', 'allergies', '.'])\n",
            "Output: \n",
            "\ttensor([ 4,  5,  6,  7,  8,  9, 10, 11, 12,  1])\n",
            "\t(['i', 'am', 'doing', 'great', 'except', 'for', 'the', 'allergies', '.', '<eos>'])\n"
          ],
          "name": "stdout"
        }
      ]
    },
    {
      "cell_type": "markdown",
      "metadata": {
        "id": "rHWC42r24b4K",
        "colab_type": "text"
      },
      "source": [
        "#### Pytorch dataloader"
      ]
    },
    {
      "cell_type": "code",
      "metadata": {
        "id": "hLsTVHyz4b4L",
        "colab_type": "code",
        "colab": {}
      },
      "source": [
        "dataloaders = {}\n",
        "batch_size = 128\n",
        "\n",
        "for split, dataset in datasets.items():\n",
        "    dataloaders[split] = DataLoader(\n",
        "        dataset, \n",
        "        batch_size=batch_size, \n",
        "        shuffle=True, \n",
        "        collate_fn=dataset.pad_collate_fn  # pads the sequences in the batch\n",
        "    )"
      ],
      "execution_count": 0,
      "outputs": []
    },
    {
      "cell_type": "markdown",
      "metadata": {
        "id": "KgfVEiFl4b4N",
        "colab_type": "text"
      },
      "source": [
        "#### Padding to handle variable sequence lengths:"
      ]
    },
    {
      "cell_type": "code",
      "metadata": {
        "id": "XALwzTg94b4O",
        "colab_type": "code",
        "outputId": "2876b476-4cd4-45d8-e583-530ccf448542",
        "colab": {
          "base_uri": "https://localhost:8080/",
          "height": 181
        }
      },
      "source": [
        "inp, target = next(dataloaders['train'].__iter__())\n",
        "\n",
        "print(\"Batch size %s\" % str(inp.shape))\n",
        "print(\"Batch element 1: \\n\\t%s\\n\\t(%s)\" %\n",
        "      (inp.data[0], ' '.join(dictionary.decode_idx_seq(inp.data[0]))))\n",
        "print(\"Batch element 2: \\n\\t%s\\n\\t(%s)\" %\n",
        "      (inp.data[1], ' '.join(dictionary.decode_idx_seq(inp.data[1]))))"
      ],
      "execution_count": 0,
      "outputs": [
        {
          "output_type": "stream",
          "text": [
            "Batch size torch.Size([128, 24])\n",
            "Batch element 1: \n",
            "\ttensor([  0,  67,  55, 128,  12,  66,  25, 322,  24,   2,   2,   2,   2,   2,\n",
            "          2,   2,   2,   2,   2,   2,   2,   2,   2,   2])\n",
            "\t(<bos> its going well . how is yours ? <pad> <pad> <pad> <pad> <pad> <pad> <pad> <pad> <pad> <pad> <pad> <pad> <pad> <pad> <pad>)\n",
            "Batch element 2: \n",
            "\ttensor([   0,   60,    4,   76,   35, 5444,   52,  834,   12,    2,    2,    2,\n",
            "           2,    2,    2,    2,    2,    2,    2,    2,    2,    2,    2,    2])\n",
            "\t(<bos> no i like to tinker with cars . <pad> <pad> <pad> <pad> <pad> <pad> <pad> <pad> <pad> <pad> <pad> <pad> <pad> <pad> <pad>)\n"
          ],
          "name": "stdout"
        }
      ]
    },
    {
      "cell_type": "markdown",
      "metadata": {
        "id": "czNMkhBQ4b4T",
        "colab_type": "text"
      },
      "source": [
        "### 3. Train the model\n",
        "\n",
        "#### Initializing model, criterion, and optimizer (similar to the feedforward model)"
      ]
    },
    {
      "cell_type": "code",
      "metadata": {
        "colab_type": "code",
        "id": "zQB-RbIhbj_B",
        "colab": {}
      },
      "source": [
        "import torch\n",
        "import torch.nn as nn\n",
        "import torch.optim as optim\n",
        "\n",
        "load_pretrained = True\n",
        "\n",
        "num_gpus = torch.cuda.device_count()\n",
        "if num_gpus > 0:\n",
        "    current_device = 'cuda'\n",
        "else:\n",
        "    current_device = 'cpu'\n",
        "\n",
        "if load_pretrained:\n",
        "    if not os.path.exists('personachat_rnn_lm.pt'):\n",
        "        raise EOFError('Download pretrained model!')\n",
        "    model_dict = torch.load(\n",
        "        'personachat_rnn_lm.pt',\n",
        "        map_location=torch.device(current_device)\n",
        "    )\n",
        "    \n",
        "    options = model_dict['options']\n",
        "    model = RNNLanguageModel(options).to(current_device)\n",
        "    model.load_state_dict(model_dict['model_dict'])\n",
        "    \n",
        "else:\n",
        "    embedding_size = 256\n",
        "    hidden_size = 512\n",
        "    num_layers = 3\n",
        "    rnn_dropout = 0.3\n",
        "\n",
        "    options = {\n",
        "        'num_embeddings': len(dictionary),\n",
        "        'embedding_dim': embedding_size,\n",
        "        'padding_idx': dictionary.get_id('<pad>'),\n",
        "        'input_size': embedding_size,\n",
        "        'hidden_size': hidden_size,\n",
        "        'num_layers': num_layers,\n",
        "        'rnn_dropout': rnn_dropout,\n",
        "    }\n",
        "    model = RNNLanguageModel(options).to(current_device)\n",
        "    \n",
        "\n",
        "criterion = nn.CrossEntropyLoss(\n",
        "    ignore_index=dictionary.get_id('<pad>'), \n",
        "    reduction='sum'\n",
        ")\n",
        "\n",
        "model_parameters = [p for p in model.parameters() if p.requires_grad]\n",
        "optimizer = optim.SGD(model_parameters, lr=0.001, momentum=0.999)"
      ],
      "execution_count": 0,
      "outputs": []
    },
    {
      "cell_type": "code",
      "metadata": {
        "colab_type": "code",
        "id": "qmMLIrhjbj_D",
        "outputId": "6ce82c82-8e92-4f8a-cd1f-9fe870dc2ba0",
        "colab": {
          "base_uri": "https://localhost:8080/",
          "height": 108
        }
      },
      "source": [
        "model"
      ],
      "execution_count": 0,
      "outputs": [
        {
          "output_type": "execute_result",
          "data": {
            "text/plain": [
              "RNNLanguageModel(\n",
              "  (lookup): Embedding(20089, 256, padding_idx=2)\n",
              "  (rnn): RNN(256, 512, num_layers=3, batch_first=True, dropout=0.3)\n",
              "  (projection): Linear(in_features=512, out_features=20089, bias=True)\n",
              ")"
            ]
          },
          "metadata": {
            "tags": []
          },
          "execution_count": 39
        }
      ]
    },
    {
      "cell_type": "code",
      "metadata": {
        "colab_type": "code",
        "id": "qwBqO3z7bj_L",
        "colab": {}
      },
      "source": [
        "#### Training loop (same as the feedforward model)"
      ],
      "execution_count": 0,
      "outputs": []
    },
    {
      "cell_type": "code",
      "metadata": {
        "colab_type": "code",
        "id": "Fw28_6qXbj_M",
        "colab": {}
      },
      "source": [
        "plot_cache = []\n",
        "\n",
        "if not load_pretrained:\n",
        "    for epoch_number in range(100):\n",
        "        avg_loss = 0\n",
        "        model.train()\n",
        "\n",
        "        train_loss_cache = 0\n",
        "        train_non_pad_tokens_cache = 0\n",
        "\n",
        "        for i, (inp, target) in enumerate(dataloaders['train']):\n",
        "            optimizer.zero_grad()\n",
        "            inp = inp.to(current_device)\n",
        "            target = target.to(current_device)\n",
        "            logits = model(inp)\n",
        "\n",
        "            loss = criterion(logits.view(-1, logits.size(-1)), target.view(-1))\n",
        "            train_loss_cache += loss.item()  # still sum here\n",
        "\n",
        "            non_pad_tokens = target.view(-1).ne(dictionary.get_id('<pad>')).sum().item()            \n",
        "            train_non_pad_tokens_cache += non_pad_tokens\n",
        "\n",
        "            loss /= non_pad_tokens \n",
        "\n",
        "            loss.backward()\n",
        "            optimizer.step()\n",
        "\n",
        "            if i % 100 == 0:\n",
        "                avg_loss = train_loss_cache / train_non_pad_tokens_cache\n",
        "                print('Step {} avg train loss = {:.{prec}f}'.format(i, avg_loss, prec=4))\n",
        "                train_log_cache = []\n",
        "\n",
        "        valid_loss_cache = 0\n",
        "        valid_non_pad_tokens_cache = 0\n",
        "\n",
        "        model.eval()\n",
        "        with torch.no_grad():\n",
        "            for i, (inp, target) in enumerate(dataloaders['valid']):\n",
        "                inp = inp.to(current_device)\n",
        "                target = target.to(current_device)\n",
        "                logits = model(inp)\n",
        "\n",
        "                loss = criterion(logits.view(-1, logits.size(-1)), target.view(-1))\n",
        "                valid_loss_cache += loss.item()  # still sum here\n",
        "                non_pad_tokens = target.view(-1).ne(dictionary.get_id('<pad>')).sum().item()\n",
        "\n",
        "                valid_non_pad_tokens_cache += non_pad_tokens\n",
        "\n",
        "            avg_val_loss = valid_loss_cache / valid_non_pad_tokens_cache\n",
        "\n",
        "            print('Validation loss after {} epoch = {:.{prec}f}'.format(epoch_number, avg_val_loss, prec=4))\n",
        "\n",
        "        plot_cache.append((avg_loss, avg_val_loss))\n"
      ],
      "execution_count": 0,
      "outputs": []
    },
    {
      "cell_type": "code",
      "metadata": {
        "colab_type": "code",
        "id": "KAV_hzMvbj_O",
        "colab": {}
      },
      "source": [
        "if load_pretrained:\n",
        "    plot_cache = model_dict['loss_cache']"
      ],
      "execution_count": 0,
      "outputs": []
    },
    {
      "cell_type": "markdown",
      "metadata": {
        "id": "hur7iBgt4b4l",
        "colab_type": "text"
      },
      "source": [
        "### 4. Evaluation"
      ]
    },
    {
      "cell_type": "code",
      "metadata": {
        "colab_type": "code",
        "id": "fhTtmqBfufyE",
        "outputId": "39a5ae59-be50-49f1-f3fd-081650dc3e71",
        "colab": {
          "base_uri": "https://localhost:8080/",
          "height": 281
        }
      },
      "source": [
        "import matplotlib.pyplot as plt\n",
        "import numpy\n",
        "\n",
        "epochs = numpy.array(list(range(len(plot_cache))))\n",
        "plt.plot(epochs, [i[0] for i in plot_cache], label='Train loss')\n",
        "plt.plot(epochs, [i[1] for i in plot_cache], label='Valid loss')\n",
        "\n",
        "plt.legend()\n",
        "plt.title('Loss curves')\n",
        "plt.show()"
      ],
      "execution_count": 0,
      "outputs": [
        {
          "output_type": "display_data",
          "data": {
            "image/png": "[encoded data removed]",
            "text/plain": [
              "<Figure size 432x288 with 1 Axes>"
            ]
          },
          "metadata": {
            "tags": []
          }
        }
      ]
    },
    {
      "cell_type": "code",
      "metadata": {
        "colab_type": "code",
        "id": "R_A4w1QFufyN",
        "outputId": "382579d6-702e-4fe6-9b29-0b7c619acd73",
        "colab": {
          "base_uri": "https://localhost:8080/",
          "height": 281
        }
      },
      "source": [
        "import matplotlib.pyplot as plt\n",
        "import numpy\n",
        "\n",
        "epochs = numpy.array(list(range(len(plot_cache))))\n",
        "plt.plot(epochs, [2**(i[0]/numpy.log(2)) for i in plot_cache], label='Train ppl')\n",
        "plt.plot(epochs, [2**(i[1]/numpy.log(2)) for i in plot_cache], label='Valid ppl')\n",
        "\n",
        "plt.legend()\n",
        "plt.title('PPL curves')\n",
        "plt.show()"
      ],
      "execution_count": 0,
      "outputs": [
        {
          "output_type": "display_data",
          "data": {
            "image/png": "[encoded data removed]",
            "text/plain": [
              "<Figure size 432x288 with 1 Axes>"
            ]
          },
          "metadata": {
            "tags": []
          }
        }
      ]
    },
    {
      "cell_type": "markdown",
      "metadata": {
        "colab_type": "text",
        "id": "zAvP_FXgbj_W"
      },
      "source": [
        "### Conditional probability queries\n",
        "\n",
        "We can query different probabilities:\n",
        "\n",
        "$\\large p(\\underbrace{x_t}_{\\text{token}}|\\underbrace{x_{<t}}_{\\text{prefix}})$"
      ]
    },
    {
      "cell_type": "code",
      "metadata": {
        "colab_type": "code",
        "id": "TMG0r9zwbj_X",
        "outputId": "cb5acb84-ef6b-4f31-a5fa-446121deda78",
        "colab": {
          "base_uri": "https://localhost:8080/",
          "height": 90
        }
      },
      "source": [
        "import torch\n",
        "\n",
        "def next_token_probabilities(prefix, token):\n",
        "    inp = dictionary.encode_token_seq(prefix.split(' '))\n",
        "    with torch.no_grad():\n",
        "        model.eval()\n",
        "        logits = model(\n",
        "            torch.tensor([inp], dtype=torch.long).to(current_device)\n",
        "        )\n",
        "        \n",
        "    token_id = dictionary.get_id(token)\n",
        "    p_next_token = torch.softmax(logits[0, -1], dim=-1)\n",
        "    return p_next_token[token_id]\n",
        "\n",
        "prefix = '<bos> i have a'\n",
        "\n",
        "for w in ['dog', 'zebra', 'donut', 'velociraptor']:\n",
        "    prob = next_token_probabilities(prefix, w)\n",
        "    print('p( %s  | %s )\\t= %.3E' % (w, prefix, prob))\n",
        "    "
      ],
      "execution_count": 0,
      "outputs": [
        {
          "output_type": "stream",
          "text": [
            "p( dog  | <bos> i have a )\t= 6.960E-02\n",
            "p( zebra  | <bos> i have a )\t= 1.633E-04\n",
            "p( donut  | <bos> i have a )\t= 1.039E-05\n",
            "p( velociraptor  | <bos> i have a )\t= 2.267E-07\n"
          ],
          "name": "stdout"
        }
      ]
    },
    {
      "cell_type": "markdown",
      "metadata": {
        "id": "dfdAxSCh4b4u",
        "colab_type": "text"
      },
      "source": [
        "\n",
        "\n",
        "And sort by the highest probability next-tokens:\n",
        "\n",
        "$\\large \\texttt{sort}(p(\\cdot|\\underbrace{x_{<t}}_{\\text{prefix}}))$"
      ]
    },
    {
      "cell_type": "code",
      "metadata": {
        "colab_type": "code",
        "outputId": "c1e32f00-97e9-4d0f-85d8-312dbc1240de",
        "id": "F5NUOuF_4b4v",
        "colab": {
          "base_uri": "https://localhost:8080/",
          "height": 199
        }
      },
      "source": [
        "def get_top_token_given_prefix(prefix, top=10):\n",
        "    inp = dictionary.encode_token_seq(prefix.split(' '))\n",
        "    with torch.no_grad():\n",
        "        model.eval()\n",
        "        logits = model(\n",
        "            torch.tensor([inp], dtype=torch.long).to(current_device)\n",
        "        )\n",
        "        \n",
        "    p_next_token = torch.softmax(logits[0, -1], dim=-1)\n",
        "    sorted_probs, sorted_token_ids = torch.topk(p_next_token, top)\n",
        "\n",
        "    for i in range(sorted_token_ids.size(0)):\n",
        "        print('p( %s  | %s )\\t= %.5f' % \n",
        "              (dictionary.decode_idx_seq([sorted_token_ids[i]])[0], \n",
        "               prefix, \n",
        "               sorted_probs[i])\n",
        "        )\n",
        "\n",
        "get_top_token_given_prefix('<bos> the weather is')"
      ],
      "execution_count": 0,
      "outputs": [
        {
          "output_type": "stream",
          "text": [
            "p( great  | <bos> the weather is )\t= 0.09953\n",
            "p( nice  | <bos> the weather is )\t= 0.07860\n",
            "p( beautiful  | <bos> the weather is )\t= 0.06185\n",
            "p( fun  | <bos> the weather is )\t= 0.05039\n",
            "p( good  | <bos> the weather is )\t= 0.04573\n",
            "p( awesome  | <bos> the weather is )\t= 0.04308\n",
            "p( cool  | <bos> the weather is )\t= 0.04212\n",
            "p( my  | <bos> the weather is )\t= 0.03604\n",
            "p( a  | <bos> the weather is )\t= 0.02892\n",
            "p( so  | <bos> the weather is )\t= 0.02230\n"
          ],
          "name": "stdout"
        }
      ]
    },
    {
      "cell_type": "markdown",
      "metadata": {
        "id": "dd-iHmj-4b4z",
        "colab_type": "text"
      },
      "source": [
        "### Generation (Sampling)\n",
        "\n",
        "Finally, we can generate sentences using the model's conditional distribution:\n",
        "\n",
        "            context = [<bos>]\n",
        "            until <eos> is generated:\n",
        "                wt ~ p(wt | context)\n",
        "                context += [wt]\n",
        "                \n",
        "                \n",
        "Here, the `~` symbol stands for sampling from a categorical distribution. "
      ]
    },
    {
      "cell_type": "code",
      "metadata": {
        "id": "ASBRzg1g4b40",
        "colab_type": "code",
        "outputId": "ea68907e-6e38-4092-c14b-faecacc318d1",
        "colab": {
          "base_uri": "https://localhost:8080/",
          "height": 399
        }
      },
      "source": [
        "import torch\n",
        "\n",
        "def sample(model, prefix, num_samples, temperature=1.0, max_len=50):\n",
        "    inp = torch.tensor([\n",
        "        dictionary.encode_token_seq(prefix.split(' '))\n",
        "    ], dtype=torch.long).to(current_device).repeat([num_samples, 1])\n",
        "\n",
        "    sampled = [prefix.split(' ') for _ in range(num_samples)]\n",
        "    done = torch.tensor([False for _ in range(num_samples)])\n",
        "    hidden = None\n",
        "    \n",
        "    with torch.no_grad():\n",
        "        model.eval()\n",
        "        for t in range(max_len):\n",
        "            logits, hidden = step(model, inp, hidden)\n",
        "            logits_ = (logits[:, -1, :] / temperature)\n",
        "            inp = logits_.softmax(-1).multinomial(1)            \n",
        "            for i in range(num_samples):\n",
        "                tok_ti = dictionary.get_token(inp[i, 0].item())\n",
        "                if tok_ti == '<eos>' and not done[i]:\n",
        "                    done[i] = True\n",
        "                    sampled[i].append(tok_ti)\n",
        "                elif not done[i]:\n",
        "                    sampled[i].append(tok_ti)\n",
        "                else:\n",
        "                    pass\n",
        "            if done.sum() == num_samples:\n",
        "                break\n",
        "        \n",
        "    return sampled\n",
        "\n",
        "def step(rnn, token_ids, hidden):\n",
        "    embeddings = rnn.lookup(token_ids)\n",
        "    output, hidden = rnn.rnn(embeddings, hidden)\n",
        "    logits = rnn.projection(output) \n",
        "    return logits, hidden\n",
        "\n",
        "\n",
        "prefix = '<bos> i have a'\n",
        "\n",
        "for temp in [1.0, 0.5, 0.1]:\n",
        "    print(\"Temperature %.2f\" % temp)\n",
        "    samples = sample(model, prefix, 5, temperature=temp)\n",
        "    for s in samples:\n",
        "        print(' '.join(s))\n",
        "    print()"
      ],
      "execution_count": 0,
      "outputs": [
        {
          "output_type": "stream",
          "text": [
            "Temperature 1.00\n",
            "<bos> i have a great group if they live with your life . <eos>\n",
            "<bos> i have a secretary . learned german on my own toe . <eos>\n",
            "<bos> i have a green temper . <eos>\n",
            "<bos> i have a boyfriend , last month . i love bitcoins show with a dead ! <eos>\n",
            "<bos> i have a boyfriend i do not . <eos>\n",
            "\n",
            "Temperature 0.50\n",
            "<bos> i have a dog but i love to sing . <eos>\n",
            "<bos> i have a cat named cow . <eos>\n",
            "<bos> i have a bunch of friends . <eos>\n",
            "<bos> i have a cat named cow . <eos>\n",
            "<bos> i have a lot of friends and family . i do not know how to make it . <eos>\n",
            "\n",
            "Temperature 0.10\n",
            "<bos> i have a cat named cow . <eos>\n",
            "<bos> i have a dog named toto . <eos>\n",
            "<bos> i have a cat named cow . <eos>\n",
            "<bos> i have a dog named toto . <eos>\n",
            "<bos> i have a cat named cow . <eos>\n",
            "\n"
          ],
          "name": "stdout"
        }
      ]
    },
    {
      "cell_type": "code",
      "metadata": {
        "colab_type": "code",
        "id": "uzGqlrKhbj_g",
        "colab": {}
      },
      "source": [
        "# Saving the model\n",
        "if False:\n",
        "    torch.save({\n",
        "        'options': options,\n",
        "        'loss_cache': plot_cache,\n",
        "        'model_dict': model.state_dict()\n",
        "    }, './static_files/persona_rnn_lm.pt')"
      ],
      "execution_count": 0,
      "outputs": []
    },
    {
      "cell_type": "markdown",
      "metadata": {
        "id": "TvZhhApD4b48",
        "colab_type": "raw"
      },
      "source": [
        ""
      ]
    },
    {
      "cell_type": "markdown",
      "metadata": {
        "id": "_txPtVQd4b48",
        "colab_type": "text"
      },
      "source": [
        "## Large-scale Language Modeling: GPT-2\n",
        "\n",
        "The language model above is relatively small in terms of the number of parameters, and is trained on a (very) small dataset.\n",
        "\n",
        "Recently, researchers have trained **large-scale language models** on **large amounts of data**, resulting in improved language modeling and generation ability. \n",
        "\n",
        "A representative example is **GPT-2** [[paper](https://cdn.openai.com/better-language-models/language_models_are_unsupervised_multitask_learners.pdf)], [[blog](https://openai.com/blog/better-language-models/)]. We won't currently discuss the details of this model, but we can easily **use a pre-trained version to generate text**:"
      ]
    },
    {
      "cell_type": "code",
      "metadata": {
        "id": "lDX1C4LK4b49",
        "colab_type": "code",
        "outputId": "52ef8148-4774-401b-9824-28f9bbdd5b4d",
        "colab": {
          "base_uri": "https://localhost:8080/",
          "height": 710
        }
      },
      "source": [
        "!pip install transformers"
      ],
      "execution_count": 0,
      "outputs": [
        {
          "output_type": "stream",
          "text": [
            "Collecting transformers\n",
            "\u001b[?25l  Downloading https://files.pythonhosted.org/packages/13/33/ffb67897a6985a7b7d8e5e7878c3628678f553634bd3836404fef06ef19b/transformers-2.5.1-py3-none-any.whl (499kB)\n",
            "\u001b[K     |████████████████████████████████| 501kB 2.7MB/s \n",
            "\u001b[?25hRequirement already satisfied: regex!=2019.12.17 in /usr/local/lib/python3.6/dist-packages (from transformers) (2019.12.20)\n",
            "Requirement already satisfied: tqdm>=4.27 in /usr/local/lib/python3.6/dist-packages (from transformers) (4.28.1)\n",
            "Collecting sacremoses\n",
            "\u001b[?25l  Downloading https://files.pythonhosted.org/packages/a6/b4/7a41d630547a4afd58143597d5a49e07bfd4c42914d8335b2a5657efc14b/sacremoses-0.0.38.tar.gz (860kB)\n",
            "\u001b[K     |████████████████████████████████| 870kB 9.3MB/s \n",
            "\u001b[?25hCollecting tokenizers==0.5.2\n",
            "\u001b[?25l  Downloading https://files.pythonhosted.org/packages/d1/3f/73c881ea4723e43c1e9acf317cf407fab3a278daab3a69c98dcac511c04f/tokenizers-0.5.2-cp36-cp36m-manylinux1_x86_64.whl (3.7MB)\n",
            "\u001b[K     |████████████████████████████████| 3.7MB 19.9MB/s \n",
            "\u001b[?25hCollecting sentencepiece\n",
            "\u001b[?25l  Downloading https://files.pythonhosted.org/packages/74/f4/2d5214cbf13d06e7cb2c20d84115ca25b53ea76fa1f0ade0e3c9749de214/sentencepiece-0.1.85-cp36-cp36m-manylinux1_x86_64.whl (1.0MB)\n",
            "\u001b[K     |████████████████████████████████| 1.0MB 42.8MB/s \n",
            "\u001b[?25hRequirement already satisfied: filelock in /usr/local/lib/python3.6/dist-packages (from transformers) (3.0.12)\n",
            "Requirement already satisfied: boto3 in /usr/local/lib/python3.6/dist-packages (from transformers) (1.11.15)\n",
            "Requirement already satisfied: requests in /usr/local/lib/python3.6/dist-packages (from transformers) (2.21.0)\n",
            "Requirement already satisfied: numpy in /usr/local/lib/python3.6/dist-packages (from transformers) (1.17.5)\n",
            "Requirement already satisfied: six in /usr/local/lib/python3.6/dist-packages (from sacremoses->transformers) (1.12.0)\n",
            "Requirement already satisfied: click in /usr/local/lib/python3.6/dist-packages (from sacremoses->transformers) (7.0)\n",
            "Requirement already satisfied: joblib in /usr/local/lib/python3.6/dist-packages (from sacremoses->transformers) (0.14.1)\n",
            "Requirement already satisfied: botocore<1.15.0,>=1.14.15 in /usr/local/lib/python3.6/dist-packages (from boto3->transformers) (1.14.15)\n",
            "Requirement already satisfied: jmespath<1.0.0,>=0.7.1 in /usr/local/lib/python3.6/dist-packages (from boto3->transformers) (0.9.4)\n",
            "Requirement already satisfied: s3transfer<0.4.0,>=0.3.0 in /usr/local/lib/python3.6/dist-packages (from boto3->transformers) (0.3.3)\n",
            "Requirement already satisfied: idna<2.9,>=2.5 in /usr/local/lib/python3.6/dist-packages (from requests->transformers) (2.8)\n",
            "Requirement already satisfied: chardet<3.1.0,>=3.0.2 in /usr/local/lib/python3.6/dist-packages (from requests->transformers) (3.0.4)\n",
            "Requirement already satisfied: certifi>=2017.4.17 in /usr/local/lib/python3.6/dist-packages (from requests->transformers) (2019.11.28)\n",
            "Requirement already satisfied: urllib3<1.25,>=1.21.1 in /usr/local/lib/python3.6/dist-packages (from requests->transformers) (1.24.3)\n",
            "Requirement already satisfied: docutils<0.16,>=0.10 in /usr/local/lib/python3.6/dist-packages (from botocore<1.15.0,>=1.14.15->boto3->transformers) (0.15.2)\n",
            "Requirement already satisfied: python-dateutil<3.0.0,>=2.1 in /usr/local/lib/python3.6/dist-packages (from botocore<1.15.0,>=1.14.15->boto3->transformers) (2.6.1)\n",
            "Building wheels for collected packages: sacremoses\n",
            "  Building wheel for sacremoses (setup.py) ... \u001b[?25l\u001b[?25hdone\n",
            "  Created wheel for sacremoses: filename=sacremoses-0.0.38-cp36-none-any.whl size=884628 sha256=f0277bd058975715ea2f78947a2ee8b642c5429a8ad86ac0300edce1893ef679\n",
            "  Stored in directory: /root/.cache/pip/wheels/6d/ec/1a/21b8912e35e02741306f35f66c785f3afe94de754a0eaf1422\n",
            "Successfully built sacremoses\n",
            "Installing collected packages: sacremoses, tokenizers, sentencepiece, transformers\n",
            "Successfully installed sacremoses-0.0.38 sentencepiece-0.1.85 tokenizers-0.5.2 transformers-2.5.1\n"
          ],
          "name": "stdout"
        }
      ]
    },
    {
      "cell_type": "markdown",
      "metadata": {
        "id": "t4MkwxCI4b5A",
        "colab_type": "text"
      },
      "source": [
        "#### Load the model and tokenizer"
      ]
    },
    {
      "cell_type": "code",
      "metadata": {
        "id": "mjOgoR1B4b5C",
        "colab_type": "code",
        "outputId": "5abefd0b-eda0-4c81-b9d1-6d635cbb648d",
        "colab": {
          "base_uri": "https://localhost:8080/",
          "height": 265,
          "referenced_widgets": [
            "5879bfd9b82c4705a734ac4963a1226b",
            "2d3fbe356c65460ebe48fd49e23b1a49",
            "ade0ab9c70c0446f8f4b65301101218f",
            "2e3576e3f65e457fb1718a660e1f24eb",
            "3133ecccd10542f7af94ebdff64bd88a",
            "e3029176608b45e7b33d101e5993fca1",
            "15e83138b2e243f2a11049da12e8302d",
            "938f39f6791f4e4a9eec3f46161f9637",
            "62e4ffd653014ba4a1a43922535f2554",
            "c5c2adc739e54c3891813fb81569e2e5",
            "f5eff2fd6a2e41b58219097df67157ad",
            "36a2008cf2f2404ea25f87bdaab42071",
            "95a2f607581840a7b75458d44d054f19",
            "9bb05512e09f4cffa8bfd868fef02361",
            "7f7af0b8146b4b0e925d5654ed2b9f0d",
            "d418b97cf78745deae49e8a3ed440db2",
            "eb60f197e90346a189456d2ffc6cdf62",
            "a6bed80c8ce64835a8a6ca0eb8bec8ea",
            "e290bbf4c40f4789a135c130601a4e38",
            "a911dae024014ff6a1f54c8ac001b73e",
            "870cc4cb1a4e4e868a83c6c52d1ab0af",
            "f848ead08a1842f09f1acf4c99cfa7c9",
            "8fb282319947496b8120f009390f7694",
            "460a0a6edb4e45138c9536553c95b187",
            "d9acdfe860964854a4f7a2267fc44c2f",
            "4c7d05831d3a4d8c811322cec1f0d9bf",
            "dbc26837ecd240748e97c857fef7a973",
            "b8f8b9ff37784cebbc8b8adb4c78c9b3",
            "eaba5d1e1fa24a59a76e52950faaa217",
            "118fc029ede141eab76cf07a3b84b53c",
            "bd9306b94d4b40be889447dbb357df8d",
            "ccfdd2e0f8434eee9d9891ab4fe7bb8f"
          ]
        }
      },
      "source": [
        "import torch\n",
        "from transformers import (\n",
        "    GPT2LMHeadModel,\n",
        "    GPT2Tokenizer\n",
        ")\n",
        "\n",
        "device = torch.device('cpu') if not torch.cuda.is_available() else torch.device('cuda:0')\n",
        "\n",
        "tokenizer = GPT2Tokenizer.from_pretrained(\"gpt2\")\n",
        "model = GPT2LMHeadModel.from_pretrained(\"gpt2\")\n",
        "model.to(device);"
      ],
      "execution_count": 0,
      "outputs": [
        {
          "output_type": "display_data",
          "data": {
            "text/html": [
              "<p style=\"color: red;\">\n",
              "The default version of TensorFlow in Colab will soon switch to TensorFlow 2.x.<br>\n",
              "We recommend you <a href=\"https://www.tensorflow.org/guide/migrate\" target=\"_blank\">upgrade</a> now \n",
              "or ensure your notebook will continue to use TensorFlow 1.x via the <code>%tensorflow_version 1.x</code> magic:\n",
              "<a href=\"https://colab.research.google.com/notebooks/tensorflow_version.ipynb\" target=\"_blank\">more info</a>.</p>\n"
            ],
            "text/plain": [
              "<IPython.core.display.HTML object>"
            ]
          },
          "metadata": {
            "tags": []
          }
        },
        {
          "output_type": "display_data",
          "data": {
            "application/vnd.jupyter.widget-view+json": {
              "model_id": "5879bfd9b82c4705a734ac4963a1226b",
              "version_minor": 0,
              "version_major": 2
            },
            "text/plain": [
              "HBox(children=(IntProgress(value=0, description='Downloading', max=1042301, style=ProgressStyle(description_wi…"
            ]
          },
          "metadata": {
            "tags": []
          }
        },
        {
          "output_type": "stream",
          "text": [
            "\n"
          ],
          "name": "stdout"
        },
        {
          "output_type": "display_data",
          "data": {
            "application/vnd.jupyter.widget-view+json": {
              "model_id": "62e4ffd653014ba4a1a43922535f2554",
              "version_minor": 0,
              "version_major": 2
            },
            "text/plain": [
              "HBox(children=(IntProgress(value=0, description='Downloading', max=456318, style=ProgressStyle(description_wid…"
            ]
          },
          "metadata": {
            "tags": []
          }
        },
        {
          "output_type": "stream",
          "text": [
            "\n"
          ],
          "name": "stdout"
        },
        {
          "output_type": "display_data",
          "data": {
            "application/vnd.jupyter.widget-view+json": {
              "model_id": "eb60f197e90346a189456d2ffc6cdf62",
              "version_minor": 0,
              "version_major": 2
            },
            "text/plain": [
              "HBox(children=(IntProgress(value=0, description='Downloading', max=224, style=ProgressStyle(description_width=…"
            ]
          },
          "metadata": {
            "tags": []
          }
        },
        {
          "output_type": "stream",
          "text": [
            "\n"
          ],
          "name": "stdout"
        },
        {
          "output_type": "display_data",
          "data": {
            "application/vnd.jupyter.widget-view+json": {
              "model_id": "d9acdfe860964854a4f7a2267fc44c2f",
              "version_minor": 0,
              "version_major": 2
            },
            "text/plain": [
              "HBox(children=(IntProgress(value=0, description='Downloading', max=548118077, style=ProgressStyle(description_…"
            ]
          },
          "metadata": {
            "tags": []
          }
        },
        {
          "output_type": "stream",
          "text": [
            "\n"
          ],
          "name": "stdout"
        }
      ]
    },
    {
      "cell_type": "markdown",
      "metadata": {
        "id": "7_jdurOM4b5F",
        "colab_type": "text"
      },
      "source": [
        "#### Generate (Sampling)\n",
        "\n",
        "We'll talk about other ways to generate later in the course."
      ]
    },
    {
      "cell_type": "code",
      "metadata": {
        "id": "eD4o1XKe4b5G",
        "colab_type": "code",
        "outputId": "cc9f26f8-b557-46ab-a7c3-40a74247a7bd",
        "colab": {
          "base_uri": "https://localhost:8080/",
          "height": 419
        }
      },
      "source": [
        "prefix = 'My favorite food is'\n",
        "\n",
        "max_length = 100\n",
        "num_samples = 5\n",
        "\n",
        "inp = torch.tensor([tokenizer.encode(prefix)], device=device).repeat(num_samples, 1)\n",
        "\n",
        "out = model.generate(\n",
        "    input_ids=inp,\n",
        "    do_sample=True,\n",
        "    max_length=max_length\n",
        ")\n",
        "\n",
        "for i in range(num_samples):\n",
        "    sample = tokenizer.decode(out[i])\n",
        "    print(sample)\n",
        "    print('---------------------------------------------------')"
      ],
      "execution_count": 0,
      "outputs": [
        {
          "output_type": "stream",
          "text": [
            "My favorite food is the chicken breast. My mom made it when she was a kid -- she had to come out from her mother's basement and eat it. She brought it to a farmer named Tom who gave it to her two young sisters who grew up under her, so that they could eat and share it with each other. When she returned, she had a chicken breast that she'd kept for the girls that are now six, so my own. But it wasn't like any other thing.\n",
            "---------------------------------------------------\n",
            "My favorite food is that sweet, crunchy sweet bean pudding. These little rolls are easy to make, but I do use a low fat milk and some vanilla in my mornings as well.\n",
            "\n",
            "If you're thinking about making these, I suggest you skip the cream sauce, a good low carb option! Not only will the flavor be lighter and sweeter, but it will also make a little more protein, which is helpful!\n",
            "\n",
            "I really wanted to have a bowl of that sweet bean\n",
            "---------------------------------------------------\n",
            "My favorite food is from the Midwest, so why not try it here again sometime? My son never stops saying \"This is so cute. I'd love this to be there\". And you don't even have to drive a car to the place – just say \"This is in an area known well for the weather. Good for making ice cream.\"\n",
            "\n",
            "So we are looking for a local ice cream place. If you know about the places near you feel will be a great location for you go\n",
            "---------------------------------------------------\n",
            "My favorite food is pork belly soup. With a touch of a garlic pickle sauce, it is all hearty and tender. You'll love it if a bowl of soup with pork belly is all you need.\n",
            "\n",
            "\n",
            "The Best BBQ Buns for A Friend! Here we go<|endoftext|>The National Security Agency's (NSA) \"sweeping\" wiretaps and other surveillance programs have allowed the agency to obtain new details about suspects in terrorism investigations, and even to collect information on people who remain non-\n",
            "---------------------------------------------------\n",
            "My favorite food is definitely a new one. I didn't have to pay for the chicken or potatoes, but I enjoyed them. I may have to change my diet to not eat these too much because I am not used to eating whole meat or vegans. So I will not return to the dish if you return the chicken or potatoes, because that's my choice.\n",
            "When this vegan burger had a chance to stand out (a great place to try a dish, if you get interested):\n",
            "\n",
            "---------------------------------------------------\n"
          ],
          "name": "stdout"
        }
      ]
    },
    {
      "cell_type": "code",
      "metadata": {
        "id": "et-AQWQW4b5I",
        "colab_type": "code",
        "colab": {}
      },
      "source": [
        ""
      ],
      "execution_count": 0,
      "outputs": []
    }
  ]
}